{
 "cells": [
  {
   "cell_type": "markdown",
   "metadata": {},
   "source": [
    "## Домашнее задание 3\n",
    "### Выполнил: \n",
    "    -> Башаров Илья Валерьевич\n",
    "    -> ilya.basharov.98@mail.ru"
   ]
  },
  {
   "cell_type": "markdown",
   "metadata": {},
   "source": [
    "##### 0.1 Скачаем и разорхивируем данные"
   ]
  },
  {
   "cell_type": "code",
   "execution_count": 4,
   "metadata": {
    "tags": []
   },
   "outputs": [
    {
     "name": "stdout",
     "output_type": "stream",
     "text": [
      "Archive:  corpora.zip\n",
      "  inflating: corpora/AnnaKarenina.txt  \n",
      "  inflating: corpora/WarAndPeace.txt  \n",
      "  inflating: corpora/WarAndPeaceEng.txt  \n"
     ]
    },
    {
     "name": "stderr",
     "output_type": "stream",
     "text": [
      "2021-05-29 18:18:39 URL:https://uc7368c4e3c341f191c2cb303d24.dl.dropboxusercontent.com/cd/0/inline2/BPZ2f6BTZT4x8H4ImkXCOozr-j1WRy10GrBxjQ_HQw2ExvQwVCnqoiCgKSRf8GieHJGEtpuSdFT3yM3dDi2WBVPcQMgFMOwHP7bnVXlOnsz26WQc4vtTnnB5DHQ_U_EF6NroOJCiRQrlZML8wIKGY83p3QB6wKAQoY6VE6IKlQN3K7MWbweoa7geIqd_rxvJTbsOzah-ak9PW8F9Y60MxFqR0Crd1WdqpLXpH-5FqFOYR0iNSGSzgh3QmF3FAsjbytYILT5_juaORaaLiCS-2VcPPnj5FRl0yi6b8s9ewLNzYv2Cn2ai6VH3OugoN9jyGFHT0T3oEprE3rx-vYVgDRskkF07Mr9ysHmtrWVjstP6yqdabJXHE5YoW7D37AmWMCA/file [2434585/2434585] -> \"corpora.zip\" [1]\n"
     ]
    }
   ],
   "source": [
    "%%bash\n",
    "\n",
    "wget --no-verbose https://www.dropbox.com/s/k23enjvr3fb40o5/corpora.zip -O corpora.zip\n",
    "unzip corpora.zip -d corpora/\n",
    "rm corpora.zip"
   ]
  },
  {
   "cell_type": "markdown",
   "metadata": {},
   "source": [
    "##### 0.2 Импортируем нужные библиотеки"
   ]
  },
  {
   "cell_type": "code",
   "execution_count": 32,
   "metadata": {},
   "outputs": [],
   "source": [
    "import re\n",
    "import os\n",
    "import copy\n",
    "import tqdm\n",
    "import nltk\n",
    "import collections\n",
    "import numpy as np\n",
    "\n",
    "import matplotlib.pyplot as plt"
   ]
  },
  {
   "cell_type": "code",
   "execution_count": 2,
   "metadata": {},
   "outputs": [],
   "source": [
    "SEED = 0\n",
    "DATASET_PATH = 'corpora'\n",
    "DICTIONARY = ' абвгдежзийклмнопрстуфхцчшщъыьэюя'\n",
    "\n",
    "np.random.seed(SEED)"
   ]
  },
  {
   "cell_type": "markdown",
   "metadata": {},
   "source": [
    "### 1. Реализуйте базовый частотный метод по Шерлоку Холмсу"
   ]
  },
  {
   "cell_type": "markdown",
   "metadata": {},
   "source": [
    "##### 1.1 подсчитайте частоты букв по корпусам (пунктуацию и капитализацию можно просто опустить, а вот пробелы лучше оставить)"
   ]
  },
  {
   "cell_type": "code",
   "execution_count": 3,
   "metadata": {},
   "outputs": [],
   "source": [
    "def filter_and_tokenize(\n",
    "    text: str,\n",
    "    dictionary: str = DICTIONARY,\n",
    "    pattern: re.Pattern = re.compile(r'\\w+'),\n",
    ") -> str:\n",
    "    \n",
    "    lower_dict_text = ''.join(\n",
    "        char\n",
    "        for char in text.lower()\n",
    "        if char in dictionary\n",
    "    )\n",
    "    \n",
    "    tokenized = ' '.join(\n",
    "        re.findall(pattern, lower_dict_text)\n",
    "    )\n",
    "    \n",
    "    return tokenized\n",
    "\n",
    "def compute_frequencies(\n",
    "    text: str,\n",
    "    min_freq: float = 0.,\n",
    "    min_n_gram: int = 1,\n",
    "    max_n_gram: int = 1,\n",
    "    vocab: str = DICTIONARY,\n",
    "    smooth: bool = False,\n",
    ") -> dict:\n",
    "    \n",
    "    n_gram_sample = [\n",
    "        ''.join(n_gram_text)\n",
    "        for n_gram_text in nltk.everygrams(\n",
    "            sequence = text,\n",
    "            min_len = min_n_gram,\n",
    "            max_len = max_n_gram,\n",
    "        )\n",
    "    ]\n",
    "    vocab_size = len(vocab)**max_n_gram\n",
    "    \n",
    "    smooth_f = lambda x: (x + 1) / (len(n_gram_sample) + vocab_size) \\\n",
    "        if smooth else x / len(n_gram_sample)\n",
    "    \n",
    "    freqs = {\n",
    "        key: smooth_f(value)\n",
    "        for key, value in collections.Counter(n_gram_sample).items()\n",
    "        if smooth_f(value) > min_freq\n",
    "    }\n",
    "    \n",
    "    return freqs\n",
    "\n",
    "def create_random_mapping(\n",
    "    keys: list,\n",
    ") -> dict:\n",
    "    \n",
    "    random_keys = np.random.choice(\n",
    "        keys,\n",
    "        replace = False,\n",
    "        size = len(keys),\n",
    "    )\n",
    "    \n",
    "    mapping = {\n",
    "        old_char: new_char\n",
    "        for old_char, new_char in zip(keys, random_keys)\n",
    "    }\n",
    "    \n",
    "    return mapping\n",
    "\n",
    "def apply_random_mapping(\n",
    "    text: str,\n",
    "    mapping: dict,\n",
    ") -> str:\n",
    "    \n",
    "    new_text = ''.join(\n",
    "        mapping.get(char, 'ь')\n",
    "        for char in text\n",
    "    )\n",
    "    \n",
    "    return new_text\n",
    "\n",
    "def find_mapping_link(\n",
    "    main_text_freq: dict,\n",
    "    tmp_text_freq: dict,\n",
    "    n_gram: int = 1,\n",
    ") -> dict:\n",
    "    \n",
    "    def distance(\n",
    "        tmp_char_freq: float,\n",
    "        main_char_freq: float,\n",
    "    ) -> float:\n",
    "        \n",
    "        dist = abs(main_char_freq - tmp_char_freq)\n",
    "        return dist\n",
    "    \n",
    "    mapping_link = dict()\n",
    "    expand_dim = lambda x: x if n_gram > 1 else (x, )\n",
    "    \n",
    "    for tmp_n_gram in tmp_text_freq:\n",
    "        \n",
    "        expanded_tmp = expand_dim(tmp_n_gram)\n",
    "        main_freq = copy.copy(main_text_freq)\n",
    "        \n",
    "        if main_freq:\n",
    "            best_fitted_char = min(\n",
    "                main_freq,\n",
    "                key = lambda x: distance(tmp_text_freq[tmp_n_gram], main_freq[x]) \n",
    "            )\n",
    "\n",
    "            expanded_best = expand_dim(best_fitted_char)\n",
    "        else:\n",
    "            expanded_best = [None]*n_gram\n",
    "        \n",
    "        for gram_tmp, gram_best in zip(expanded_tmp, expanded_best):\n",
    "            if gram_tmp not in mapping_link:\n",
    "                mapping_link[gram_tmp] = gram_best\n",
    "        \n",
    "    return mapping_link\n",
    "\n",
    "def accuracy(\n",
    "    text1: str,\n",
    "    text2: str,\n",
    ") -> float:\n",
    "    \n",
    "    assert len(text1) == len(text2), 'Lenghts should be the same'\n",
    "    \n",
    "    all_true = sum(\n",
    "        c1 == c2\n",
    "        for c1, c2 in zip(text1, text2)\n",
    "    )\n",
    "    \n",
    "    acc = all_true / len(text1)\n",
    "    \n",
    "    return acc"
   ]
  },
  {
   "cell_type": "code",
   "execution_count": 4,
   "metadata": {},
   "outputs": [],
   "source": [
    "with open(os.path.join(DATASET_PATH, 'AnnaKarenina.txt') ,'r') as file:\n",
    "    anna_karenina = ' '.join(file.readlines())\n",
    "    \n",
    "with open(os.path.join(DATASET_PATH, 'WarAndPeace.txt') ,'r') as file:\n",
    "    war_and_peace = ' '.join(file.readlines())\n",
    "\n",
    "with open(os.path.join(DATASET_PATH, 'SomeText.txt') ,'r') as file:\n",
    "    some_text = ' '.join(file.readlines())\n",
    "\n",
    "all_corpus = anna_karenina + war_and_peace"
   ]
  },
  {
   "cell_type": "code",
   "execution_count": 5,
   "metadata": {},
   "outputs": [],
   "source": [
    "tokenized_corpus = filter_and_tokenize(all_corpus)\n",
    "corpus_freqs = compute_frequencies(tokenized_corpus)\n",
    "alphabet = list(corpus_freqs.keys())\n",
    "mapping = create_random_mapping(alphabet)"
   ]
  },
  {
   "cell_type": "markdown",
   "metadata": {},
   "source": [
    "##### 1.2 возьмите какие-нибудь тестовые тексты (нужно взять по меньшей мере 2-3 предложения, иначе вряд ли сработает), зашифруйте их посредством случайной перестановки символов"
   ]
  },
  {
   "cell_type": "code",
   "execution_count": 6,
   "metadata": {},
   "outputs": [
    {
     "data": {
      "text/plain": [
       "'как ни старались люди собравшись в одно небольшое место несколько сот тысяч изуродовать ту землю на которой они жались как ни забивали камнями землю чтобы ничего не росло на ней как ни счищали всякую пробивающуюся травку как ни дымили каменным углем и нефтью как ни обрезывали деревья и ни выгоняли всех животных и птиц весна была весною даже и в городе солнце грело трава оживая росла и зеленела везде где только не соскребли ее не только на газонах бульваров но и между плитами камней и березы тополи черемуха распускали свои клейкие и пахучие листья липы надували лопавшиеся почки галки воробьи и голуби повесеннему радостно готовили уже гнезда и мухи жужжали у стен пригретые солнцем веселы были и растения и птицы и насекомые и дети но люди большие взрослые люди не переставали обманывать и мучать себя и друг друга люди считали что священно и важно не это весеннее утро не эта красота мира божия данная для блага всех существ красота располагающая к миру согласию и любви а священно и важно то чт они сами выдумали чтобы властвовать друг над другом'"
      ]
     },
     "execution_count": 6,
     "metadata": {},
     "output_type": "execute_result"
    }
   ],
   "source": [
    "tokenized_text = filter_and_tokenize(some_text)\n",
    "encoded_text = apply_random_mapping(tokenized_text, mapping)\n",
    "text_freqs = compute_frequencies(encoded_text)\n",
    "tokenized_text"
   ]
  },
  {
   "cell_type": "code",
   "execution_count": 7,
   "metadata": {},
   "outputs": [
    {
     "data": {
      "text/plain": [
       "'ьмьпяупюхм меуютпещсупюлэ мбыуютпбплсялпяжэлетылжпфжюхлпяжюьлетьлпюлхпхвюнйпуъч лслбмхтпхчпъжфещпямпьлхл липляупшмеуютпьмьпяупъмэубмеупьмфянфупъжфещпйхлэвпяуйжцлпяжп люелпямпяжипьмьпяупюйукмеупбюньчщпг лэубмщкчщюнпх мбьчпьмьпяупсвфуеупьмфжяявфпчцежфпупяжрхтщпьмьпяуплэ жъвбмеупсж жбтнпупяупбвцлянеупбюждпшублхявдпупгхуопбжюямпэвемпбжюялщпсмшжпупбпцл лсжпюлеяожпц желпх мбмплшубмнп люемпупъжежяжемпбжъсжпцсжпхлетьлпяжпюлюь жэеупжжпяжпхлетьлпямпцмълямдпэчетбм лбпялпупфжшсчпгеухмфупьмфяжипупэж жъвпхлглеупйж жфчдмп мюгчюьмеупюблупьежиьужпупгмдчйужпеуюхтнпеугвпямсчбмеупелгмбыужюнпглйьупцмеьупбл лэтупупцлечэупглбжюжяяжфчп мслюхялпцлхлбуеупчшжпцяжъсмпупфчдупшчшшмеупчпюхжяпг уц жхвжпюлеяожфпбжюжевпэвеупуп мюхжяунпупгхуовпупямюжьлфвжпупсжхупялпещсупэлетыужпбъ люевжпещсупяжпгж жюхмбмеуплэфмявбмхтпупфчймхтпюжэнпупс чцпс чцмпещсупюйухмеупйхлпюбнкжяялпупбмшялпяжпзхлпбжюжяяжжпчх лпяжпзхмпь мюлхмпфу мпэлшунпсмяямнпсенпэемцмпбюждпючкжюхбпь мюлхмп мюглемцмщкмнпьпфу чпюлцемюущпупещэбупмпюбнкжяялпупбмшялпхлпйхпляупюмфупбвсчфмеупйхлэвпбемюхблбмхтпс чцпямспс чцлф'"
      ]
     },
     "execution_count": 7,
     "metadata": {},
     "output_type": "execute_result"
    }
   ],
   "source": [
    "encoded_text"
   ]
  },
  {
   "cell_type": "markdown",
   "metadata": {},
   "source": [
    "##### 1.3 расшифруйте их таким частотным методом"
   ]
  },
  {
   "cell_type": "code",
   "execution_count": 8,
   "metadata": {},
   "outputs": [
    {
     "data": {
      "text/plain": [
       "'кек ие сверетесь тчме саяревэесь в амиа иаяатьэаа уасва иаскатька сав вясьч еждрамавевь вд жаутч ие кавараэ аие четесь кек ие жеяевете кеуиьуе жаутч чваяя иечаяа иа раста ие иаэ кек ие счеюете вськдч чраяевечюдчсь вревкд кек ие мяуете кеуаиияу дятау е иафвьч кек ие аяражявете маравьь е ие вяяаиьте всах чевавиях е чвеэ васие яяте васиач меча е в яарама сатиэа ярата вреве ачевеь расте е жатаиате важма яма ватька иа саскраяте аа иа ватька ие яежаиех ядтьверав иа е уачмд чтевеуе кеуиаэ е яаражя вачате чараудхе ресчдскете свае ктаэкеа е чехдчеа тесвьь течя иемдвете тачевэеась чачке яетке вараяье е яатдяе чавасаииауд ремасвиа яававете дча яиажме е удхе чдччете д сваи чреяравяа сатиэау васатя яяте е ресваиеь е чвеэя е иесакауяа е маве иа тчме яатьэеа вжрастяа тчме иа чарасвевете аяуеиявевь е удчевь саяь е мрдя мрдяе тчме счевете чва свьюаииа е вечиа иа щва васаииаа двра иа щве кресаве уере яачеь меииеь мть ятеяе всах сдюасвв кресаве ресчатеяечюеь к уерд саятесеч е тчяве е свьюаииа е вечиа ва чв аие сеуе вямдуете чваяя втесввавевь мрдя ием мрдяау'"
      ]
     },
     "execution_count": 8,
     "metadata": {},
     "output_type": "execute_result"
    }
   ],
   "source": [
    "reverse_mapping = find_mapping_link(corpus_freqs, text_freqs, n_gram=False)\n",
    "decoded_text = apply_random_mapping(encoded_text, reverse_mapping)\n",
    "decoded_text"
   ]
  },
  {
   "cell_type": "code",
   "execution_count": 9,
   "metadata": {},
   "outputs": [
    {
     "data": {
      "text/plain": [
       "0.3519924098671727"
      ]
     },
     "execution_count": 9,
     "metadata": {},
     "output_type": "execute_result"
    }
   ],
   "source": [
    "accuracy(tokenized_text, decoded_text)"
   ]
  },
  {
   "cell_type": "markdown",
   "metadata": {},
   "source": [
    "$\\textbf{Вывод}$: текст прочитать трудно, $\\textbf{35%}$ качество предсказаний. Идем дальше!"
   ]
  },
  {
   "cell_type": "markdown",
   "metadata": {},
   "source": [
    "### 2. Сделаем более интеллектуальный анализ"
   ]
  },
  {
   "cell_type": "markdown",
   "metadata": {},
   "source": [
    "##### 1.1 подсчитайте частоты биграмм (т.е. пар последовательных букв) по корпусам"
   ]
  },
  {
   "cell_type": "code",
   "execution_count": 10,
   "metadata": {},
   "outputs": [],
   "source": [
    "corpus_freqs_bigram = compute_frequencies(tokenized_corpus, min_n_gram=2, max_n_gram=2)\n",
    "text_freqs_bigram = compute_frequencies(tokenized_text, min_n_gram=2, max_n_gram=2)"
   ]
  },
  {
   "cell_type": "markdown",
   "metadata": {},
   "source": [
    "Текст оставляем тот же"
   ]
  },
  {
   "cell_type": "code",
   "execution_count": 11,
   "metadata": {},
   "outputs": [
    {
     "data": {
      "text/plain": [
       "'как ни старались люди собравшись в одно небольшое место несколько сот тысяч изуродовать ту землю на которой они жались как ни забивали камнями землю чтобы ничего не росло на ней как ни счищали всякую пробивающуюся травку как ни дымили каменным углем и нефтью как ни обрезывали деревья и ни выгоняли всех животных и птиц весна была весною даже и в городе солнце грело трава оживая росла и зеленела везде где только не соскребли ее не только на газонах бульваров но и между плитами камней и березы тополи черемуха распускали свои клейкие и пахучие листья липы надували лопавшиеся почки галки воробьи и голуби повесеннему радостно готовили уже гнезда и мухи жужжали у стен пригретые солнцем веселы были и растения и птицы и насекомые и дети но люди большие взрослые люди не переставали обманывать и мучать себя и друг друга люди считали что священно и важно не это весеннее утро не эта красота мира божия данная для блага всех существ красота располагающая к миру согласию и любви а священно и важно то чт они сами выдумали чтобы властвовать друг над другом'"
      ]
     },
     "execution_count": 11,
     "metadata": {},
     "output_type": "execute_result"
    }
   ],
   "source": [
    "tokenized_text"
   ]
  },
  {
   "cell_type": "code",
   "execution_count": 12,
   "metadata": {},
   "outputs": [
    {
     "data": {
      "text/plain": [
       "'ьмьпяупюхм меуютпещсупюлэ мбыуютпбплсялпяжэлетылжпфжюхлпяжюьлетьлпюлхпхвюнйпуъч лслбмхтпхчпъжфещпямпьлхл липляупшмеуютпьмьпяупъмэубмеупьмфянфупъжфещпйхлэвпяуйжцлпяжп люелпямпяжипьмьпяупюйукмеупбюньчщпг лэубмщкчщюнпх мбьчпьмьпяупсвфуеупьмфжяявфпчцежфпупяжрхтщпьмьпяуплэ жъвбмеупсж жбтнпупяупбвцлянеупбюждпшублхявдпупгхуопбжюямпэвемпбжюялщпсмшжпупбпцл лсжпюлеяожпц желпх мбмплшубмнп люемпупъжежяжемпбжъсжпцсжпхлетьлпяжпюлюь жэеупжжпяжпхлетьлпямпцмълямдпэчетбм лбпялпупфжшсчпгеухмфупьмфяжипупэж жъвпхлглеупйж жфчдмп мюгчюьмеупюблупьежиьужпупгмдчйужпеуюхтнпеугвпямсчбмеупелгмбыужюнпглйьупцмеьупбл лэтупупцлечэупглбжюжяяжфчп мслюхялпцлхлбуеупчшжпцяжъсмпупфчдупшчшшмеупчпюхжяпг уц жхвжпюлеяожфпбжюжевпэвеупуп мюхжяунпупгхуовпупямюжьлфвжпупсжхупялпещсупэлетыужпбъ люевжпещсупяжпгж жюхмбмеуплэфмявбмхтпупфчймхтпюжэнпупс чцпс чцмпещсупюйухмеупйхлпюбнкжяялпупбмшялпяжпзхлпбжюжяяжжпчх лпяжпзхмпь мюлхмпфу мпэлшунпсмяямнпсенпэемцмпбюждпючкжюхбпь мюлхмп мюглемцмщкмнпьпфу чпюлцемюущпупещэбупмпюбнкжяялпупбмшялпхлпйхпляупюмфупбвсчфмеупйхлэвпбемюхблбмхтпс чцпямспс чцлф'"
      ]
     },
     "execution_count": 12,
     "metadata": {},
     "output_type": "execute_result"
    }
   ],
   "source": [
    "encoded_text"
   ]
  },
  {
   "cell_type": "code",
   "execution_count": 13,
   "metadata": {},
   "outputs": [
    {
     "data": {
      "text/plain": [
       "' л онюо елллпю оопювюо  елл ею оо о вн он е пое  ою  е он    по  о  еоен  юоюьюл в  леооеюоь юпюонло  е л ео нюоелпю оо л онюоьлею лпюо люн ююоь юпюоюе енонюю е он ол  п онлон ео л онюо ююглпюо    ююоюл ею люгюю  оелл  юо л онюовнююпюо лю нннюоюеп юоюон ееоюо л онюо ел ьн лпюов л  о оюонюо не н пюо   ноею  еннноюоюеюао   нлоенпло   н юовле оюо ое л в о  пна оел п оелл ло ею л ол  плоюоь п н пло  ьв оев ое по  он о    л епюо  он ое по  онлоель нлноеюпо лл  он оюою евюоюпюелююо люн еоюое л ьное ю пюою л ююнлолл юю  лпюо   юо п е ю оюоюлнююю опю ео опююнонлвю лпюоп юл ею   ою ю юоелп юо  л еоюоюое пюеюою     нн ююоллв  ен ое е  юпюоюе оен ьвлоюоююнюоеюеелпюоюо е ноюлюел ен о  пна юо    пноенпюоюолл е ню оюоюеюаноюонл    юн оюов еюон опювюое поею о ьл  пн опювюон ою л  ел лпюо еюлнн леооюоюююлеоо  е оюовлюеовлюелопювюо ююелпюоюе о   г нн оюо лен он оюе о    нн  оюел он оюело лл  елоююллое ею овлннл овп оеплело   но юг  е о лл  елолл ю плелюгл о оююлюо  епл ююоюопюе юоло   г нн оюо лен ое оюео нюо лююо нвююлпюоюе ено пл е   леоовлюеонлвовлюе ю'"
      ]
     },
     "execution_count": 13,
     "metadata": {},
     "output_type": "execute_result"
    }
   ],
   "source": [
    "reverse_mapping = find_mapping_link(corpus_freqs_bigram, text_freqs_bigram, n_gram=2)\n",
    "decoded_text = apply_random_mapping(encoded_text, reverse_mapping)\n",
    "decoded_text"
   ]
  },
  {
   "cell_type": "code",
   "execution_count": 14,
   "metadata": {},
   "outputs": [
    {
     "data": {
      "text/plain": [
       "0.06736242884250475"
      ]
     },
     "execution_count": 14,
     "metadata": {},
     "output_type": "execute_result"
    }
   ],
   "source": [
    "accuracy(tokenized_text, decoded_text)"
   ]
  },
  {
   "cell_type": "code",
   "execution_count": 15,
   "metadata": {},
   "outputs": [
    {
     "data": {
      "text/plain": [
       "'Была длина словаря 33, стала 841'"
      ]
     },
     "execution_count": 15,
     "metadata": {},
     "output_type": "execute_result"
    }
   ],
   "source": [
    "f'Была длина словаря {len(corpus_freqs)}, стала {len(corpus_freqs_bigram)}'"
   ]
  },
  {
   "cell_type": "markdown",
   "metadata": {},
   "source": [
    "Стало хуже. Биграмм больше, попасть по частоте в правильные - сложнее. Нужен текст сильно больше."
   ]
  },
  {
   "cell_type": "markdown",
   "metadata": {},
   "source": [
    "### 3. Но и это ещё не всё: биграммы скорее всего тоже далеко не всегда работают. "
   ]
  },
  {
   "cell_type": "markdown",
   "metadata": {},
   "source": [
    "##### 3.1 предложите метод обучения перестановки символов в этом задании, основанный на MCMC-сэмплировании, но по-прежнему работающий на основе статистики биграмм"
   ]
  },
  {
   "cell_type": "code",
   "execution_count": 16,
   "metadata": {},
   "outputs": [],
   "source": [
    "def get_text_proba(\n",
    "    text: str,\n",
    "    mapping: dict,\n",
    "    freqs: dict,\n",
    "    n_gram: int = 2,\n",
    "    vocab: str = DICTIONARY,\n",
    ") -> float:\n",
    "    \n",
    "    decoded_text = apply_random_mapping(text, mapping)\n",
    "    vocab_len, log_proba = len(vocab)**n_gram, 0\n",
    "    \n",
    "    for i in range(len(decoded_text) - n_gram):\n",
    "        gram = decoded_text[i: i + n_gram]\n",
    "        gram_proba = freqs.get(gram)\n",
    "        if gram_proba is None:\n",
    "            gram_proba = 1 / (len(text) + vocab_len)\n",
    "            \n",
    "        log_proba += np.log(gram_proba)\n",
    "        \n",
    "    return log_proba\n",
    "\n",
    "def get_reverse_mapping_mcmc(\n",
    "    encoded_text: str,\n",
    "    abc_encoded: str,\n",
    "    abc_corpus: str,\n",
    "    freqs_corpus: dict,\n",
    "    n_iters: int = 10000,\n",
    "    n_trials: int = 10,\n",
    "    n_gram: int = 2,\n",
    ") -> tuple:\n",
    "\n",
    "    accept_count = 0\n",
    "    best_mapping = None\n",
    "    all_mappings = []\n",
    "    best_log_likelihood = -np.inf\n",
    "\n",
    "    for trial in tqdm.tqdm(range(n_trials)):\n",
    "        \n",
    "        abc_encoded = list(abc_encoded)\n",
    "        abc_iter = list(abc_corpus)\n",
    "\n",
    "        reverse_mapping = {\n",
    "            key: value\n",
    "            for key, value in zip(abc_encoded, abc_corpus)\n",
    "        }\n",
    "        \n",
    "        log_proba_current = get_text_proba(\n",
    "            text = encoded_text,\n",
    "            mapping = reverse_mapping,\n",
    "            freqs = freqs_corpus,\n",
    "            n_gram = n_gram,\n",
    "        )\n",
    "\n",
    "        for i in range(n_iters):\n",
    "            \n",
    "            abc_proposal = abc_iter.copy()\n",
    "            \n",
    "            idx1, idx2 = np.random.choice(\n",
    "                range(len(abc_proposal)),\n",
    "                replace = False,\n",
    "                size = 2,\n",
    "            )\n",
    "            abc_proposal[idx1], abc_proposal[idx2] = abc_proposal[idx2], abc_proposal[idx1]\n",
    "            \n",
    "            reverse_mapping_proposal = {\n",
    "                key: value\n",
    "                for key, value in zip(abc_encoded, abc_proposal)\n",
    "            }\n",
    "            \n",
    "            log_proba_proposal = get_text_proba(\n",
    "                text = encoded_text,\n",
    "                mapping = reverse_mapping_proposal,\n",
    "                freqs = freqs_corpus,\n",
    "                n_gram = n_gram,\n",
    "            )\n",
    "\n",
    "            p_accept = np.exp(log_proba_proposal - log_proba_current)\n",
    "\n",
    "            if p_accept > np.random.rand():\n",
    "                accept_count += 1\n",
    "                abc_iter = abc_proposal\n",
    "                log_proba_current = log_proba_proposal\n",
    "                reverse_mapping = reverse_mapping_proposal\n",
    "\n",
    "        if log_proba_current > best_log_likelihood:\n",
    "            best_log_likelihood = log_proba_current\n",
    "            best_mapping = reverse_mapping\n",
    "            \n",
    "        all_mappings.append(reverse_mapping)\n",
    "\n",
    "    return best_mapping, best_log_likelihood"
   ]
  },
  {
   "cell_type": "code",
   "execution_count": 17,
   "metadata": {},
   "outputs": [],
   "source": [
    "freqs_corpus = compute_frequencies(\n",
    "    tokenized_corpus,\n",
    "    min_n_gram = 2,\n",
    "    max_n_gram = 2,\n",
    "    smooth = True,\n",
    ")"
   ]
  },
  {
   "cell_type": "code",
   "execution_count": 18,
   "metadata": {},
   "outputs": [
    {
     "name": "stderr",
     "output_type": "stream",
     "text": [
      "100%|██████████| 10/10 [02:27<00:00, 14.74s/it]\n"
     ]
    }
   ],
   "source": [
    "best_reverse_mapping, _ = get_reverse_mapping_mcmc(\n",
    "    encoded_text, \n",
    "    abc_encoded = DICTIONARY, \n",
    "    abc_corpus = DICTIONARY,\n",
    "    freqs_corpus = freqs_corpus,\n",
    ")"
   ]
  },
  {
   "cell_type": "code",
   "execution_count": 19,
   "metadata": {},
   "outputs": [],
   "source": [
    "decoded_text = apply_random_mapping(encoded_text, best_reverse_mapping)"
   ]
  },
  {
   "cell_type": "code",
   "execution_count": 20,
   "metadata": {},
   "outputs": [
    {
     "data": {
      "text/plain": [
       "'как ни старались люди собравшись в одно небольшое место несколько сот тысяч изуродовать ту землю на которой они жались как ни забивали камнями землю чтобы ничего не росло на ней как ни счиъали всякую пробиваюъуюся травку как ни дымили каменным углем и нещтью как ни обрезывали деревья и ни выгоняли всех животных и птиц весна была весною даже и в городе солнце грело трава оживая росла и зеленела везде где только не соскребли ее не только на газонах бульваров но и между плитами камней и березы тополи черемуха распускали свои клейкие и пахучие листья липы надували лопавшиеся почки галки воробьи и голуби повесеннему радостно готовили уже гнезда и мухи жужжали у стен пригретые солнцем веселы были и растения и птицы и насекомые и дети но люди большие взрослые люди не переставали обманывать и мучать себя и друг друга люди считали что свяъенно и важно не это весеннее утро не эта красота мира божия данная для блага всех суъеств красота располагаюъая к миру согласию и любви а свяъенно и важно то чт они сами выдумали чтобы властвовать друг над другом'"
      ]
     },
     "execution_count": 20,
     "metadata": {},
     "output_type": "execute_result"
    }
   ],
   "source": [
    "decoded_text"
   ]
  },
  {
   "cell_type": "code",
   "execution_count": 21,
   "metadata": {},
   "outputs": [
    {
     "data": {
      "text/plain": [
       "0.9933586337760911"
      ]
     },
     "execution_count": 21,
     "metadata": {},
     "output_type": "execute_result"
    }
   ],
   "source": [
    "accuracy(decoded_text, tokenized_text)"
   ]
  },
  {
   "cell_type": "markdown",
   "metadata": {},
   "source": [
    "Получилось очень даже ничего!"
   ]
  },
  {
   "cell_type": "markdown",
   "metadata": {},
   "source": [
    "### 4. Расшифруйте сообщение"
   ]
  },
  {
   "cell_type": "code",
   "execution_count": 22,
   "metadata": {},
   "outputs": [],
   "source": [
    "fake_message = '←⇠⇒↟↹↷⇊↹↷↟↤↟↨←↹↝⇛⇯↳⇴⇒⇈↝⇊↾↹↟⇒↟↹⇷⇛⇞↨↟↹↝⇛⇯↳⇴⇒⇈↝⇊↾↹↨←⇌⇠↨↹⇙↹⇸↨⇛↙⇛↹⇠⇛⇛↲⇆←↝↟↞↹⇌⇛↨⇛⇯⇊↾↹⇒←↙⇌⇛↹⇷⇯⇛⇞↟↨⇴↨⇈↹⇠⇌⇛⇯←←↹↷⇠←↙⇛↹↷⇊↹↷⇠←↹⇠↤←⇒⇴⇒↟↹⇷⇯⇴↷↟⇒⇈↝⇛↹↟↹⇷⇛⇒⇙⇞↟↨←↹↳⇴⇌⇠↟↳⇴⇒⇈↝⇊↾↹↲⇴⇒⇒↹⇰⇴↹⇷⇛⇠⇒←↤↝←←↹⇞←↨↷←⇯↨⇛←↹⇰⇴↤⇴↝↟←↹⇌⇙⇯⇠⇴↹↘⇛↨↞↹⇌⇛↝←⇞↝⇛↹↞↹↝↟⇞←↙⇛↹↝←↹⇛↲←⇆⇴⇏'\n",
    "true_message = \"если вы видите нормальный или почти нормальный текст у этого сообщения который легко прочитать скорее всего вы все сделали правильно и получите максимальный балл за последнее четвертое задание курса хотя конечно я ничего не обещаю\"\n",
    "abc_message = ''.join(item for item in collections.Counter(fake_message))"
   ]
  },
  {
   "cell_type": "code",
   "execution_count": 27,
   "metadata": {},
   "outputs": [
    {
     "name": "stderr",
     "output_type": "stream",
     "text": [
      "100%|██████████| 10/10 [00:33<00:00,  3.37s/it]\n"
     ]
    }
   ],
   "source": [
    "best_reverse_mapping, _ = get_reverse_mapping_mcmc(\n",
    "    fake_message, \n",
    "    abc_encoded = abc_message, \n",
    "    abc_corpus = DICTIONARY,\n",
    "    freqs_corpus = freqs_corpus,\n",
    "    n_iters = 10000,\n",
    "    n_trials = 10,\n",
    ")"
   ]
  },
  {
   "cell_type": "code",
   "execution_count": 28,
   "metadata": {},
   "outputs": [],
   "source": [
    "decoded_text = apply_random_mapping(fake_message, best_reverse_mapping)"
   ]
  },
  {
   "cell_type": "code",
   "execution_count": 29,
   "metadata": {},
   "outputs": [
    {
     "data": {
      "text/plain": [
       "'если вы вимите нордальный или пожти нордальный текст у этого соочбения который легко прожитать скорее всего вы все смелали правильно и полужите даксидальный чалл за послемнее жетвертое замание курса хотя конежно я нижего не очебаф'"
      ]
     },
     "execution_count": 29,
     "metadata": {},
     "output_type": "execute_result"
    }
   ],
   "source": [
    "decoded_text"
   ]
  },
  {
   "cell_type": "code",
   "execution_count": 30,
   "metadata": {},
   "outputs": [
    {
     "data": {
      "text/plain": [
       "0.9130434782608695"
      ]
     },
     "execution_count": 30,
     "metadata": {},
     "output_type": "execute_result"
    }
   ],
   "source": [
    "accuracy(decoded_text, true_message)"
   ]
  },
  {
   "cell_type": "markdown",
   "metadata": {},
   "source": [
    "### 5. А что если от биграмм перейти к триграммам (тройкам букв) или даже больше?"
   ]
  },
  {
   "cell_type": "code",
   "execution_count": 31,
   "metadata": {},
   "outputs": [
    {
     "name": "stderr",
     "output_type": "stream",
     "text": [
      "100%|██████████| 10/10 [00:32<00:00,  3.26s/it]\n",
      "100%|██████████| 10/10 [00:37<00:00,  3.72s/it]\n",
      "100%|██████████| 10/10 [00:38<00:00,  3.89s/it]\n",
      "100%|██████████| 10/10 [00:38<00:00,  3.87s/it]\n",
      "100%|██████████| 10/10 [00:41<00:00,  4.16s/it]\n"
     ]
    }
   ],
   "source": [
    "grams = [1, 2, 3, 4, 5]\n",
    "acc_result = [0, 0, 0, 0, 0]\n",
    "likelihood = [0, 0, 0, 0, 0]\n",
    "\n",
    "for i in range(len(grams)):\n",
    "    \n",
    "    freqs_corpus = compute_frequencies(\n",
    "        tokenized_corpus,\n",
    "        min_n_gram = grams[i],\n",
    "        max_n_gram = grams[i],\n",
    "        smooth = True,\n",
    "    )\n",
    "    \n",
    "    best_reverse_mapping, log_likelihood = get_reverse_mapping_mcmc(\n",
    "        fake_message, \n",
    "        abc_encoded = abc_message, \n",
    "        abc_corpus = DICTIONARY,\n",
    "        freqs_corpus = freqs_corpus,\n",
    "        n_iters = 10000,\n",
    "        n_trials = 10,\n",
    "        n_gram = grams[i],\n",
    "    )\n",
    "    \n",
    "    likelihood[i] = log_likelihood\n",
    "    \n",
    "    decoded_text = apply_random_mapping(fake_message, best_reverse_mapping)\n",
    "    acc_result[i] = accuracy(decoded_text, true_message)"
   ]
  },
  {
   "cell_type": "code",
   "execution_count": 48,
   "metadata": {},
   "outputs": [
    {
     "data": {
      "image/png": "[encoded data removed]",
      "text/plain": [
       "<Figure size 864x288 with 2 Axes>"
      ]
     },
     "metadata": {
      "needs_background": "light"
     },
     "output_type": "display_data"
    }
   ],
   "source": [
    "fig, axes2d = plt.subplots(1, 2, figsize=(12, 4))\n",
    "for i, (graphs, name) in enumerate(zip([acc_result, likelihood], ['accuracy', 'likelihood'])):\n",
    "    axes2d[i].plot(grams, graphs)\n",
    "    axes2d[i].set_xlabel('grams')\n",
    "    axes2d[i].set_ylabel(name)\n",
    "    axes2d[i].grid(True)"
   ]
  },
  {
   "cell_type": "markdown",
   "metadata": {},
   "source": [
    "#### 6. Какие вы можете придумать применения для этой модели?"
   ]
  },
  {
   "cell_type": "markdown",
   "metadata": {},
   "source": [
    "Пришли в голову интересные идеи о том, что можно применить данную модель не только к символам, но и абстрактным сущностям. Например, чтобы построить матрицу соответсвия между эмбеддингами нейросети (трекинг, венгерский алгоритм, ф-ция стоимости - эвклидово расстояние, соответсвие между объектами кадр назад и текущими)"
   ]
  }
 ],
 "metadata": {
  "kernelspec": {
   "display_name": "Python 3",
   "language": "python",
   "name": "python3"
  },
  "language_info": {
   "codemirror_mode": {
    "name": "ipython",
    "version": 3
   },
   "file_extension": ".py",
   "mimetype": "text/x-python",
   "name": "python",
   "nbconvert_exporter": "python",
   "pygments_lexer": "ipython3",
   "version": "3.9.0"
  }
 },
 "nbformat": 4,
 "nbformat_minor": 4
}
