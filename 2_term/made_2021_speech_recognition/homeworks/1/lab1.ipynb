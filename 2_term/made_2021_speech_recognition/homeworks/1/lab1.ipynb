{
 "cells": [
  {
   "cell_type": "markdown",
   "metadata": {},
   "source": [
    "# <center> Практические задания по цифровой обработке сигналов </center>\n",
    "# <center> Первая лабораторная работа </center>\n"
   ]
  },
  {
   "cell_type": "markdown",
   "metadata": {},
   "source": [
    "В данной работе Вы познакомитесь с основными методами работы с аудиоданными в Python. Разбересь в том, как работает свертка, и примените пару интересных фильтров."
   ]
  },
  {
   "cell_type": "markdown",
   "metadata": {},
   "source": [
    "# Задание 1. Работа с аудиофайлами в Python (1 балл)"
   ]
  },
  {
   "cell_type": "markdown",
   "metadata": {},
   "source": [
    "## Теория\n",
    "\n",
    "Звук - это аналоговый сигнал. То есть он является непрерывным по времени и по значениям. Для того, чтобы работать со звуком на цифровом устройстве, надо преобразовать его в цифровое представление. Для этого надо разделить непрерывный сигнал на промежутки времени (дискретизация сигнала) и разбить непрерывные значения на интервалы (квантование сигнала). Выбраные параметры дискретизации и квантования сигнала напрямую влияют на качество цифрового сигнала. \n",
    "\n",
    "\n",
    "## Практика\n",
    "\n",
    "1. Что хранится в .wav файле? Как узнать параметры дискретизации и квантования .wav файла? \n",
    "\n",
    "2. Запишите аудиофайл со своим голосом. Загрузите его. Попробуйте поменять ему частоту дискретизации. Нарисуйте форму волны считанного файла. Воспроизведите полученные сигналы. При какой частоте дискретизации становится невозможно разобрать человеческую речь?   \n",
    "\n",
    "3. Чем .wav отличается от других кодеков, например .mp3 или .ogg?\n",
    "\n",
    "\n",
    "### Подсказка\n",
    "\n",
    "Записать цифровой сигнал можно при помощи, например, [Audacity](https://www.audacityteam.org) или [Adobe Audition](https://www.adobe.com/ru/products/audition.html). Для считывания файлов воспользуйтесь библиотекой [scipy](https://www.scipy.org) или [librosa](https://librosa.org/doc/latest/index.html). Для воспроизведения аудиофайла удобно использовать класс Audio из модуля IPython.display, а для отрисовки - matplotlib."
   ]
  },
  {
   "cell_type": "code",
   "execution_count": 1,
   "metadata": {},
   "outputs": [],
   "source": [
    "import IPython.display as ipd\n",
    "import matplotlib.pyplot as plt \n",
    "import numpy as np\n",
    "from scipy.io import wavfile\n",
    "from scipy.signal import convolve\n",
    "import pyaudio\n",
    "import time\n",
    "import wave\n",
    "%matplotlib inline"
   ]
  },
  {
   "cell_type": "markdown",
   "metadata": {},
   "source": [
    "**Задача 1.** Что хранится в .wav файле? Как узнать параметры дискретизации и квантования .wav файла?\n",
    "\n",
    "**Решение.** Установим модуль `pyAudio` для записи голоса прямо в `Jupyter Notebook`. Далее установим параметры дискретизации(`RATE`) и квантования(`FORMAT`) .wav файла."
   ]
  },
  {
   "cell_type": "code",
   "execution_count": null,
   "metadata": {
    "ExecuteTime": {
     "end_time": "2021-01-25T10:23:49.909497Z",
     "start_time": "2021-01-25T10:23:49.907091Z"
    },
    "scrolled": true
   },
   "outputs": [],
   "source": [
    "!pip install PyAudio"
   ]
  },
  {
   "cell_type": "code",
   "execution_count": null,
   "metadata": {},
   "outputs": [],
   "source": [
    "CHUNK = 1024\n",
    "FORMAT = pyaudio.paInt16\n",
    "CHANNELS = 1\n",
    "RATE = 44100\n",
    "SECONDS = 10.0\n",
    "SOUND_PATH = 'output.wav'\n",
    "\n",
    "def record():\n",
    "\n",
    "    p = pyaudio.PyAudio()\n",
    "\n",
    "    stream = p.open(format=FORMAT,\n",
    "                    channels=CHANNELS,\n",
    "                    rate=RATE,\n",
    "                    input=True,\n",
    "                    frames_per_buffer=CHUNK)\n",
    "\n",
    "    print(\"Start recording\")\n",
    "\n",
    "    frames = []\n",
    "    timing = time.time()\n",
    "    while time.time() - timing <= SECONDS:\n",
    "        data = stream.read(CHUNK)\n",
    "        frames.append(data)\n",
    "        \n",
    "    print(\"Done recording\")\n",
    "    \n",
    "    sample_width = p.get_sample_size(FORMAT)\n",
    "    stream.stop_stream()\n",
    "    stream.close()\n",
    "    p.terminate()\n",
    "\n",
    "    return sample_width, frames\n",
    "\n",
    "def record_to_file(file_path):\n",
    "    wf = wave.open(file_path, 'wb')\n",
    "    wf.setnchannels(CHANNELS)\n",
    "    print(\"Please speak into the microphone\")\n",
    "    sample_width, frames = record()\n",
    "    wf.setsampwidth(sample_width)\n",
    "    wf.setframerate(RATE)\n",
    "    wf.writeframes(b''.join(frames))\n",
    "    wf.close()\n",
    "    print(\"Result was written to\", file_path)\n",
    "    \n",
    "record_to_file('resources/speech.wav')"
   ]
  },
  {
   "cell_type": "markdown",
   "metadata": {},
   "source": [
    "**Задание 2.** Запишите аудиофайл со своим голосом. Загрузите его. Попробуйте поменять ему частоту дискретизации. Нарисуйте форму волны считанного файла. Воспроизведите полученные сигналы. При какой частоте дискретизации становится невозможно разобрать человеческую речь?\n",
    "\n",
    "**Решение.** Файл был записан и загружен в `resources/speech.wav`. "
   ]
  },
  {
   "cell_type": "code",
   "execution_count": null,
   "metadata": {},
   "outputs": [],
   "source": [
    "ipd.Audio('resources/speech.wav')"
   ]
  },
  {
   "cell_type": "code",
   "execution_count": null,
   "metadata": {},
   "outputs": [],
   "source": [
    "fz, data = wavfile.read('resources/speech.wav')\n",
    "plt.plot(data, label='wave form');\n",
    "plt.xlabel('n samples');\n",
    "plt.ylabel('amplitude');\n",
    "plt.legend();"
   ]
  },
  {
   "cell_type": "markdown",
   "metadata": {},
   "source": [
    "Попробуем уменьшить частоту в 4 раза."
   ]
  },
  {
   "cell_type": "code",
   "execution_count": null,
   "metadata": {},
   "outputs": [],
   "source": [
    "decrease_up = 4\n",
    "wavfile.write('resources/speech_4.wav', int(RATE/decrease_up), data[0::decrease_up])"
   ]
  },
  {
   "cell_type": "code",
   "execution_count": null,
   "metadata": {},
   "outputs": [],
   "source": [
    "ipd.Audio('resources/speech_4.wav')"
   ]
  },
  {
   "cell_type": "markdown",
   "metadata": {},
   "source": [
    "Попробуем уменьшить частоту в 16 раз."
   ]
  },
  {
   "cell_type": "code",
   "execution_count": null,
   "metadata": {},
   "outputs": [],
   "source": [
    "decrease_up = 16\n",
    "wavfile.write('resources/speech_16.wav', int(RATE/decrease_up), data[0::decrease_up])"
   ]
  },
  {
   "cell_type": "code",
   "execution_count": null,
   "metadata": {},
   "outputs": [],
   "source": [
    "ipd.Audio('resources/speech_16.wav')"
   ]
  },
  {
   "cell_type": "markdown",
   "metadata": {},
   "source": [
    "Попробуем уменьшить частоту в 32 раза."
   ]
  },
  {
   "cell_type": "code",
   "execution_count": null,
   "metadata": {},
   "outputs": [],
   "source": [
    "decrease_up = 32\n",
    "wavfile.write('resources/speech_32.wav', int(RATE/decrease_up), data[0::decrease_up])"
   ]
  },
  {
   "cell_type": "code",
   "execution_count": null,
   "metadata": {},
   "outputs": [],
   "source": [
    "ipd.Audio('resources/speech_32.wav')"
   ]
  },
  {
   "cell_type": "code",
   "execution_count": null,
   "metadata": {},
   "outputs": [],
   "source": [
    "Экстраполируя, получается, что если уменьшить частоту в 64 раза, слабо можно что-либо разобрать"
   ]
  },
  {
   "cell_type": "markdown",
   "metadata": {},
   "source": [
    "# Задание 2. Гармонические сигналы (1 балл)"
   ]
  },
  {
   "cell_type": "markdown",
   "metadata": {},
   "source": [
    "## Теория\n",
    "[Гармонические колебания](https://ru.wikipedia.org/wiki/Гармонические_колебания) -  колебания, при которых физическая величина изменяется с течением времени по гармоническому (синусоидальному/косинусоидальному) закону. \n",
    "\n",
    "В общем случае гармонические колебания задаются формулой:\n",
    "\n",
    "$$y=A \\cos(\\omega t+\\varphi_0)$$\n",
    "\n",
    "где $А$ - это амплитуда, $\\omega$ – циклическая частота (радиан/с), $\\varphi$ - фаза (сдвиг), $t$ – время. \n"
   ]
  },
  {
   "cell_type": "code",
   "execution_count": null,
   "metadata": {
    "ExecuteTime": {
     "end_time": "2021-01-25T10:53:42.877034Z",
     "start_time": "2021-01-25T10:53:42.461660Z"
    }
   },
   "outputs": [],
   "source": [
    "# Сначала определим функцию для отрисовки сигнала с хорошим масштабом и сеткой\n",
    "# Это поможет легче анализировать сигнал\n",
    "def draw_signal(data, figsize=(14, 14)):\n",
    "    plt.figure(figsize=figsize)\n",
    "    plt.plot(data, linewidth=2)\n",
    "    plt.minorticks_on()\n",
    "    plt.xticks(np.arange(0, 1000, step=100))\n",
    "    plt.yticks(np.arange((data.min().round())//10*10, \n",
    "                         (data.max().round())//10*10+10, step=5))\n",
    "    plt.grid(which='major',\n",
    "        color = 'k', \n",
    "        linewidth = 1)\n",
    "    plt.grid(which='minor', \n",
    "        color = 'k', \n",
    "        linestyle = ':')\n",
    "    plt.show()"
   ]
  },
  {
   "cell_type": "code",
   "execution_count": null,
   "metadata": {
    "ExecuteTime": {
     "end_time": "2021-01-25T10:53:18.422257Z",
     "start_time": "2021-01-25T10:53:18.358676Z"
    }
   },
   "outputs": [],
   "source": [
    "# Читаем данные с подготовленными сигналами\n",
    "import pickle\n",
    "with open(\"resources/data.pickle\", \"rb\") as f:\n",
    "    test_data = pickle.load(f)\n",
    "# Теперь можно приступать к практике!"
   ]
  },
  {
   "cell_type": "markdown",
   "metadata": {},
   "source": [
    "## Практика\n",
    "\n",
    "Постройте графики трех сигналов a, b и c из test_data['task2']. Попробуйте подобрать коэффициенты для этих сигналов. Сгенерируйте сигналы (1000 отсчетов) с подобранными коэффициентами. Постройте графики сгенерированных сигналов и пройдите тест на схожесть с оригинальным.\n",
    "\n",
    "\n",
    "Подсказка. Фаза, период и амплитуда сигнала - целочисленные. Для генерации пользуйтесь библиотекой numpy и функциями arange, sin, cos."
   ]
  },
  {
   "cell_type": "code",
   "execution_count": null,
   "metadata": {},
   "outputs": [],
   "source": [
    "t = np.arange(0, 1000, 1)"
   ]
  },
  {
   "cell_type": "code",
   "execution_count": null,
   "metadata": {},
   "outputs": [],
   "source": [
    "draw_signal(test_data['task2']['a'])"
   ]
  },
  {
   "cell_type": "code",
   "execution_count": null,
   "metadata": {},
   "outputs": [],
   "source": [
    "# YOUR CODE HERE\n",
    "A = 45\n",
    "fi = 0\n",
    "T = 425\n",
    "w = 2*np.pi/T\n",
    "a = A*np.cos(w*t + fi)"
   ]
  },
  {
   "cell_type": "code",
   "execution_count": null,
   "metadata": {},
   "outputs": [],
   "source": [
    "draw_signal(a)"
   ]
  },
  {
   "cell_type": "code",
   "execution_count": null,
   "metadata": {},
   "outputs": [],
   "source": [
    "assert len(a) == 1000\n",
    "assert np.allclose(a, test_data[\"task2\"][\"a\"], atol=1)\n",
    "print(\"Ok!\")"
   ]
  },
  {
   "cell_type": "code",
   "execution_count": null,
   "metadata": {},
   "outputs": [],
   "source": [
    "draw_signal(test_data['task2']['b'])"
   ]
  },
  {
   "cell_type": "code",
   "execution_count": null,
   "metadata": {},
   "outputs": [],
   "source": [
    "# YOUR CODE HERE\n",
    "A = 50\n",
    "fi = -np.pi/2\n",
    "T = 100\n",
    "w = 2*np.pi/T\n",
    "b = A*np.cos(w*t + fi)"
   ]
  },
  {
   "cell_type": "code",
   "execution_count": null,
   "metadata": {},
   "outputs": [],
   "source": [
    "assert len(b)== 1000\n",
    "assert np.allclose(b, test_data[\"task2\"][\"b\"], atol=1)\n",
    "print(\"Ok!\")"
   ]
  },
  {
   "cell_type": "code",
   "execution_count": null,
   "metadata": {},
   "outputs": [],
   "source": [
    "draw_signal(test_data['task2']['c'])"
   ]
  },
  {
   "cell_type": "code",
   "execution_count": null,
   "metadata": {},
   "outputs": [],
   "source": [
    "# сигнал состоит из двух гармоник\n",
    "# YOUR CODE HERE\n",
    "\n",
    "c = a - b"
   ]
  },
  {
   "cell_type": "code",
   "execution_count": null,
   "metadata": {},
   "outputs": [],
   "source": [
    "assert len(c)== 1000\n",
    "assert np.allclose(c, test_data[\"task2\"][\"c\"], atol=1)\n",
    "print(\"Ok!\")"
   ]
  },
  {
   "cell_type": "markdown",
   "metadata": {},
   "source": [
    "# Задание 3. Свертка (3 балла)"
   ]
  },
  {
   "cell_type": "markdown",
   "metadata": {},
   "source": [
    "## Теория\n",
    "Одна из наиболее частых операций, которая выполняется при обработке сигналов, это свёртка. Свёртка имеет много различных применений, например, с ее помощью можно убрать из сигнала шумы или применить к сигналу эффект эхо.\n",
    "\n",
    "\n",
    "Свёртка — это математическая операция, применённая к двум функциям f и g и порождающая третью функцию. Операцию свёртки можно интерпретировать как «схожесть» одной функции с отражённой и сдвинутой копией другой.  Другими словами, преобразование свёртки однозначно определяет выходной сигнал y(t) для установленного значения входного сигнала x(t) при известном значении функции импульсного отклика системы h(t).\n",
    "\n",
    "![Convolution](resources/Convolution_of_box_signal_with_itself2.gif \"Convolution\")\n",
    "\n",
    "Формула свёртки:\n",
    "$$y_t=\\frac{1}{2} \\int_0^T x(\\tau)h(t-τ)dτ$$\n",
    "где $\\tau$  - длительность импульсной переходной характеристики.\n",
    "\n",
    "## Практика\n",
    "Реализуйте операцию свёртки. Сравните её с существующей реализацией scipy.signal.convolve. Постройте графики фильтра, исходного сигнала и результата свертки."
   ]
  },
  {
   "cell_type": "code",
   "execution_count": 44,
   "metadata": {},
   "outputs": [],
   "source": [
    "def my_convolve(in1, in2):\n",
    "    result = np.zeros((len(in1) + len(in2) - 1,))\n",
    "    for k in range(len(in1)):\n",
    "        sum_ = 0\n",
    "        for j in range(len(in1)):\n",
    "            index = k - j\n",
    "            if 0 <= index < len(in2):\n",
    "                sum_ += in1[j] * in2[index]\n",
    "                \n",
    "        result[k] = sum_\n",
    "        \n",
    "    return result"
   ]
  },
  {
   "cell_type": "code",
   "execution_count": 45,
   "metadata": {},
   "outputs": [],
   "source": [
    "def test_convolve(a, b, print_debug=False):\n",
    "    my_result = my_convolve(a, b)\n",
    "    scipy_result = convolve(a, b, method='direct')\n",
    "    if print_debug:\n",
    "        print(f\"Your result {my_result}\")\n",
    "        print(f\"Scipy result {scipy_result}\")\n",
    "    assert np.allclose(my_result, scipy_result), f\"Test {a} conv {b} failed\"\n",
    "    print(\"Ok!\")"
   ]
  },
  {
   "cell_type": "code",
   "execution_count": 46,
   "metadata": {},
   "outputs": [],
   "source": [
    "a = np.repeat([0,1,0], 10)\n",
    "b = np.array([0,1,2,3,2,1,0])"
   ]
  },
  {
   "cell_type": "code",
   "execution_count": 50,
   "metadata": {},
   "outputs": [
    {
     "data": {
      "image/png": "[encoded data removed]",
      "text/plain": [
       "<Figure size 432x288 with 3 Axes>"
      ]
     },
     "metadata": {
      "needs_background": "light"
     },
     "output_type": "display_data"
    }
   ],
   "source": [
    "fig, (ax_orig, ax_win, ax_filt) = plt.subplots(3, 1, sharex=True)\n",
    "ax_orig.plot(a)\n",
    "ax_orig.set_title('Original pulse')\n",
    "ax_orig.margins(0, 0.1)\n",
    "ax_win.plot(b)\n",
    "ax_win.set_title('Filter impulse response')\n",
    "ax_win.margins(0, 0.1)\n",
    "ax_filt.plot(my_convolve(a, b))\n",
    "ax_filt.set_title('Filtered signal')\n",
    "ax_filt.margins(0, 0.1)\n",
    "fig.tight_layout()"
   ]
  },
  {
   "cell_type": "code",
   "execution_count": 48,
   "metadata": {},
   "outputs": [
    {
     "name": "stdout",
     "output_type": "stream",
     "text": [
      "Your result [0. 0. 0. 0. 0. 0. 0. 0. 0. 0. 0. 1. 3. 6. 8. 9. 9. 9. 9. 9. 9. 8. 6. 3.\n",
      " 1. 0. 0. 0. 0. 0. 0. 0. 0. 0. 0. 0.]\n",
      "Scipy result [0 0 0 0 0 0 0 0 0 0 0 1 3 6 8 9 9 9 9 9 9 8 6 3 1 0 0 0 0 0 0 0 0 0 0 0]\n",
      "Ok!\n"
     ]
    }
   ],
   "source": [
    "test_convolve(a, b, print_debug=True)"
   ]
  },
  {
   "cell_type": "markdown",
   "metadata": {},
   "source": [
    "## Задание 4. * Алгоритм Карплуса-Стронга \n",
    "\n",
    "Реализуйте  [Алгоритм Карплуса-Стронга](https://en.wikipedia.org/wiki/Karplus%E2%80%93Strong_string_synthesis). В качестве фильтра используйте усреднитель двух смежных отсчетов. Проверьте результат. \n",
    "\n",
    "Отрисуйте и воспроизведите полученный сигнал. На что влияют параметры генерации? Попробуйте имитировать звучание разных струн гитары."
   ]
  },
  {
   "cell_type": "code",
   "execution_count": null,
   "metadata": {
    "ExecuteTime": {
     "end_time": "2021-01-25T08:33:08.782753Z",
     "start_time": "2021-01-25T08:33:08.777957Z"
    }
   },
   "outputs": [],
   "source": [
    "def karplus_strong(noise, N):\n",
    "    # Noise - input\n",
    "    # N - number of samples to generate\n",
    "    # return y - generated signal based on Noise \n",
    "    # YOUR CODE HERE\n",
    "    #\n",
    "   \n",
    "    #\n",
    "    raise NotImplementedError()"
   ]
  },
  {
   "cell_type": "code",
   "execution_count": null,
   "metadata": {
    "ExecuteTime": {
     "end_time": "2021-01-25T10:07:15.153526Z",
     "start_time": "2021-01-25T10:07:15.052187Z"
    }
   },
   "outputs": [],
   "source": [
    "np.random.seed(seed=1)\n",
    "sample_rate = 44100 \n",
    "frequency = 82.41\n",
    "sec = 2\n",
    "gen_len = sample_rate * sec\n",
    "noise = (2 * np.random.uniform(-1, 1, int(sample_rate/frequency))) # [-1, 1]\n",
    "\n",
    "gen_wav = karplus_strong(noise, gen_len)\n",
    "assert np.allclose(gen_wav[:len(noise)], noise), \"Generated signal must starting with noise\"\n",
    "assert np.allclose(gen_wav[len(noise)], (noise[0])/2), \"Out of range samples eq 0.\"\n",
    "assert np.allclose(gen_wav[len(noise)+1: 2*len(noise)], (noise[:-1] + noise[1:])/2), \\\n",
    "    \"Bad requrent rule( 1 iteration)\"\n",
    "assert np.allclose(gen_wav[2*len(noise)], (noise[0]/2 + noise[-1])/2), \\\n",
    "    \"Bad requrent rule( 2 iteration)\"\n",
    "assert np.allclose(gen_wav[2*len(noise)+2: 3*len(noise)], \\\n",
    "                   (((noise[:-1] + noise[1:])/2)[:-1] + ((noise[:-1] + noise[1:])/2)[1:])/2), \\\n",
    "    \"Bad requrent rule( 3 iteration)\"\n",
    "print('All Ok!')"
   ]
  },
  {
   "cell_type": "code",
   "execution_count": null,
   "metadata": {},
   "outputs": [],
   "source": [
    "# Попробуйте покрутить параметры генерации. \n",
    "# YOUR CODE HERE "
   ]
  }
 ],
 "metadata": {
  "kernelspec": {
   "display_name": "Python 3",
   "language": "python",
   "name": "python3"
  },
  "language_info": {
   "codemirror_mode": {
    "name": "ipython",
    "version": 3
   },
   "file_extension": ".py",
   "mimetype": "text/x-python",
   "name": "python",
   "nbconvert_exporter": "python",
   "pygments_lexer": "ipython3",
   "version": "3.9.0"
  }
 },
 "nbformat": 4,
 "nbformat_minor": 4
}
