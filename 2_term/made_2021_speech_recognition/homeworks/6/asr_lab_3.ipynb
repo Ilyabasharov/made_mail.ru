{
 "cells": [
  {
   "cell_type": "markdown",
   "metadata": {
    "id": "p4V6X26FcseO"
   },
   "source": [
    "# Практика №3\n",
    "\n",
    "Теперь в качестве акустической модели мы будем использовать простой DNN классификатор. На каждом кадре записи мы будем подавать его вектор признаков на DNN, которая будет выдавать \"распределение вероятностей\" по фонемам. Далее это распределение мы будем использовать в нашем алгоритме распознавания по словарю. Схема работы такого классификатора представлена ниже: \n",
    "\n",
    "![](https://drive.google.com/uc?export=view&id=1dv0VuE8DIoKXETbvnZq2PMixkWMCJOxr)"
   ]
  },
  {
   "cell_type": "markdown",
   "metadata": {
    "id": "rHZ_-8Zgddys"
   },
   "source": [
    "### Bootstrap"
   ]
  },
  {
   "cell_type": "code",
   "execution_count": 11,
   "metadata": {
    "colab": {
     "base_uri": "https://localhost:8080/"
    },
    "id": "Cn3HKnaHdsvg",
    "outputId": "8da304be-a8a3-4222-9696-cb36e6e4b65b"
   },
   "outputs": [
    {
     "name": "stdout",
     "output_type": "stream",
     "text": [
      "Downloading...\n",
      "From: https://drive.google.com/uc?id=1meikF0XqBUnVZKoY3160MQ0R25lq-EMu\n",
      "To: /content/lab2.zip\n",
      "100% 1.66M/1.66M [00:00<00:00, 26.1MB/s]\n",
      "Downloading...\n",
      "From: https://drive.google.com/uc?id=1f0LkW6I3Q5CnOThuNFAJ9umgnb2eU4Ox\n",
      "To: /content/train_librispeech_10h.zip\n",
      "679MB [00:10, 63.4MB/s]\n",
      "/content/lab3\n"
     ]
    }
   ],
   "source": [
    "!gdown --id '1meikF0XqBUnVZKoY3160MQ0R25lq-EMu'\n",
    "!gdown --id '1f0LkW6I3Q5CnOThuNFAJ9umgnb2eU4Ox'\n",
    "\n",
    "!unzip -q lab2.zip\n",
    "!unzip -q train_librispeech_10h.zip\n",
    "!mv lab2 lab3\n",
    "!mv train_librispeech_10h lab3/data\n",
    "!rm -rf lab2.zip sample_data train_librispeech_10h.zip\n",
    "%cd lab3"
   ]
  },
  {
   "cell_type": "code",
   "execution_count": 12,
   "metadata": {
    "id": "5ce6879uekCJ"
   },
   "outputs": [],
   "source": [
    "import os\n",
    "import numpy as np\n",
    "import time\n",
    "from tqdm.notebook import tqdm\n",
    "import matplotlib.pyplot as plt\n",
    "import IPython.display as ipd\n",
    "import librosa, librosa.display\n",
    "import torch\n",
    "import torch.nn as nn\n",
    "import torch.functional as F\n",
    "\n",
    "\n",
    "%matplotlib inline\n",
    "plt.rcParams['figure.figsize'] = (15.0, 5.0)\n",
    "plt.rcParams['image.interpolation'] = 'nearest'\n",
    "plt.rcParams['image.cmap'] = 'gray'"
   ]
  },
  {
   "cell_type": "code",
   "execution_count": 22,
   "metadata": {
    "colab": {
     "base_uri": "https://localhost:8080/"
    },
    "id": "jsFj1pOsz2RZ",
    "outputId": "a9dd3cc1-9df5-4aaf-ab1b-252ee02f5cba"
   },
   "outputs": [
    {
     "data": {
      "text/plain": [
       "torch.Size([20, 3, 5])"
      ]
     },
     "execution_count": 22,
     "metadata": {
      "tags": []
     },
     "output_type": "execute_result"
    }
   ],
   "source": [
    "conv1 = nn.Conv1d(\n",
    "            in_channels=1,\n",
    "            out_channels=3,\n",
    "            kernel_size=3,\n",
    "            stride=1,\n",
    "            padding=0,\n",
    "            dilation=2,\n",
    "        )\n",
    "output1 = torch.rand((20, 1, 9))\n",
    "conv1(output1).size()"
   ]
  },
  {
   "cell_type": "code",
   "execution_count": 56,
   "metadata": {
    "colab": {
     "base_uri": "https://localhost:8080/"
    },
    "id": "6tTJDiGm0_Yr",
    "outputId": "baf69b3b-7210-40bd-b01d-e486e1a86716"
   },
   "outputs": [
    {
     "data": {
      "text/plain": [
       "torch.Size([20, 86])"
      ]
     },
     "execution_count": 56,
     "metadata": {
      "tags": []
     },
     "output_type": "execute_result"
    }
   ],
   "source": [
    "modules = nn.ModuleList([\n",
    "            nn.Conv1d(1, 3, 3),\n",
    "            nn.BatchNorm1d(3),\n",
    "            nn.PReLU(3),\n",
    "\n",
    "            nn.Conv1d(3, 6, 3),\n",
    "            nn.BatchNorm1d(6),\n",
    "            nn.PReLU(6),\n",
    "\n",
    "            nn.Conv1d(6, 9, 3),\n",
    "            nn.BatchNorm1d(9),\n",
    "            nn.PReLU(9),\n",
    "\n",
    "            nn.Flatten(),\n",
    "\n",
    "            nn.Linear(7*9, 86),\n",
    "        ])\n",
    "\n",
    "b=torch.rand((20, 1, 13))\n",
    "for i in modules:\n",
    "    b = i(b)\n",
    "b.size()"
   ]
  },
  {
   "cell_type": "code",
   "execution_count": 59,
   "metadata": {
    "colab": {
     "base_uri": "https://localhost:8080/"
    },
    "id": "ToGkKCAj7rPV",
    "outputId": "8b7466c5-5537-4963-a1f4-aea3058b56a6"
   },
   "outputs": [
    {
     "name": "stdout",
     "output_type": "stream",
     "text": [
      "ModuleList(\n",
      "  (0): Conv1d(1, 3, kernel_size=(3,), stride=(1,))\n",
      "  (1): BatchNorm1d(3, eps=1e-05, momentum=0.1, affine=True, track_running_stats=True)\n",
      "  (2): PReLU(num_parameters=3)\n",
      "  (3): Conv1d(3, 6, kernel_size=(3,), stride=(1,))\n",
      "  (4): BatchNorm1d(6, eps=1e-05, momentum=0.1, affine=True, track_running_stats=True)\n",
      "  (5): PReLU(num_parameters=6)\n",
      "  (6): Conv1d(6, 9, kernel_size=(3,), stride=(1,))\n",
      "  (7): BatchNorm1d(9, eps=1e-05, momentum=0.1, affine=True, track_running_stats=True)\n",
      "  (8): PReLU(num_parameters=9)\n",
      "  (9): Flatten(start_dim=1, end_dim=-1)\n",
      "  (10): Linear(in_features=63, out_features=86, bias=True)\n",
      ")\n"
     ]
    }
   ],
   "source": [
    "print(modules)"
   ]
  },
  {
   "cell_type": "code",
   "execution_count": 13,
   "metadata": {
    "colab": {
     "base_uri": "https://localhost:8080/",
     "height": 66,
     "referenced_widgets": [
      "8952ed81563c4d039d3195defb11e2f2",
      "9fb6883499954a2cb096b040baaf4265",
      "542a14b210494c3e8d44b9ae4a727f35",
      "6dcbe49ebcda4a0b8504178d7ca474b0",
      "dfa070d161864920bfe88d8554928376",
      "63b89534dd13401cad401b4201f87e10",
      "f62e060b50cc4583afdaf9fc1fe2e30e",
      "716cf5b28df14dab949e672b0f1c5618"
     ]
    },
    "id": "962pS6h8e1kp",
    "outputId": "e43c7193-9dcb-4be4-d79a-2942942d236e"
   },
   "outputs": [
    {
     "data": {
      "application/vnd.jupyter.widget-view+json": {
       "model_id": "8952ed81563c4d039d3195defb11e2f2",
       "version_major": 2,
       "version_minor": 0
      },
      "text/plain": [
       "HBox(children=(FloatProgress(value=0.0, max=3000.0), HTML(value='')))"
      ]
     },
     "metadata": {
      "tags": []
     },
     "output_type": "display_data"
    },
    {
     "name": "stdout",
     "output_type": "stream",
     "text": [
      "Early stop at 2000th file..\n"
     ]
    }
   ],
   "source": [
    "# загрузка списка допустимых фонем:\n",
    "def load_phones_dict(phones_file):\n",
    "    phones_dict = {}\n",
    "    with open(phones_file, encoding='utf-8') as fn:\n",
    "        for index, line in enumerate(fn):\n",
    "            phones_dict[line.strip()] = index\n",
    "    return phones_dict\n",
    "\n",
    "# загрузка покадровой фонемной разметки в словарь:\n",
    "def load_phone_aligment(aligment_file):\n",
    "    ali_dict = {}\n",
    "    with open(aligment_file, encoding='utf-8') as fn:\n",
    "        for line in fn:\n",
    "            line = line.strip().split()\n",
    "            ali_dict[line[0]] = line[1:]\n",
    "    return ali_dict\n",
    "\n",
    "# подсчет акустиеских признаков для записей из папки:\n",
    "def load_data_dict(dir_path, count=None):\n",
    "    data_dict = {}\n",
    "    step = 0\n",
    "    for wav_name in tqdm(os.listdir(dir_path)):\n",
    "        x, sr = librosa.load(os.path.join(dir_path, wav_name), sr=None) \n",
    "        mfcc = librosa.feature.mfcc(x, sr=sr, n_mfcc=13, \n",
    "                                    n_fft=int(sr * 0.025),\n",
    "                                    hop_length=int(sr * 0.01))\n",
    "        step += 1\n",
    "        if count and step == count:\n",
    "            print(f'Early stop at {step}th file..')\n",
    "            break\n",
    "        data_dict[wav_name.split('.')[0]] = mfcc.T\n",
    "    return data_dict\n",
    "\n",
    "\n",
    "phones_file = 'data/train_librispeech_10h/phones'\n",
    "phones_dict = load_phones_dict(phones_file)\n",
    "\n",
    "ali_file = 'data/train_librispeech_10h/ali_phones.txt'\n",
    "ali_dict = load_phone_aligment(ali_file)\n",
    "\n",
    "train_records_dir = 'data/train_librispeech_10h/wav_dir'\n",
    "feats_dict = load_data_dict(train_records_dir, count=2000)"
   ]
  },
  {
   "cell_type": "markdown",
   "metadata": {
    "id": "uANGmL0ufNIW"
   },
   "source": [
    "### Априорная вероятность:\n",
    "\n",
    "![](https://drive.google.com/uc?export=view&id=1WhjclhXm2POYsCgvxp3iAIOvT9F_k8If)"
   ]
  },
  {
   "cell_type": "code",
   "execution_count": 64,
   "metadata": {
    "id": "2n8qgqIrfiS_"
   },
   "outputs": [],
   "source": [
    "# объединение кадров признаков с соответствующими им фонемам:\n",
    "def combain_data(ali_dict, feats_dict, phones_dict, side_context=0):\n",
    "    X_list, y_list = [], []\n",
    "    priors_list = [0] * len(phones_dict)\n",
    "    for file_name in feats_dict.keys():\n",
    "        file_feats = feats_dict[file_name]\n",
    "        file_ali = ali_dict[file_name]\n",
    "        for frame in range(side_context, min(len(file_feats), len(file_ali)) - side_context):\n",
    "            data = [\n",
    "                file_feats[i]\n",
    "                for i in range(frame-side_context, frame+side_context+1)\n",
    "            ]\n",
    "\n",
    "            X_list.append(np.concatenate(data))\n",
    "            y_list.append(phones_dict[file_ali[frame]])\n",
    "            priors_list[phones_dict[file_ali[frame]]] += 1\n",
    "\n",
    "    return X_list, y_list, np.array(priors_list)/sum(priors_list)\n",
    "\n",
    "side_context = 0\n",
    "X_list, y_list, priors_list = combain_data(ali_dict, feats_dict, phones_dict, side_context)"
   ]
  },
  {
   "cell_type": "code",
   "execution_count": 65,
   "metadata": {
    "id": "qHLC2DdUftpu"
   },
   "outputs": [],
   "source": [
    "from sklearn.model_selection import train_test_split\n",
    "\n",
    "class CommonDataSet():\n",
    "\n",
    "    def __init__(self, X_data, y_data, device, valid_proportion=0.1):\n",
    "        self.train, self.valid, self.y_train, self.y_test = train_test_split(\n",
    "            X_data, y_data, test_size=valid_proportion, random_state=42,\n",
    "        )\n",
    "        self.device = device\n",
    "        \n",
    "    def num_batches(self, batch_size):\n",
    "        return len(self.train) // batch_size        \n",
    "        \n",
    "    def next_batch(self, batch_size):\n",
    "        for i in range(self.num_batches(batch_size)):\n",
    "            batch_xs = torch.tensor(\n",
    "                self.train[i * batch_size:(i + 1) * batch_size],\n",
    "                dtype=torch.float32,\n",
    "                device=self.device,\n",
    "            )\n",
    "\n",
    "            batch_ys = torch.tensor(\n",
    "                self.y_train[i * batch_size:(i + 1) * batch_size],\n",
    "                dtype=torch.int64,\n",
    "                device=self.device,\n",
    "            )\n",
    "\n",
    "            yield batch_xs, batch_ys"
   ]
  },
  {
   "cell_type": "code",
   "execution_count": 66,
   "metadata": {
    "id": "a9uSB2Q_fu_M"
   },
   "outputs": [],
   "source": [
    "class MyNet(nn.Module):\n",
    "\n",
    "    def __init__(self, input_dim, output_dim):\n",
    "        super(MyNet, self).__init__()\n",
    "        # params:\n",
    "        input_dim = input_dim       # размерность входных признаков\n",
    "        n_nodes_hl1 = 256\n",
    "        n_nodes_hl2 = 256\n",
    "        n_nodes_hl3 = 256\n",
    "        n_nodes_hl4 = 256\n",
    "        output_dim = output_dim     # количество выходных классов (фонем)\n",
    "        # FC layers:\n",
    "        self.fc1 = nn.Linear(input_dim, n_nodes_hl1)\n",
    "        self.fc2 = nn.Linear(n_nodes_hl1, n_nodes_hl2)\n",
    "        self.fc3 = nn.Linear(n_nodes_hl2, n_nodes_hl3)\n",
    "        self.fc4 = nn.Linear(n_nodes_hl3, n_nodes_hl4)\n",
    "        self.fc5 = nn.Linear(n_nodes_hl4, output_dim)\n",
    "\n",
    "    def forward(self, x):\n",
    "        x = torch.relu(self.fc1(x))\n",
    "        x = torch.relu(self.fc2(x))\n",
    "        x = torch.relu(self.fc3(x))\n",
    "        x = torch.relu(self.fc4(x))\n",
    "        x = self.fc5(x)\n",
    "        return (x)\n",
    "\n",
    "class MyNet2(nn.Module):\n",
    "\n",
    "    def __init__(self, input_dim, output_dim):\n",
    "        super(MyNet2, self).__init__()\n",
    "\n",
    "        self.module_list = nn.ModuleList([\n",
    "            nn.Conv1d(1, 3, 3),\n",
    "            nn.BatchNorm1d(3),\n",
    "            nn.PReLU(3),\n",
    "\n",
    "            nn.Conv1d(3, 6, 3),\n",
    "            nn.BatchNorm1d(6),\n",
    "            nn.PReLU(6),\n",
    "\n",
    "            nn.Conv1d(6, 9, 3),\n",
    "            nn.BatchNorm1d(9),\n",
    "            nn.PReLU(9),\n",
    "\n",
    "            nn.Flatten(),\n",
    "\n",
    "            nn.Linear(7*9, output_dim),\n",
    "        ])\n",
    "\n",
    "    def forward(self, x):\n",
    "        x = x.unsqueeze(1)\n",
    "        for m in self.module_list:\n",
    "            x = m(x)\n",
    "\n",
    "        return x"
   ]
  },
  {
   "cell_type": "code",
   "execution_count": 67,
   "metadata": {
    "colab": {
     "base_uri": "https://localhost:8080/",
     "height": 1000,
     "referenced_widgets": [
      "7ba340ce783a4f57afde2016341d289d",
      "1c7b3c9ec2354a06b36fca22b06ed4e5",
      "632bc1ce2a3b48a5baf2918a400fc7d4",
      "8f3e00b7a2bf4d71bdaa591af1c7d305",
      "b371f3a98f6a4268b5e2cdd4dee47bdf",
      "89a07fe1d202428e8757c439835bc8bb",
      "e98decf3e85a46448c1dfcfdf471ebc6",
      "2c6b715380d844279a671083617ae82c",
      "8dcb83afbd5e4650855e2c7c446d88d1",
      "bc01f3cb4476490c81269bd8b59fa665",
      "b2be82a163d44bec82e3633e5091e9b6",
      "1bcd3493845f4c9389172afae2b75c58",
      "762e0b0369144242b510e2429196532e",
      "ab2fff030dc24799981f86d2159c8d83",
      "459952d783914f8d85a7cba52a18fd98",
      "c6260942abfe478eb715391e80c1b5f0",
      "44bc0fee72254794894493cb73130c68",
      "4b3beb1ab89f458fae05f8fcd278b51c",
      "29b7a34ab66d46e0a9bb3bde1f8ae333",
      "2fa45f18069041f8b4163543efef32e7",
      "ea1226d7725b4f90b3db4b8d66887ec6",
      "41d9e6b6d2e742b395c61221771c7a6f",
      "5ae696292c004869a98713579c8b0600",
      "d2f201e0206c4d7a84d556bf9e05b2f6",
      "a53c78b4d18242589228ad8d5f4221ab",
      "cc13dffb00ef45409e31b5009625dcdb",
      "6d6fb4d27af14c339e662007f6558789",
      "e7ab6b4657ad4fada725070a841b73bc",
      "e7c112dd7ba948219e3040009be57018",
      "5410872f927c4880acb5775fe13c8bf2"
     ]
    },
    "id": "owcdDPb8fy2_",
    "outputId": "3f8b595f-01b0-463e-c06e-6116053c5146"
   },
   "outputs": [
    {
     "name": "stdout",
     "output_type": "stream",
     "text": [
      "<bound method Module.modules of MyNet2(\n",
      "  (module_list): ModuleList(\n",
      "    (0): Conv1d(1, 3, kernel_size=(3,), stride=(1,))\n",
      "    (1): BatchNorm1d(3, eps=1e-05, momentum=0.1, affine=True, track_running_stats=True)\n",
      "    (2): PReLU(num_parameters=3)\n",
      "    (3): Conv1d(3, 6, kernel_size=(3,), stride=(1,))\n",
      "    (4): BatchNorm1d(6, eps=1e-05, momentum=0.1, affine=True, track_running_stats=True)\n",
      "    (5): PReLU(num_parameters=6)\n",
      "    (6): Conv1d(6, 9, kernel_size=(3,), stride=(1,))\n",
      "    (7): BatchNorm1d(9, eps=1e-05, momentum=0.1, affine=True, track_running_stats=True)\n",
      "    (8): PReLU(num_parameters=9)\n",
      "    (9): Flatten(start_dim=1, end_dim=-1)\n",
      "    (10): Linear(in_features=63, out_features=86, bias=True)\n",
      "  )\n",
      ")>\n",
      "TRAINIG IS STARTED...\n"
     ]
    },
    {
     "data": {
      "application/vnd.jupyter.widget-view+json": {
       "model_id": "7ba340ce783a4f57afde2016341d289d",
       "version_major": 2,
       "version_minor": 0
      },
      "text/plain": [
       "HBox(children=(FloatProgress(value=0.0, description='epoch 0', max=8940.0, style=ProgressStyle(description_wid…"
      ]
     },
     "metadata": {
      "tags": []
     },
     "output_type": "display_data"
    },
    {
     "name": "stdout",
     "output_type": "stream",
     "text": [
      "\n",
      "loss is: 2.2248\n"
     ]
    },
    {
     "data": {
      "application/vnd.jupyter.widget-view+json": {
       "model_id": "1c7b3c9ec2354a06b36fca22b06ed4e5",
       "version_major": 2,
       "version_minor": 0
      },
      "text/plain": [
       "HBox(children=(FloatProgress(value=0.0, description='epoch 1', max=8940.0, style=ProgressStyle(description_wid…"
      ]
     },
     "metadata": {
      "tags": []
     },
     "output_type": "display_data"
    },
    {
     "name": "stdout",
     "output_type": "stream",
     "text": [
      "\n",
      "loss is: 2.1908\n"
     ]
    },
    {
     "data": {
      "application/vnd.jupyter.widget-view+json": {
       "model_id": "632bc1ce2a3b48a5baf2918a400fc7d4",
       "version_major": 2,
       "version_minor": 0
      },
      "text/plain": [
       "HBox(children=(FloatProgress(value=0.0, description='epoch 2', max=8940.0, style=ProgressStyle(description_wid…"
      ]
     },
     "metadata": {
      "tags": []
     },
     "output_type": "display_data"
    },
    {
     "name": "stdout",
     "output_type": "stream",
     "text": [
      "\n",
      "loss is: 2.1851\n"
     ]
    },
    {
     "data": {
      "application/vnd.jupyter.widget-view+json": {
       "model_id": "8f3e00b7a2bf4d71bdaa591af1c7d305",
       "version_major": 2,
       "version_minor": 0
      },
      "text/plain": [
       "HBox(children=(FloatProgress(value=0.0, description='epoch 3', max=8940.0, style=ProgressStyle(description_wid…"
      ]
     },
     "metadata": {
      "tags": []
     },
     "output_type": "display_data"
    },
    {
     "name": "stdout",
     "output_type": "stream",
     "text": [
      "\n",
      "loss is: 2.1823\n"
     ]
    },
    {
     "data": {
      "application/vnd.jupyter.widget-view+json": {
       "model_id": "b371f3a98f6a4268b5e2cdd4dee47bdf",
       "version_major": 2,
       "version_minor": 0
      },
      "text/plain": [
       "HBox(children=(FloatProgress(value=0.0, description='epoch 4', max=8940.0, style=ProgressStyle(description_wid…"
      ]
     },
     "metadata": {
      "tags": []
     },
     "output_type": "display_data"
    },
    {
     "name": "stdout",
     "output_type": "stream",
     "text": [
      "\n",
      "loss is: 2.1709\n"
     ]
    },
    {
     "data": {
      "application/vnd.jupyter.widget-view+json": {
       "model_id": "89a07fe1d202428e8757c439835bc8bb",
       "version_major": 2,
       "version_minor": 0
      },
      "text/plain": [
       "HBox(children=(FloatProgress(value=0.0, description='epoch 5', max=8940.0, style=ProgressStyle(description_wid…"
      ]
     },
     "metadata": {
      "tags": []
     },
     "output_type": "display_data"
    },
    {
     "name": "stdout",
     "output_type": "stream",
     "text": [
      "\n",
      "loss is: 2.1699\n"
     ]
    },
    {
     "data": {
      "application/vnd.jupyter.widget-view+json": {
       "model_id": "e98decf3e85a46448c1dfcfdf471ebc6",
       "version_major": 2,
       "version_minor": 0
      },
      "text/plain": [
       "HBox(children=(FloatProgress(value=0.0, description='epoch 6', max=8940.0, style=ProgressStyle(description_wid…"
      ]
     },
     "metadata": {
      "tags": []
     },
     "output_type": "display_data"
    },
    {
     "name": "stdout",
     "output_type": "stream",
     "text": [
      "\n",
      "loss is: 2.1693\n"
     ]
    },
    {
     "data": {
      "application/vnd.jupyter.widget-view+json": {
       "model_id": "2c6b715380d844279a671083617ae82c",
       "version_major": 2,
       "version_minor": 0
      },
      "text/plain": [
       "HBox(children=(FloatProgress(value=0.0, description='epoch 7', max=8940.0, style=ProgressStyle(description_wid…"
      ]
     },
     "metadata": {
      "tags": []
     },
     "output_type": "display_data"
    },
    {
     "name": "stdout",
     "output_type": "stream",
     "text": [
      "\n",
      "loss is: 2.1688\n"
     ]
    },
    {
     "data": {
      "application/vnd.jupyter.widget-view+json": {
       "model_id": "8dcb83afbd5e4650855e2c7c446d88d1",
       "version_major": 2,
       "version_minor": 0
      },
      "text/plain": [
       "HBox(children=(FloatProgress(value=0.0, description='epoch 8', max=8940.0, style=ProgressStyle(description_wid…"
      ]
     },
     "metadata": {
      "tags": []
     },
     "output_type": "display_data"
    },
    {
     "name": "stdout",
     "output_type": "stream",
     "text": [
      "\n",
      "loss is: 2.1630\n"
     ]
    },
    {
     "data": {
      "application/vnd.jupyter.widget-view+json": {
       "model_id": "bc01f3cb4476490c81269bd8b59fa665",
       "version_major": 2,
       "version_minor": 0
      },
      "text/plain": [
       "HBox(children=(FloatProgress(value=0.0, description='epoch 9', max=8940.0, style=ProgressStyle(description_wid…"
      ]
     },
     "metadata": {
      "tags": []
     },
     "output_type": "display_data"
    },
    {
     "name": "stdout",
     "output_type": "stream",
     "text": [
      "\n",
      "loss is: 2.1626\n"
     ]
    },
    {
     "data": {
      "application/vnd.jupyter.widget-view+json": {
       "model_id": "b2be82a163d44bec82e3633e5091e9b6",
       "version_major": 2,
       "version_minor": 0
      },
      "text/plain": [
       "HBox(children=(FloatProgress(value=0.0, description='epoch 10', max=8940.0, style=ProgressStyle(description_wi…"
      ]
     },
     "metadata": {
      "tags": []
     },
     "output_type": "display_data"
    },
    {
     "name": "stdout",
     "output_type": "stream",
     "text": [
      "\n",
      "loss is: 2.1623\n"
     ]
    },
    {
     "data": {
      "application/vnd.jupyter.widget-view+json": {
       "model_id": "1bcd3493845f4c9389172afae2b75c58",
       "version_major": 2,
       "version_minor": 0
      },
      "text/plain": [
       "HBox(children=(FloatProgress(value=0.0, description='epoch 11', max=8940.0, style=ProgressStyle(description_wi…"
      ]
     },
     "metadata": {
      "tags": []
     },
     "output_type": "display_data"
    },
    {
     "name": "stdout",
     "output_type": "stream",
     "text": [
      "\n",
      "loss is: 2.1620\n"
     ]
    },
    {
     "data": {
      "application/vnd.jupyter.widget-view+json": {
       "model_id": "762e0b0369144242b510e2429196532e",
       "version_major": 2,
       "version_minor": 0
      },
      "text/plain": [
       "HBox(children=(FloatProgress(value=0.0, description='epoch 12', max=8940.0, style=ProgressStyle(description_wi…"
      ]
     },
     "metadata": {
      "tags": []
     },
     "output_type": "display_data"
    },
    {
     "name": "stdout",
     "output_type": "stream",
     "text": [
      "\n",
      "loss is: 2.1591\n"
     ]
    },
    {
     "data": {
      "application/vnd.jupyter.widget-view+json": {
       "model_id": "ab2fff030dc24799981f86d2159c8d83",
       "version_major": 2,
       "version_minor": 0
      },
      "text/plain": [
       "HBox(children=(FloatProgress(value=0.0, description='epoch 13', max=8940.0, style=ProgressStyle(description_wi…"
      ]
     },
     "metadata": {
      "tags": []
     },
     "output_type": "display_data"
    },
    {
     "name": "stdout",
     "output_type": "stream",
     "text": [
      "\n",
      "loss is: 2.1588\n"
     ]
    },
    {
     "data": {
      "application/vnd.jupyter.widget-view+json": {
       "model_id": "459952d783914f8d85a7cba52a18fd98",
       "version_major": 2,
       "version_minor": 0
      },
      "text/plain": [
       "HBox(children=(FloatProgress(value=0.0, description='epoch 14', max=8940.0, style=ProgressStyle(description_wi…"
      ]
     },
     "metadata": {
      "tags": []
     },
     "output_type": "display_data"
    },
    {
     "name": "stdout",
     "output_type": "stream",
     "text": [
      "\n",
      "loss is: 2.1587\n"
     ]
    },
    {
     "data": {
      "application/vnd.jupyter.widget-view+json": {
       "model_id": "c6260942abfe478eb715391e80c1b5f0",
       "version_major": 2,
       "version_minor": 0
      },
      "text/plain": [
       "HBox(children=(FloatProgress(value=0.0, description='epoch 15', max=8940.0, style=ProgressStyle(description_wi…"
      ]
     },
     "metadata": {
      "tags": []
     },
     "output_type": "display_data"
    },
    {
     "name": "stdout",
     "output_type": "stream",
     "text": [
      "\n",
      "loss is: 2.1586\n"
     ]
    },
    {
     "data": {
      "application/vnd.jupyter.widget-view+json": {
       "model_id": "44bc0fee72254794894493cb73130c68",
       "version_major": 2,
       "version_minor": 0
      },
      "text/plain": [
       "HBox(children=(FloatProgress(value=0.0, description='epoch 16', max=8940.0, style=ProgressStyle(description_wi…"
      ]
     },
     "metadata": {
      "tags": []
     },
     "output_type": "display_data"
    },
    {
     "name": "stdout",
     "output_type": "stream",
     "text": [
      "\n",
      "loss is: 2.1570\n"
     ]
    },
    {
     "data": {
      "application/vnd.jupyter.widget-view+json": {
       "model_id": "4b3beb1ab89f458fae05f8fcd278b51c",
       "version_major": 2,
       "version_minor": 0
      },
      "text/plain": [
       "HBox(children=(FloatProgress(value=0.0, description='epoch 17', max=8940.0, style=ProgressStyle(description_wi…"
      ]
     },
     "metadata": {
      "tags": []
     },
     "output_type": "display_data"
    },
    {
     "name": "stdout",
     "output_type": "stream",
     "text": [
      "\n",
      "loss is: 2.1569\n"
     ]
    },
    {
     "data": {
      "application/vnd.jupyter.widget-view+json": {
       "model_id": "29b7a34ab66d46e0a9bb3bde1f8ae333",
       "version_major": 2,
       "version_minor": 0
      },
      "text/plain": [
       "HBox(children=(FloatProgress(value=0.0, description='epoch 18', max=8940.0, style=ProgressStyle(description_wi…"
      ]
     },
     "metadata": {
      "tags": []
     },
     "output_type": "display_data"
    },
    {
     "name": "stdout",
     "output_type": "stream",
     "text": [
      "\n",
      "loss is: 2.1568\n"
     ]
    },
    {
     "data": {
      "application/vnd.jupyter.widget-view+json": {
       "model_id": "2fa45f18069041f8b4163543efef32e7",
       "version_major": 2,
       "version_minor": 0
      },
      "text/plain": [
       "HBox(children=(FloatProgress(value=0.0, description='epoch 19', max=8940.0, style=ProgressStyle(description_wi…"
      ]
     },
     "metadata": {
      "tags": []
     },
     "output_type": "display_data"
    },
    {
     "name": "stdout",
     "output_type": "stream",
     "text": [
      "\n",
      "loss is: 2.1567\n"
     ]
    },
    {
     "data": {
      "application/vnd.jupyter.widget-view+json": {
       "model_id": "ea1226d7725b4f90b3db4b8d66887ec6",
       "version_major": 2,
       "version_minor": 0
      },
      "text/plain": [
       "HBox(children=(FloatProgress(value=0.0, description='epoch 20', max=8940.0, style=ProgressStyle(description_wi…"
      ]
     },
     "metadata": {
      "tags": []
     },
     "output_type": "display_data"
    },
    {
     "name": "stdout",
     "output_type": "stream",
     "text": [
      "\n",
      "loss is: 2.1559\n"
     ]
    },
    {
     "data": {
      "application/vnd.jupyter.widget-view+json": {
       "model_id": "41d9e6b6d2e742b395c61221771c7a6f",
       "version_major": 2,
       "version_minor": 0
      },
      "text/plain": [
       "HBox(children=(FloatProgress(value=0.0, description='epoch 21', max=8940.0, style=ProgressStyle(description_wi…"
      ]
     },
     "metadata": {
      "tags": []
     },
     "output_type": "display_data"
    },
    {
     "name": "stdout",
     "output_type": "stream",
     "text": [
      "\n",
      "loss is: 2.1558\n"
     ]
    },
    {
     "data": {
      "application/vnd.jupyter.widget-view+json": {
       "model_id": "5ae696292c004869a98713579c8b0600",
       "version_major": 2,
       "version_minor": 0
      },
      "text/plain": [
       "HBox(children=(FloatProgress(value=0.0, description='epoch 22', max=8940.0, style=ProgressStyle(description_wi…"
      ]
     },
     "metadata": {
      "tags": []
     },
     "output_type": "display_data"
    },
    {
     "name": "stdout",
     "output_type": "stream",
     "text": [
      "\n",
      "loss is: 2.1558\n"
     ]
    },
    {
     "data": {
      "application/vnd.jupyter.widget-view+json": {
       "model_id": "d2f201e0206c4d7a84d556bf9e05b2f6",
       "version_major": 2,
       "version_minor": 0
      },
      "text/plain": [
       "HBox(children=(FloatProgress(value=0.0, description='epoch 23', max=8940.0, style=ProgressStyle(description_wi…"
      ]
     },
     "metadata": {
      "tags": []
     },
     "output_type": "display_data"
    },
    {
     "name": "stdout",
     "output_type": "stream",
     "text": [
      "\n",
      "loss is: 2.1558\n"
     ]
    },
    {
     "data": {
      "application/vnd.jupyter.widget-view+json": {
       "model_id": "a53c78b4d18242589228ad8d5f4221ab",
       "version_major": 2,
       "version_minor": 0
      },
      "text/plain": [
       "HBox(children=(FloatProgress(value=0.0, description='epoch 24', max=8940.0, style=ProgressStyle(description_wi…"
      ]
     },
     "metadata": {
      "tags": []
     },
     "output_type": "display_data"
    },
    {
     "name": "stdout",
     "output_type": "stream",
     "text": [
      "\n",
      "loss is: 2.1553\n"
     ]
    },
    {
     "data": {
      "application/vnd.jupyter.widget-view+json": {
       "model_id": "cc13dffb00ef45409e31b5009625dcdb",
       "version_major": 2,
       "version_minor": 0
      },
      "text/plain": [
       "HBox(children=(FloatProgress(value=0.0, description='epoch 25', max=8940.0, style=ProgressStyle(description_wi…"
      ]
     },
     "metadata": {
      "tags": []
     },
     "output_type": "display_data"
    },
    {
     "name": "stdout",
     "output_type": "stream",
     "text": [
      "\n",
      "loss is: 2.1553\n"
     ]
    },
    {
     "data": {
      "application/vnd.jupyter.widget-view+json": {
       "model_id": "6d6fb4d27af14c339e662007f6558789",
       "version_major": 2,
       "version_minor": 0
      },
      "text/plain": [
       "HBox(children=(FloatProgress(value=0.0, description='epoch 26', max=8940.0, style=ProgressStyle(description_wi…"
      ]
     },
     "metadata": {
      "tags": []
     },
     "output_type": "display_data"
    },
    {
     "name": "stdout",
     "output_type": "stream",
     "text": [
      "\n",
      "loss is: 2.1553\n"
     ]
    },
    {
     "data": {
      "application/vnd.jupyter.widget-view+json": {
       "model_id": "e7ab6b4657ad4fada725070a841b73bc",
       "version_major": 2,
       "version_minor": 0
      },
      "text/plain": [
       "HBox(children=(FloatProgress(value=0.0, description='epoch 27', max=8940.0, style=ProgressStyle(description_wi…"
      ]
     },
     "metadata": {
      "tags": []
     },
     "output_type": "display_data"
    },
    {
     "name": "stdout",
     "output_type": "stream",
     "text": [
      "\n",
      "loss is: 2.1553\n"
     ]
    },
    {
     "data": {
      "application/vnd.jupyter.widget-view+json": {
       "model_id": "e7c112dd7ba948219e3040009be57018",
       "version_major": 2,
       "version_minor": 0
      },
      "text/plain": [
       "HBox(children=(FloatProgress(value=0.0, description='epoch 28', max=8940.0, style=ProgressStyle(description_wi…"
      ]
     },
     "metadata": {
      "tags": []
     },
     "output_type": "display_data"
    },
    {
     "name": "stdout",
     "output_type": "stream",
     "text": [
      "\n",
      "loss is: 2.1551\n"
     ]
    },
    {
     "data": {
      "application/vnd.jupyter.widget-view+json": {
       "model_id": "5410872f927c4880acb5775fe13c8bf2",
       "version_major": 2,
       "version_minor": 0
      },
      "text/plain": [
       "HBox(children=(FloatProgress(value=0.0, description='epoch 29', max=8940.0, style=ProgressStyle(description_wi…"
      ]
     },
     "metadata": {
      "tags": []
     },
     "output_type": "display_data"
    },
    {
     "name": "stdout",
     "output_type": "stream",
     "text": [
      "\n",
      "loss is: 2.1550\n",
      "Time is: 17 min 55 sec\n"
     ]
    }
   ],
   "source": [
    "device = torch.device('cuda' if torch.cuda.is_available() else 'cpu')\n",
    "\n",
    "# load data:\n",
    "data_set = CommonDataSet(X_list, y_list, device)\n",
    "\n",
    "batch_size = 256\n",
    "\n",
    "# training network model:\n",
    "start = time.time() \n",
    "net = MyNet2(input_dim=(X_list[0].shape[0]),\n",
    "            output_dim=len(phones_dict.keys())).to(device)\n",
    "criterion = nn.CrossEntropyLoss()\n",
    "optimizer = torch.optim.Adam(net.parameters(), lr=0.01)\n",
    "lr_scheduler = torch.optim.lr_scheduler.StepLR(optimizer, 4, gamma=0.5)\n",
    "\n",
    "loss_list = []\n",
    "\n",
    "print('TRAINIG IS STARTED...')\n",
    "for epoch in range(30):\n",
    "    running_loss = 0\n",
    "    counter = 0\n",
    "    for batch_xs, batch_ys in tqdm(data_set.next_batch(batch_size), \\\n",
    "                                   total=data_set.num_batches(batch_size), \\\n",
    "                                   desc='epoch {}'.format(epoch)):\n",
    "        optimizer.zero_grad()\n",
    "        output = net(batch_xs)\n",
    "\n",
    "        loss = criterion(output, batch_ys)\n",
    "        loss.backward()\n",
    "        optimizer.step()\n",
    "        \n",
    "        running_loss += loss.item()\n",
    "        counter += 1\n",
    "        \n",
    "    print('loss is: {:.4f}'.format((running_loss / counter)))\n",
    "    loss_list.append(running_loss / counter)\n",
    "\n",
    "    lr_scheduler.step()\n",
    "    \n",
    "end = time.time()\n",
    "minutes = (end - start) // 60\n",
    "seconds = np.mod((end - start), 60)\n",
    "print('Time is: {} min {} sec'.format(int(minutes), int(seconds)))"
   ]
  },
  {
   "cell_type": "code",
   "execution_count": 68,
   "metadata": {
    "colab": {
     "base_uri": "https://localhost:8080/",
     "height": 350
    },
    "id": "Eb6dlB11f9tJ",
    "outputId": "01475b17-7714-4715-8b0a-3b20a18d9802"
   },
   "outputs": [
    {
     "data": {
      "image/png": "[encoded data removed]",
      "text/plain": [
       "<Figure size 1080x360 with 1 Axes>"
      ]
     },
     "metadata": {
      "needs_background": "light",
      "tags": []
     },
     "output_type": "display_data"
    }
   ],
   "source": [
    "plt.rcParams['figure.figsize'] = (15.0, 5.0)\n",
    "plt.plot(loss_list)\n",
    "plt.title('Loss per epoch')\n",
    "plt.ylabel('loss')\n",
    "plt.xlabel('epoch')\n",
    "plt.grid()\n",
    "plt.show()"
   ]
  },
  {
   "cell_type": "code",
   "execution_count": 72,
   "metadata": {
    "colab": {
     "base_uri": "https://localhost:8080/",
     "height": 83,
     "referenced_widgets": [
      "c9f4a0d539e249169eca6c256202288e",
      "064d39ffc4374173981e8b3b07881158",
      "bc09a04c891d47549a888b2a31ef3092",
      "bab99ceb2ad24a1c97d1c4fb47be32e9",
      "a5376426a6cf4551b5a41420bce29eeb",
      "5dc568c8d3a8499185bbee3f5f605d65",
      "c7fcfa90553f4367b850b1020927ee08",
      "90be8f730ba74588bb4797a013ffee35"
     ]
    },
    "id": "Og_i93uLf96T",
    "outputId": "ba9a6d7c-4947-4200-9d37-532bcb78dd9d"
   },
   "outputs": [
    {
     "data": {
      "application/vnd.jupyter.widget-view+json": {
       "model_id": "c9f4a0d539e249169eca6c256202288e",
       "version_major": 2,
       "version_minor": 0
      },
      "text/plain": [
       "HBox(children=(FloatProgress(value=0.0, max=254317.0), HTML(value='')))"
      ]
     },
     "metadata": {
      "tags": []
     },
     "output_type": "display_data"
    },
    {
     "name": "stdout",
     "output_type": "stream",
     "text": [
      "\n",
      "Total frame accuracy is 0.173\n"
     ]
    }
   ],
   "source": [
    "net.cpu()\n",
    "with torch.no_grad():\n",
    "    correct_cnt = 0\n",
    "    for ftr, true_label in tqdm(zip(data_set.valid, data_set.y_test), total=len(data_set.valid)):\n",
    "        ftr = torch.from_numpy(ftr).float().unsqueeze(0)\n",
    "        output = net.forward(ftr)\n",
    "        correct_cnt += (output.argmax().item() == true_label)\n",
    "        \n",
    "    print(\"Total frame accuracy is {:.3f}\".format(correct_cnt / len(data_set.valid)))"
   ]
  },
  {
   "cell_type": "code",
   "execution_count": 74,
   "metadata": {
    "colab": {
     "base_uri": "https://localhost:8080/",
     "height": 1000,
     "referenced_widgets": [
      "757a9e288cf641e1bf5f0c9a8f19d4c5",
      "cb752d6aa1b54a3a8282d05b16e6730d",
      "7010d72d94de4c039854f5f746a93e5a",
      "d7c54d90b5d24c3db548e03e11a63378",
      "3d5be2d725f5429787ab9cf73c1b3631",
      "8bcaa1a1b2ef4c5cbf0150917c3f2725",
      "fc2722b55fcf4faa92c8f347e66a5739",
      "0c5bad30ca1641228cec67f2b456f800"
     ]
    },
    "id": "nVyIFfWEgHHk",
    "outputId": "0f4e801c-96c1-41e7-8dfd-512cec938f87"
   },
   "outputs": [
    {
     "name": "stdout",
     "output_type": "stream",
     "text": [
      "\n"
     ]
    },
    {
     "data": {
      "application/vnd.jupyter.widget-view+json": {
       "model_id": "757a9e288cf641e1bf5f0c9a8f19d4c5",
       "version_major": 2,
       "version_minor": 0
      },
      "text/plain": [
       "HBox(children=(FloatProgress(value=0.0, max=254317.0), HTML(value='')))"
      ]
     },
     "metadata": {
      "tags": []
     },
     "output_type": "display_data"
    },
    {
     "name": "stdout",
     "output_type": "stream",
     "text": [
      "\n",
      "SIL: 0.34 : 15494/45037\n",
      "SPN: 0.00 : 0/1060\n",
      "AA0: 0.00 : 0/73\n",
      "AA1: 0.10 : 368/3538\n",
      "AA2: 0.00 : 0/157\n",
      "AE0: 0.00 : 0/102\n",
      "AE1: 0.12 : 827/7059\n",
      "AE2: 0.00 : 0/217\n",
      "AH0: 0.10 : 1067/11118\n",
      "AH1: 0.05 : 185/3818\n",
      "AH2: 0.00 : 0/90\n",
      "AO0: 0.00 : 0/57\n",
      "AO1: 0.15 : 606/4012\n",
      "AO2: 0.00 : 0/95\n",
      "AW0: 0.00 : 0/18\n",
      "AW1: 0.04 : 79/2198\n",
      "AW2: 0.00 : 0/72\n",
      "AY0: 0.00 : 0/90\n",
      "AY1: 0.02 : 102/5804\n",
      "AY2: 0.00 : 0/352\n",
      "B  : 0.00 : 10/3139\n",
      "CH : 0.01 : 11/1766\n",
      "D  : 0.06 : 508/7964\n",
      "DH : 0.07 : 276/4006\n",
      "EH0: 0.00 : 0/110\n",
      "EH1: 0.00 : 26/5663\n",
      "EH2: 0.00 : 0/183\n",
      "ER0: 0.09 : 463/5227\n",
      "ER1: 0.00 : 0/1939\n",
      "ER2: 0.00 : 0/25\n",
      "EY0: 0.00 : 0/39\n",
      "EY1: 0.03 : 149/4615\n",
      "EY2: 0.00 : 0/281\n",
      "F  : 0.12 : 565/4590\n",
      "G  : 0.01 : 20/1631\n",
      "HH : 0.11 : 499/4387\n",
      "IH0: 0.05 : 272/5312\n",
      "IH1: 0.00 : 12/4554\n",
      "IH2: 0.00 : 0/187\n",
      "IY0: 0.22 : 1018/4541\n",
      "IY1: 0.00 : 1/4755\n",
      "IY2: 0.00 : 0/105\n",
      "JH : 0.05 : 63/1295\n",
      "K  : 0.10 : 604/6005\n",
      "L  : 0.47 : 3947/8466\n",
      "M  : 0.07 : 448/6218\n",
      "N  : 0.24 : 2853/11839\n",
      "NG : 0.03 : 70/2622\n",
      "OW0: 0.00 : 0/415\n",
      "OW1: 0.21 : 816/3900\n",
      "OW2: 0.00 : 0/179\n",
      "OY0: 0.00 : 0/3\n",
      "OY1: 0.00 : 0/502\n",
      "OY2: 0.00 : 0/12\n",
      "P  : 0.00 : 15/4188\n",
      "R  : 0.29 : 2302/7913\n",
      "S  : 0.15 : 1989/13612\n",
      "SH : 0.39 : 1019/2581\n",
      "T  : 0.16 : 1991/12437\n",
      "TH : 0.03 : 43/1637\n",
      "UH0: 0.00 : 0/3\n",
      "UH1: 0.00 : 0/815\n",
      "UH2: 0.00 : 0/21\n",
      "UW0: 0.00 : 0/170\n",
      "UW1: 0.00 : 6/3173\n",
      "UW2: 0.00 : 0/67\n",
      "V  : 0.01 : 19/3276\n",
      "W  : 0.26 : 1255/4766\n",
      "Y  : 0.03 : 44/1397\n",
      "Z  : 0.58 : 3858/6683\n",
      "ZH : 0.00 : 0/136\n"
     ]
    }
   ],
   "source": [
    "class_correct = [0 for x in range(len(phones_dict.keys()))]\n",
    "class_total = [0 for x in range(len(phones_dict.keys()))]\n",
    "net.cpu()\n",
    "with torch.no_grad():\n",
    "    for ftr, true_label in tqdm(zip(data_set.valid, data_set.y_test), total=len(data_set.valid)):\n",
    "        ftr = torch.from_numpy(ftr).float().unsqueeze(0)\n",
    "        output = net.forward(ftr)\n",
    "        predict_label = output.argmax().item()\n",
    "        \n",
    "        class_correct[predict_label] += (predict_label == int(true_label))\n",
    "        class_total[int(true_label)] += 1\n",
    "\n",
    "for idx, phone in enumerate(phones_dict.keys()):\n",
    "    if class_total[idx]:\n",
    "        print('{:3s}: {:.2f} : {}/{}'.format(phone, class_correct[idx] / class_total[idx], \\\n",
    "                                                     class_correct[idx], class_total[idx]))"
   ]
  },
  {
   "cell_type": "markdown",
   "metadata": {
    "id": "nIRfRzMYgNn5"
   },
   "source": [
    "### Распознавание по словарю с помощью нейронки"
   ]
  },
  {
   "cell_type": "code",
   "execution_count": 76,
   "metadata": {
    "id": "BaGrFSm9gOYK"
   },
   "outputs": [],
   "source": [
    "# теперь будем распознавать по словарю, состоящему из конечных слов\n",
    "# для этого нужно загрузить файл лексикона, который определяет из каких фонем состоят наши слова\n",
    "def load_lexicon_dict(lexicon_file):\n",
    "    lexicon_dict = {}\n",
    "    with open(lexicon_file, encoding='utf-8') as fn:\n",
    "        for line in fn:\n",
    "            line = line.strip().split()\n",
    "            lexicon_dict[line[0]] = line[1:]\n",
    "    return lexicon_dict"
   ]
  },
  {
   "cell_type": "code",
   "execution_count": 97,
   "metadata": {
    "id": "-Nyn975_gSXX"
   },
   "outputs": [],
   "source": [
    "class AcousticModel:\n",
    "    def __init__(self, phone_name, phone_index, priors_list):\n",
    "        self.phone_name = phone_name\n",
    "        self.phone_index = phone_index\n",
    "        self.phone_prior = priors_list[phone_index]\n",
    "        \n",
    "    def distance(self, input_feats, nnet):\n",
    "        with torch.no_grad():\n",
    "            predicts = nnet.forward(torch.tensor(input_feats, dtype=torch.float32).unsqueeze(0))\n",
    "            softmax = torch.nn.functional.softmax(predicts, dim=0).squeeze()\n",
    "        return -np.log(softmax[self.phone_index].item() / self.phone_prior)\n",
    "\n",
    "class State:\n",
    "    def __init__(self, model, index):  \n",
    "        self.model = model                     # вектор признаков узла\n",
    "        self.is_final = False                  # является ли этот узел финальнвм в слове\n",
    "        self.word = None                       # слово эталона (назначается только для финального узла)\n",
    "        self.best_token = None                 # лучший токен (по минимуму дистанции) в узле\n",
    "        self.current_word = None               # текущее слово эталона\n",
    "        self.next_states = []                  # список следующих узлов\n",
    "        self.index = index                     # индекс узла \n",
    "\n",
    "        \n",
    "def load_graph(lexicon_dict, phones_dict, priors_list):\n",
    "    start_state = State(None, 0)\n",
    "    graph = [start_state, ]\n",
    "    state_index = 1\n",
    "    for word in lexicon_dict.keys():\n",
    "        previous_state = start_state\n",
    "        for phone in lexicon_dict[word]:\n",
    "            state = State(AcousticModel(phone, phones_dict[phone], priors_list), state_index)\n",
    "            state.current_word = word           # слово эталона теперь будет храниться в каждом узле\n",
    "            state.next_states.append(state)     # add loop\n",
    "            previous_state.next_states.append(state)\n",
    "            previous_state = state \n",
    "            graph.append(state)\n",
    "            state_index += 1\n",
    "        if state:\n",
    "            state.word = word\n",
    "            state.is_final = True\n",
    "    return graph"
   ]
  },
  {
   "cell_type": "code",
   "execution_count": 98,
   "metadata": {
    "id": "lK9ZeJzJgXp7"
   },
   "outputs": [],
   "source": [
    "class Token:\n",
    "    def __init__(self, state, dist=0.0, word=\"\"):\n",
    "        self.state = state       # стейт графа, в котором токен находится в текущий момент\n",
    "        self.dist = dist         # общая накопленная дистанция пути, пройденного токеном\n",
    "        self.word = word         # слово, которое распозналось токеном\n",
    "        self.alive = True\n",
    "\n",
    "\n",
    "def beam_pruning(next_tokens, threshold):   \n",
    "    alive_tokens = [token for token in next_tokens if token.alive]\n",
    "    best_token = alive_tokens[np.argmin([token.dist for token in alive_tokens if token.alive])]\n",
    "    for token in next_tokens:\n",
    "        if token.dist > best_token.dist + threshold:\n",
    "            token.alive = False\n",
    "    return next_tokens\n",
    "\n",
    "\n",
    "def state_pruning(next_tokens):\n",
    "    for i in range(len(next_tokens)): \n",
    "        state_index = next_tokens[i].state.index\n",
    "        if not graph[state_index].best_token:\n",
    "            graph[state_index].best_token = next_tokens[i]\n",
    "        else:\n",
    "            if next_tokens[i].dist <= graph[state_index].best_token.dist:\n",
    "                graph[state_index].best_token.alive = False\n",
    "                graph[state_index].best_token = next_tokens[i]\n",
    "            else:\n",
    "                next_tokens[i].alive = False\n",
    "    for token in next_tokens:                           \n",
    "        index = token.state.index                        \n",
    "        if graph[index].best_token:                     \n",
    "            graph[index].best_token = None              \n",
    "    return next_tokens\n",
    "\n",
    "\n",
    "def recognize(filename, features, graph, nnet, recognition_results, beam_threshold, side_context):\n",
    "\n",
    "    start_state = graph[0]\n",
    "    active_tokens = [Token(start_state), ]\n",
    "    next_tokens = []\n",
    "    \n",
    "    for frame in range(side_context, len(features) - side_context):\n",
    "        ftr_frame = np.concatenate([\n",
    "            features[i]\n",
    "            for i in range(frame-side_context, frame+side_context+1)\n",
    "        ])\n",
    "        for token in active_tokens:\n",
    "            if token.alive:\n",
    "                for transition_state in token.state.next_states:\n",
    "                    new_token = Token(transition_state, token.dist, token.word)\n",
    "                    new_token.dist += transition_state.model.distance(ftr_frame, nnet)\n",
    "                    next_tokens.append(new_token)\n",
    "        # state and beam prunings:\n",
    "        next_tokens = state_pruning(next_tokens)         \n",
    "        next_tokens = beam_pruning(next_tokens, beam_threshold) \n",
    "\n",
    "        active_tokens = next_tokens\n",
    "        next_tokens = []                                    \n",
    "        \n",
    "    # поиск финальных токенов:\n",
    "    final_tokens = []\n",
    "    for token in active_tokens:\n",
    "        if token.state.is_final and token.alive:\n",
    "            final_tokens.append(token)\n",
    "\n",
    "    # если нет финальных, то берем лучший из выживших:\n",
    "    if len(final_tokens) != 0:\n",
    "        win_token = final_tokens[np.argmin([token.dist for token in final_tokens])]\n",
    "    else:\n",
    "        alive_tokens = [token for token in active_tokens if token.alive]\n",
    "        win_token = alive_tokens[np.argmin([token.dist for token in alive_tokens])]\n",
    "        win_token.state.word = win_token.state.current_word\n",
    "\n",
    "    # вывод результата\n",
    "    print(f\"result: {filename:<27} ==> {win_token.state.word}\")\n",
    "\n",
    "    # совпадает ли запись с полученным эталоном:  \n",
    "    record_word = filename.split('_')[0]\n",
    "    etalon_word = win_token.state.word.split('_')[0]\n",
    "    recognition_results.append(etalon_word.lower() == record_word)\n",
    "\n",
    "    return recognition_results"
   ]
  },
  {
   "cell_type": "code",
   "execution_count": 99,
   "metadata": {
    "id": "mr-Eg4ejgait"
   },
   "outputs": [],
   "source": [
    "def run_recognizer(records_data_dict, graph, nnet, beam_threshold, side_context):\n",
    "    start_time = time.time()\n",
    "    recognition_results = []\n",
    "\n",
    "    for filename in records_data_dict.keys():    \n",
    "        recognition_results = recognize(filename,\n",
    "                                        records_data_dict[filename],\n",
    "                                        graph, nnet,\n",
    "                                        recognition_results, beam_threshold,\n",
    "                                        side_context\n",
    "                                        )\n",
    "\n",
    "    print(\"-\" * 60)\n",
    "    print(f\"WER is: {(1 - sum(recognition_results)/len(recognition_results))*100:.2f}%\")\n",
    "    print(f\"Total time is: {time.time() - start_time:.2f} sec\")\n",
    "    print(\"-\" * 60)"
   ]
  },
  {
   "cell_type": "markdown",
   "metadata": {
    "id": "mwf8Fl3ffkM_"
   },
   "source": [
    "### Запустим распознавание на базе YES_NO"
   ]
  },
  {
   "cell_type": "code",
   "execution_count": 100,
   "metadata": {
    "colab": {
     "base_uri": "https://localhost:8080/",
     "height": 304,
     "referenced_widgets": [
      "d10bb239bbf04300a66a2bd15ae7cd3c",
      "670bfaaa099947b88c988f8a6d2fd643",
      "f73e55141a874f1c99bd4382bfb18ff1",
      "e41b94a9d5ae4a79bbd682ba0765bd6c",
      "5ecc859f250b4a4e94b72aefc8b6d7bb",
      "a8939e6a24334ed5af6387a1699165e7",
      "62b2b6e3a79a4f1489e838db31585b92",
      "27e484878cdc45feb70f7904244f1c21"
     ]
    },
    "id": "knH2AK1-gfD3",
    "outputId": "9a571e2e-eb8b-47ef-8368-59ee8fe84293"
   },
   "outputs": [
    {
     "data": {
      "application/vnd.jupyter.widget-view+json": {
       "model_id": "d10bb239bbf04300a66a2bd15ae7cd3c",
       "version_major": 2,
       "version_minor": 0
      },
      "text/plain": [
       "HBox(children=(FloatProgress(value=0.0, max=10.0), HTML(value='')))"
      ]
     },
     "metadata": {
      "tags": []
     },
     "output_type": "display_data"
    },
    {
     "name": "stdout",
     "output_type": "stream",
     "text": [
      "\n",
      "result: yes_ff63ab0b_nohash_0       ==> YES\n",
      "result: no_ad89eb1e_nohash_0        ==> YES\n",
      "result: no_49af4432_nohash_0        ==> YES\n",
      "result: no_4abb2400_nohash_0        ==> YES\n",
      "result: yes_fc94edb0_nohash_0       ==> YES\n",
      "result: no_41474817_nohash_0        ==> YES\n",
      "result: yes_fe1916ba_nohash_0       ==> YES\n",
      "result: yes_39a6b995_nohash_0       ==> YES\n",
      "result: yes_39a12648_nohash_0       ==> YES\n",
      "result: no_4394fc7c_nohash_0        ==> YES\n",
      "------------------------------------------------------------\n",
      "WER is: 50.00%\n",
      "Total time is: 4.25 sec\n",
      "------------------------------------------------------------\n"
     ]
    }
   ],
   "source": [
    "lexicon_file = 'data/lexicon_yes_no.txt'\n",
    "lexicon_dict = load_lexicon_dict(lexicon_file)\n",
    "graph = load_graph(lexicon_dict, phones_dict, priors_list)\n",
    "records_data_dict = load_data_dict(\"data/yes_no/records\")\n",
    "\n",
    "run_recognizer(records_data_dict, graph, net.cpu(), 100, side_context)"
   ]
  },
  {
   "cell_type": "markdown",
   "metadata": {
    "id": "1mIcRKQNfl35"
   },
   "source": [
    "### Запустим распознавание на базе Digits"
   ]
  },
  {
   "cell_type": "code",
   "execution_count": 101,
   "metadata": {
    "colab": {
     "base_uri": "https://localhost:8080/",
     "height": 474,
     "referenced_widgets": [
      "793cf8b39f304596a14a5ade87e01b2d",
      "6df061fd65c045be8699d9484ffc1a2c",
      "ed0c7150d3b64c74a76412f512a5d51b",
      "aa4e2c8af1c742848b41e867d94f772b",
      "0a8766e0009f4bc89e65e218cec1637e",
      "245610a3ac34423a83c29d096a9ea504",
      "9407686405ae473abb768970d795b0e9",
      "0f89760b5d2f4e429533c6314f74f224"
     ]
    },
    "id": "D862ICRZgf2V",
    "outputId": "35ab62f5-895e-4673-f6ee-50a232fe67cf"
   },
   "outputs": [
    {
     "data": {
      "application/vnd.jupyter.widget-view+json": {
       "model_id": "793cf8b39f304596a14a5ade87e01b2d",
       "version_major": 2,
       "version_minor": 0
      },
      "text/plain": [
       "HBox(children=(FloatProgress(value=0.0, max=20.0), HTML(value='')))"
      ]
     },
     "metadata": {
      "tags": []
     },
     "output_type": "display_data"
    },
    {
     "name": "stdout",
     "output_type": "stream",
     "text": [
      "\n",
      "result: five_f852895b_nohash_0      ==> ZERO\n",
      "result: two_fce65496_nohash_0       ==> ZERO\n",
      "result: four_fce65496_nohash_0      ==> ZERO\n",
      "result: one_ffa76c4a_nohash_0       ==> ZERO\n",
      "result: five_ffd2ba2f_nohash_0      ==> ZERO\n",
      "result: seven_fe5c4a7a_nohash_0     ==> ZERO\n",
      "result: zero_f852895b_nohash_0      ==> ZERO\n",
      "result: seven_fd32732a_nohash_0     ==> ZERO\n",
      "result: six_ffd2ba2f_nohash_0       ==> ZERO\n",
      "result: eight_daf230ac_nohash_0     ==> ZERO\n",
      "result: six_ffbb695d_nohash_0       ==> ZERO\n",
      "result: two_fb2f3242_nohash_0       ==> ZERO\n",
      "result: three_fce96bac_nohash_0     ==> ZERO\n",
      "result: nine_ccea893d_nohash_0      ==> ZERO\n",
      "result: nine_fbe51750_nohash_0      ==> ZERO\n",
      "result: zero_f92e49f3_nohash_3      ==> ZERO\n",
      "result: one_fc2411fe_nohash_0       ==> ZERO\n",
      "result: four_ffbb695d_nohash_0      ==> ZERO\n",
      "result: eight_da584bc0_nohash_4     ==> ZERO\n",
      "result: three_feb1d305_nohash_0     ==> ZERO\n",
      "------------------------------------------------------------\n",
      "WER is: 90.00%\n",
      "Total time is: 27.98 sec\n",
      "------------------------------------------------------------\n"
     ]
    }
   ],
   "source": [
    "lexicon_file = 'data/lexicon_digits.txt'\n",
    "lexicon_dict = load_lexicon_dict(lexicon_file)\n",
    "graph = load_graph(lexicon_dict, phones_dict, priors_list)\n",
    "records_data_dict = load_data_dict(\"data/digits/records\")\n",
    "\n",
    "run_recognizer(records_data_dict, graph, net.cpu(), 100, side_context)"
   ]
  },
  {
   "cell_type": "markdown",
   "metadata": {
    "id": "BKFMxsxkgioi"
   },
   "source": [
    "### <b>Задание №1</b> (5 баллов):\n",
    "Реализовать контексты для входных признаков путем конкатенации кадров слева и справа от текущего. Не забудьте поддержать это и в функции распознавания. Насколько улучшилось качество на дата сетах?\n",
    "\n",
    "![](https://drive.google.com/uc?export=view&id=1ft0z6CPhX20cJnA373uLoYwHPEagaKyo)"
   ]
  },
  {
   "cell_type": "markdown",
   "metadata": {
    "id": "8t1Wg-zJg0tR"
   },
   "source": [
    "### <b>Задание №2</b> (5 баллов):\n",
    "Повысить качество классификации фонем за счет улучшения архитектуры нейронной сети, оптимизатора, других речевых признаков и т.п. Составить небольшой отчет на основе результатов перебора использованных способов. "
   ]
  },
  {
   "cell_type": "markdown",
   "metadata": {
    "id": "Vdo23UcSGsSd"
   },
   "source": [
    "### ОТЧЕТ"
   ]
  },
  {
   "cell_type": "code",
   "execution_count": 102,
   "metadata": {
    "colab": {
     "base_uri": "https://localhost:8080/",
     "height": 235
    },
    "id": "S1OoQK_YcNFu",
    "outputId": "990b7bae-341c-492f-90d6-c25859e47bfd"
   },
   "outputs": [
    {
     "data": {
      "text/html": [
       "<div>\n",
       "<style scoped>\n",
       "    .dataframe tbody tr th:only-of-type {\n",
       "        vertical-align: middle;\n",
       "    }\n",
       "\n",
       "    .dataframe tbody tr th {\n",
       "        vertical-align: top;\n",
       "    }\n",
       "\n",
       "    .dataframe thead th {\n",
       "        text-align: right;\n",
       "    }\n",
       "</style>\n",
       "<table border=\"1\" class=\"dataframe\">\n",
       "  <thead>\n",
       "    <tr style=\"text-align: right;\">\n",
       "      <th></th>\n",
       "      <th>side context</th>\n",
       "      <th>min loss</th>\n",
       "      <th>Total frame accuracy</th>\n",
       "      <th>YesNo WER</th>\n",
       "      <th>Digits WER</th>\n",
       "      <th>N files</th>\n",
       "      <th>Nets</th>\n",
       "    </tr>\n",
       "  </thead>\n",
       "  <tbody>\n",
       "    <tr>\n",
       "      <th>0</th>\n",
       "      <td>0</td>\n",
       "      <td>2.1420</td>\n",
       "      <td>0.407</td>\n",
       "      <td>10</td>\n",
       "      <td>25</td>\n",
       "      <td>1000</td>\n",
       "      <td>MyNet</td>\n",
       "    </tr>\n",
       "    <tr>\n",
       "      <th>1</th>\n",
       "      <td>1</td>\n",
       "      <td>2.0081</td>\n",
       "      <td>0.430</td>\n",
       "      <td>0</td>\n",
       "      <td>25</td>\n",
       "      <td>1000</td>\n",
       "      <td>MyNet</td>\n",
       "    </tr>\n",
       "    <tr>\n",
       "      <th>2</th>\n",
       "      <td>2</td>\n",
       "      <td>1.9031</td>\n",
       "      <td>0.449</td>\n",
       "      <td>0</td>\n",
       "      <td>10</td>\n",
       "      <td>1000</td>\n",
       "      <td>MyNet</td>\n",
       "    </tr>\n",
       "    <tr>\n",
       "      <th>3</th>\n",
       "      <td>3</td>\n",
       "      <td>1.8410</td>\n",
       "      <td>0.466</td>\n",
       "      <td>0</td>\n",
       "      <td>10</td>\n",
       "      <td>1000</td>\n",
       "      <td>MyNet</td>\n",
       "    </tr>\n",
       "    <tr>\n",
       "      <th>4</th>\n",
       "      <td>3</td>\n",
       "      <td>1.9495</td>\n",
       "      <td>0.444</td>\n",
       "      <td>0</td>\n",
       "      <td>25</td>\n",
       "      <td>2000</td>\n",
       "      <td>MyNet</td>\n",
       "    </tr>\n",
       "    <tr>\n",
       "      <th>5</th>\n",
       "      <td>0</td>\n",
       "      <td>2.1550</td>\n",
       "      <td>0.173</td>\n",
       "      <td>50</td>\n",
       "      <td>90</td>\n",
       "      <td>2000</td>\n",
       "      <td>MyNet2</td>\n",
       "    </tr>\n",
       "  </tbody>\n",
       "</table>\n",
       "</div>"
      ],
      "text/plain": [
       "   side context  min loss  Total frame accuracy  ...  Digits WER  N files    Nets\n",
       "0             0    2.1420                 0.407  ...          25     1000   MyNet\n",
       "1             1    2.0081                 0.430  ...          25     1000   MyNet\n",
       "2             2    1.9031                 0.449  ...          10     1000   MyNet\n",
       "3             3    1.8410                 0.466  ...          10     1000   MyNet\n",
       "4             3    1.9495                 0.444  ...          25     2000   MyNet\n",
       "5             0    2.1550                 0.173  ...          90     2000  MyNet2\n",
       "\n",
       "[6 rows x 7 columns]"
      ]
     },
     "execution_count": 102,
     "metadata": {
      "tags": []
     },
     "output_type": "execute_result"
    }
   ],
   "source": [
    "nets = ['MyNet', 'MyNet', 'MyNet', 'MyNet', 'MyNet', 'MyNet2']\n",
    "side_context = [0, 1, 2, 3, 3, 0]\n",
    "min_loss = [2.1420, 2.0081, 1.9031, 1.8410, 1.9495, 2.1550,]\n",
    "TFA = [0.407, 0.430, 0.449, 0.466, 0.444, 0.173,]\n",
    "YN = [10, 0, 0, 0, 0, 50]\n",
    "Digits = [25, 25, 10, 10, 25, 90, ]\n",
    "n_data = [1000, 1000, 1000, 1000, 2000, 2000]\n",
    "\n",
    "import pandas as pd\n",
    "pd.DataFrame(\n",
    "    {'side context': side_context,\n",
    "     'min loss': min_loss,\n",
    "     'Total frame accuracy': TFA,\n",
    "     'YesNo WER': YN,\n",
    "     'Digits WER': Digits,\n",
    "     'N files': n_data,\n",
    "     'Nets': nets,\n",
    "     },\n",
    ")"
   ]
  },
  {
   "cell_type": "markdown",
   "metadata": {
    "id": "2_M8kYscwLF6"
   },
   "source": [
    "Использовалась стандартная сеть с разными `side_context` и `N files` на входе. Действительно получилось увеличить качество распознавания при увеличении окружения, но, что странно, увеличение выборки не дало прироста к качеству. Во всех экспериментах использовался `optimizer = torch.optim.Adam(net.parameters(), lr=0.01)` и \n",
    "`lr_scheduler = torch.optim.lr_scheduler.StepLR(optimizer, 4, gamma=0.5)`. Обучалось 30 эпох с батчом 256.\n",
    "\n",
    "Побоялся проводить больше экспериметов с `N files`, поскольку на первом эксперименте дало ухудшение.\n",
    "\n",
    "Как показывает практика, сверточные нейросети быстрее переобучаются под один класс, который чаще встречается, поэтому скорее всего необходимо использовать другой `Loss` (например, `Weighted CELoss`, `FocalLoss`) "
   ]
  }
 ],
 "metadata": {
  "accelerator": "GPU",
  "colab": {
   "collapsed_sections": [],
   "name": "asr_lab_3.ipynb",
   "provenance": []
  },
  "kernelspec": {
   "display_name": "Python 3",
   "language": "python",
   "name": "python3"
  },
  "language_info": {
   "codemirror_mode": {
    "name": "ipython",
    "version": 3
   },
   "file_extension": ".py",
   "mimetype": "text/x-python",
   "name": "python",
   "nbconvert_exporter": "python",
   "pygments_lexer": "ipython3",
   "version": "3.9.0"
  },
  "widgets": {
   "application/vnd.jupyter.widget-state+json": {
    "064d39ffc4374173981e8b3b07881158": {
     "model_module": "@jupyter-widgets/base",
     "model_name": "LayoutModel",
     "state": {
      "_model_module": "@jupyter-widgets/base",
      "_model_module_version": "1.2.0",
      "_model_name": "LayoutModel",
      "_view_count": null,
      "_view_module": "@jupyter-widgets/base",
      "_view_module_version": "1.2.0",
      "_view_name": "LayoutView",
      "align_content": null,
      "align_items": null,
      "align_self": null,
      "border": null,
      "bottom": null,
      "display": null,
      "flex": null,
      "flex_flow": null,
      "grid_area": null,
      "grid_auto_columns": null,
      "grid_auto_flow": null,
      "grid_auto_rows": null,
      "grid_column": null,
      "grid_gap": null,
      "grid_row": null,
      "grid_template_areas": null,
      "grid_template_columns": null,
      "grid_template_rows": null,
      "height": null,
      "justify_content": null,
      "justify_items": null,
      "left": null,
      "margin": null,
      "max_height": null,
      "max_width": null,
      "min_height": null,
      "min_width": null,
      "object_fit": null,
      "object_position": null,
      "order": null,
      "overflow": null,
      "overflow_x": null,
      "overflow_y": null,
      "padding": null,
      "right": null,
      "top": null,
      "visibility": null,
      "width": null
     }
    },
    "0a8766e0009f4bc89e65e218cec1637e": {
     "model_module": "@jupyter-widgets/controls",
     "model_name": "ProgressStyleModel",
     "state": {
      "_model_module": "@jupyter-widgets/controls",
      "_model_module_version": "1.5.0",
      "_model_name": "ProgressStyleModel",
      "_view_count": null,
      "_view_module": "@jupyter-widgets/base",
      "_view_module_version": "1.2.0",
      "_view_name": "StyleView",
      "bar_color": null,
      "description_width": "initial"
     }
    },
    "0c5bad30ca1641228cec67f2b456f800": {
     "model_module": "@jupyter-widgets/base",
     "model_name": "LayoutModel",
     "state": {
      "_model_module": "@jupyter-widgets/base",
      "_model_module_version": "1.2.0",
      "_model_name": "LayoutModel",
      "_view_count": null,
      "_view_module": "@jupyter-widgets/base",
      "_view_module_version": "1.2.0",
      "_view_name": "LayoutView",
      "align_content": null,
      "align_items": null,
      "align_self": null,
      "border": null,
      "bottom": null,
      "display": null,
      "flex": null,
      "flex_flow": null,
      "grid_area": null,
      "grid_auto_columns": null,
      "grid_auto_flow": null,
      "grid_auto_rows": null,
      "grid_column": null,
      "grid_gap": null,
      "grid_row": null,
      "grid_template_areas": null,
      "grid_template_columns": null,
      "grid_template_rows": null,
      "height": null,
      "justify_content": null,
      "justify_items": null,
      "left": null,
      "margin": null,
      "max_height": null,
      "max_width": null,
      "min_height": null,
      "min_width": null,
      "object_fit": null,
      "object_position": null,
      "order": null,
      "overflow": null,
      "overflow_x": null,
      "overflow_y": null,
      "padding": null,
      "right": null,
      "top": null,
      "visibility": null,
      "width": null
     }
    },
    "0f89760b5d2f4e429533c6314f74f224": {
     "model_module": "@jupyter-widgets/base",
     "model_name": "LayoutModel",
     "state": {
      "_model_module": "@jupyter-widgets/base",
      "_model_module_version": "1.2.0",
      "_model_name": "LayoutModel",
      "_view_count": null,
      "_view_module": "@jupyter-widgets/base",
      "_view_module_version": "1.2.0",
      "_view_name": "LayoutView",
      "align_content": null,
      "align_items": null,
      "align_self": null,
      "border": null,
      "bottom": null,
      "display": null,
      "flex": null,
      "flex_flow": null,
      "grid_area": null,
      "grid_auto_columns": null,
      "grid_auto_flow": null,
      "grid_auto_rows": null,
      "grid_column": null,
      "grid_gap": null,
      "grid_row": null,
      "grid_template_areas": null,
      "grid_template_columns": null,
      "grid_template_rows": null,
      "height": null,
      "justify_content": null,
      "justify_items": null,
      "left": null,
      "margin": null,
      "max_height": null,
      "max_width": null,
      "min_height": null,
      "min_width": null,
      "object_fit": null,
      "object_position": null,
      "order": null,
      "overflow": null,
      "overflow_x": null,
      "overflow_y": null,
      "padding": null,
      "right": null,
      "top": null,
      "visibility": null,
      "width": null
     }
    },
    "1bcd3493845f4c9389172afae2b75c58": {
     "model_module": "@jupyter-widgets/controls",
     "model_name": "HBoxModel",
     "state": {
      "_dom_classes": [],
      "_model_module": "@jupyter-widgets/controls",
      "_model_module_version": "1.5.0",
      "_model_name": "HBoxModel",
      "_view_count": null,
      "_view_module": "@jupyter-widgets/controls",
      "_view_module_version": "1.5.0",
      "_view_name": "HBoxView",
      "box_style": "",
      "children": [
       "IPY_MODEL_93b9608d80cb4b52bb5c8d00f712521f",
       "IPY_MODEL_1736da3e7c0a45de9f7ede8756ed7320"
      ],
      "layout": "IPY_MODEL_4c3a1786d7d64067b6f9d77491695c38"
     }
    },
    "1c7b3c9ec2354a06b36fca22b06ed4e5": {
     "model_module": "@jupyter-widgets/controls",
     "model_name": "HBoxModel",
     "state": {
      "_dom_classes": [],
      "_model_module": "@jupyter-widgets/controls",
      "_model_module_version": "1.5.0",
      "_model_name": "HBoxModel",
      "_view_count": null,
      "_view_module": "@jupyter-widgets/controls",
      "_view_module_version": "1.5.0",
      "_view_name": "HBoxView",
      "box_style": "",
      "children": [
       "IPY_MODEL_87bf8edd55fa4f9ab0574623c2055c5d",
       "IPY_MODEL_c577cb67bc4b45059a42555687eac86d"
      ],
      "layout": "IPY_MODEL_e1166d3a2ccd4d8cb018c126ef368542"
     }
    },
    "245610a3ac34423a83c29d096a9ea504": {
     "model_module": "@jupyter-widgets/base",
     "model_name": "LayoutModel",
     "state": {
      "_model_module": "@jupyter-widgets/base",
      "_model_module_version": "1.2.0",
      "_model_name": "LayoutModel",
      "_view_count": null,
      "_view_module": "@jupyter-widgets/base",
      "_view_module_version": "1.2.0",
      "_view_name": "LayoutView",
      "align_content": null,
      "align_items": null,
      "align_self": null,
      "border": null,
      "bottom": null,
      "display": null,
      "flex": null,
      "flex_flow": null,
      "grid_area": null,
      "grid_auto_columns": null,
      "grid_auto_flow": null,
      "grid_auto_rows": null,
      "grid_column": null,
      "grid_gap": null,
      "grid_row": null,
      "grid_template_areas": null,
      "grid_template_columns": null,
      "grid_template_rows": null,
      "height": null,
      "justify_content": null,
      "justify_items": null,
      "left": null,
      "margin": null,
      "max_height": null,
      "max_width": null,
      "min_height": null,
      "min_width": null,
      "object_fit": null,
      "object_position": null,
      "order": null,
      "overflow": null,
      "overflow_x": null,
      "overflow_y": null,
      "padding": null,
      "right": null,
      "top": null,
      "visibility": null,
      "width": null
     }
    },
    "27e484878cdc45feb70f7904244f1c21": {
     "model_module": "@jupyter-widgets/base",
     "model_name": "LayoutModel",
     "state": {
      "_model_module": "@jupyter-widgets/base",
      "_model_module_version": "1.2.0",
      "_model_name": "LayoutModel",
      "_view_count": null,
      "_view_module": "@jupyter-widgets/base",
      "_view_module_version": "1.2.0",
      "_view_name": "LayoutView",
      "align_content": null,
      "align_items": null,
      "align_self": null,
      "border": null,
      "bottom": null,
      "display": null,
      "flex": null,
      "flex_flow": null,
      "grid_area": null,
      "grid_auto_columns": null,
      "grid_auto_flow": null,
      "grid_auto_rows": null,
      "grid_column": null,
      "grid_gap": null,
      "grid_row": null,
      "grid_template_areas": null,
      "grid_template_columns": null,
      "grid_template_rows": null,
      "height": null,
      "justify_content": null,
      "justify_items": null,
      "left": null,
      "margin": null,
      "max_height": null,
      "max_width": null,
      "min_height": null,
      "min_width": null,
      "object_fit": null,
      "object_position": null,
      "order": null,
      "overflow": null,
      "overflow_x": null,
      "overflow_y": null,
      "padding": null,
      "right": null,
      "top": null,
      "visibility": null,
      "width": null
     }
    },
    "29b7a34ab66d46e0a9bb3bde1f8ae333": {
     "model_module": "@jupyter-widgets/controls",
     "model_name": "HBoxModel",
     "state": {
      "_dom_classes": [],
      "_model_module": "@jupyter-widgets/controls",
      "_model_module_version": "1.5.0",
      "_model_name": "HBoxModel",
      "_view_count": null,
      "_view_module": "@jupyter-widgets/controls",
      "_view_module_version": "1.5.0",
      "_view_name": "HBoxView",
      "box_style": "",
      "children": [
       "IPY_MODEL_0d1c1c550feb4a07988e2d980aa283a3",
       "IPY_MODEL_ff485e7a29b64223b9689198289d8c98"
      ],
      "layout": "IPY_MODEL_7d874d76b4404d43ac1ab372808fe0bb"
     }
    },
    "2c6b715380d844279a671083617ae82c": {
     "model_module": "@jupyter-widgets/controls",
     "model_name": "HBoxModel",
     "state": {
      "_dom_classes": [],
      "_model_module": "@jupyter-widgets/controls",
      "_model_module_version": "1.5.0",
      "_model_name": "HBoxModel",
      "_view_count": null,
      "_view_module": "@jupyter-widgets/controls",
      "_view_module_version": "1.5.0",
      "_view_name": "HBoxView",
      "box_style": "",
      "children": [
       "IPY_MODEL_268276364d5b4a458863d76f3589bd37",
       "IPY_MODEL_92c8f8b658c24067a8602d7d32343d02"
      ],
      "layout": "IPY_MODEL_cc6034e337b141cd8e6ef49d9436a553"
     }
    },
    "2fa45f18069041f8b4163543efef32e7": {
     "model_module": "@jupyter-widgets/controls",
     "model_name": "HBoxModel",
     "state": {
      "_dom_classes": [],
      "_model_module": "@jupyter-widgets/controls",
      "_model_module_version": "1.5.0",
      "_model_name": "HBoxModel",
      "_view_count": null,
      "_view_module": "@jupyter-widgets/controls",
      "_view_module_version": "1.5.0",
      "_view_name": "HBoxView",
      "box_style": "",
      "children": [
       "IPY_MODEL_bbc4ee3df6da441fbd8e449c5d6ebdc8",
       "IPY_MODEL_cc9dcffd848949a485d941e2cba2516e"
      ],
      "layout": "IPY_MODEL_35daaf8275e848918d818b59926a1a16"
     }
    },
    "3d5be2d725f5429787ab9cf73c1b3631": {
     "model_module": "@jupyter-widgets/controls",
     "model_name": "ProgressStyleModel",
     "state": {
      "_model_module": "@jupyter-widgets/controls",
      "_model_module_version": "1.5.0",
      "_model_name": "ProgressStyleModel",
      "_view_count": null,
      "_view_module": "@jupyter-widgets/base",
      "_view_module_version": "1.2.0",
      "_view_name": "StyleView",
      "bar_color": null,
      "description_width": "initial"
     }
    },
    "41d9e6b6d2e742b395c61221771c7a6f": {
     "model_module": "@jupyter-widgets/controls",
     "model_name": "HBoxModel",
     "state": {
      "_dom_classes": [],
      "_model_module": "@jupyter-widgets/controls",
      "_model_module_version": "1.5.0",
      "_model_name": "HBoxModel",
      "_view_count": null,
      "_view_module": "@jupyter-widgets/controls",
      "_view_module_version": "1.5.0",
      "_view_name": "HBoxView",
      "box_style": "",
      "children": [
       "IPY_MODEL_90703215ae374c99875956b164f44606",
       "IPY_MODEL_df2cd8ff2fa54e0d8d89727b6ede9b17"
      ],
      "layout": "IPY_MODEL_460379439ad543bd96be07aaa9cae799"
     }
    },
    "44bc0fee72254794894493cb73130c68": {
     "model_module": "@jupyter-widgets/controls",
     "model_name": "HBoxModel",
     "state": {
      "_dom_classes": [],
      "_model_module": "@jupyter-widgets/controls",
      "_model_module_version": "1.5.0",
      "_model_name": "HBoxModel",
      "_view_count": null,
      "_view_module": "@jupyter-widgets/controls",
      "_view_module_version": "1.5.0",
      "_view_name": "HBoxView",
      "box_style": "",
      "children": [
       "IPY_MODEL_3f1f66e508e4456496fd77e0fc73121a",
       "IPY_MODEL_eff6f5c84e7341d3b2b65b3d73c848de"
      ],
      "layout": "IPY_MODEL_a24d0ef7f85e4c1bb946a95314e7e5dd"
     }
    },
    "459952d783914f8d85a7cba52a18fd98": {
     "model_module": "@jupyter-widgets/controls",
     "model_name": "HBoxModel",
     "state": {
      "_dom_classes": [],
      "_model_module": "@jupyter-widgets/controls",
      "_model_module_version": "1.5.0",
      "_model_name": "HBoxModel",
      "_view_count": null,
      "_view_module": "@jupyter-widgets/controls",
      "_view_module_version": "1.5.0",
      "_view_name": "HBoxView",
      "box_style": "",
      "children": [
       "IPY_MODEL_1f919aaffdfb49a98c91bbfae4403325",
       "IPY_MODEL_a71b42bbbfca4b9aad54413c7268a0db"
      ],
      "layout": "IPY_MODEL_4ca303db4316479eb9d41b3289082df1"
     }
    },
    "4b3beb1ab89f458fae05f8fcd278b51c": {
     "model_module": "@jupyter-widgets/controls",
     "model_name": "HBoxModel",
     "state": {
      "_dom_classes": [],
      "_model_module": "@jupyter-widgets/controls",
      "_model_module_version": "1.5.0",
      "_model_name": "HBoxModel",
      "_view_count": null,
      "_view_module": "@jupyter-widgets/controls",
      "_view_module_version": "1.5.0",
      "_view_name": "HBoxView",
      "box_style": "",
      "children": [
       "IPY_MODEL_121f65dca1e6499b865b0713a26a3e2e",
       "IPY_MODEL_a2203de2bdaf4b4f939fa37de1af6b54"
      ],
      "layout": "IPY_MODEL_d346af4dc65c493f879aa9656667ea4f"
     }
    },
    "5410872f927c4880acb5775fe13c8bf2": {
     "model_module": "@jupyter-widgets/controls",
     "model_name": "HBoxModel",
     "state": {
      "_dom_classes": [],
      "_model_module": "@jupyter-widgets/controls",
      "_model_module_version": "1.5.0",
      "_model_name": "HBoxModel",
      "_view_count": null,
      "_view_module": "@jupyter-widgets/controls",
      "_view_module_version": "1.5.0",
      "_view_name": "HBoxView",
      "box_style": "",
      "children": [
       "IPY_MODEL_df107fef0d3544569ae44a7cadd74afc",
       "IPY_MODEL_1a4a98ac0cd743a89065e28307da606b"
      ],
      "layout": "IPY_MODEL_ca3783459fa04fac813d9879262cb027"
     }
    },
    "542a14b210494c3e8d44b9ae4a727f35": {
     "model_module": "@jupyter-widgets/controls",
     "model_name": "FloatProgressModel",
     "state": {
      "_dom_classes": [],
      "_model_module": "@jupyter-widgets/controls",
      "_model_module_version": "1.5.0",
      "_model_name": "FloatProgressModel",
      "_view_count": null,
      "_view_module": "@jupyter-widgets/controls",
      "_view_module_version": "1.5.0",
      "_view_name": "ProgressView",
      "bar_style": "danger",
      "description": " 67%",
      "description_tooltip": null,
      "layout": "IPY_MODEL_63b89534dd13401cad401b4201f87e10",
      "max": 3000,
      "min": 0,
      "orientation": "horizontal",
      "style": "IPY_MODEL_dfa070d161864920bfe88d8554928376",
      "value": 1998
     }
    },
    "5ae696292c004869a98713579c8b0600": {
     "model_module": "@jupyter-widgets/controls",
     "model_name": "HBoxModel",
     "state": {
      "_dom_classes": [],
      "_model_module": "@jupyter-widgets/controls",
      "_model_module_version": "1.5.0",
      "_model_name": "HBoxModel",
      "_view_count": null,
      "_view_module": "@jupyter-widgets/controls",
      "_view_module_version": "1.5.0",
      "_view_name": "HBoxView",
      "box_style": "",
      "children": [
       "IPY_MODEL_a37c151a97d547428ee817706a28f4a8",
       "IPY_MODEL_44d1637625ad4899a372e94709a1d742"
      ],
      "layout": "IPY_MODEL_357d95a21cdf4c58972a5abe517b2dd5"
     }
    },
    "5dc568c8d3a8499185bbee3f5f605d65": {
     "model_module": "@jupyter-widgets/base",
     "model_name": "LayoutModel",
     "state": {
      "_model_module": "@jupyter-widgets/base",
      "_model_module_version": "1.2.0",
      "_model_name": "LayoutModel",
      "_view_count": null,
      "_view_module": "@jupyter-widgets/base",
      "_view_module_version": "1.2.0",
      "_view_name": "LayoutView",
      "align_content": null,
      "align_items": null,
      "align_self": null,
      "border": null,
      "bottom": null,
      "display": null,
      "flex": null,
      "flex_flow": null,
      "grid_area": null,
      "grid_auto_columns": null,
      "grid_auto_flow": null,
      "grid_auto_rows": null,
      "grid_column": null,
      "grid_gap": null,
      "grid_row": null,
      "grid_template_areas": null,
      "grid_template_columns": null,
      "grid_template_rows": null,
      "height": null,
      "justify_content": null,
      "justify_items": null,
      "left": null,
      "margin": null,
      "max_height": null,
      "max_width": null,
      "min_height": null,
      "min_width": null,
      "object_fit": null,
      "object_position": null,
      "order": null,
      "overflow": null,
      "overflow_x": null,
      "overflow_y": null,
      "padding": null,
      "right": null,
      "top": null,
      "visibility": null,
      "width": null
     }
    },
    "5ecc859f250b4a4e94b72aefc8b6d7bb": {
     "model_module": "@jupyter-widgets/controls",
     "model_name": "ProgressStyleModel",
     "state": {
      "_model_module": "@jupyter-widgets/controls",
      "_model_module_version": "1.5.0",
      "_model_name": "ProgressStyleModel",
      "_view_count": null,
      "_view_module": "@jupyter-widgets/base",
      "_view_module_version": "1.2.0",
      "_view_name": "StyleView",
      "bar_color": null,
      "description_width": "initial"
     }
    },
    "62b2b6e3a79a4f1489e838db31585b92": {
     "model_module": "@jupyter-widgets/controls",
     "model_name": "DescriptionStyleModel",
     "state": {
      "_model_module": "@jupyter-widgets/controls",
      "_model_module_version": "1.5.0",
      "_model_name": "DescriptionStyleModel",
      "_view_count": null,
      "_view_module": "@jupyter-widgets/base",
      "_view_module_version": "1.2.0",
      "_view_name": "StyleView",
      "description_width": ""
     }
    },
    "632bc1ce2a3b48a5baf2918a400fc7d4": {
     "model_module": "@jupyter-widgets/controls",
     "model_name": "HBoxModel",
     "state": {
      "_dom_classes": [],
      "_model_module": "@jupyter-widgets/controls",
      "_model_module_version": "1.5.0",
      "_model_name": "HBoxModel",
      "_view_count": null,
      "_view_module": "@jupyter-widgets/controls",
      "_view_module_version": "1.5.0",
      "_view_name": "HBoxView",
      "box_style": "",
      "children": [
       "IPY_MODEL_159b5ddd33fc4d79827814a4942f9e0f",
       "IPY_MODEL_9fb2b401cdb74a17ac824061b20d839b"
      ],
      "layout": "IPY_MODEL_9111734d36004d5cae36bc8af31488e2"
     }
    },
    "63b89534dd13401cad401b4201f87e10": {
     "model_module": "@jupyter-widgets/base",
     "model_name": "LayoutModel",
     "state": {
      "_model_module": "@jupyter-widgets/base",
      "_model_module_version": "1.2.0",
      "_model_name": "LayoutModel",
      "_view_count": null,
      "_view_module": "@jupyter-widgets/base",
      "_view_module_version": "1.2.0",
      "_view_name": "LayoutView",
      "align_content": null,
      "align_items": null,
      "align_self": null,
      "border": null,
      "bottom": null,
      "display": null,
      "flex": null,
      "flex_flow": null,
      "grid_area": null,
      "grid_auto_columns": null,
      "grid_auto_flow": null,
      "grid_auto_rows": null,
      "grid_column": null,
      "grid_gap": null,
      "grid_row": null,
      "grid_template_areas": null,
      "grid_template_columns": null,
      "grid_template_rows": null,
      "height": null,
      "justify_content": null,
      "justify_items": null,
      "left": null,
      "margin": null,
      "max_height": null,
      "max_width": null,
      "min_height": null,
      "min_width": null,
      "object_fit": null,
      "object_position": null,
      "order": null,
      "overflow": null,
      "overflow_x": null,
      "overflow_y": null,
      "padding": null,
      "right": null,
      "top": null,
      "visibility": null,
      "width": null
     }
    },
    "670bfaaa099947b88c988f8a6d2fd643": {
     "model_module": "@jupyter-widgets/base",
     "model_name": "LayoutModel",
     "state": {
      "_model_module": "@jupyter-widgets/base",
      "_model_module_version": "1.2.0",
      "_model_name": "LayoutModel",
      "_view_count": null,
      "_view_module": "@jupyter-widgets/base",
      "_view_module_version": "1.2.0",
      "_view_name": "LayoutView",
      "align_content": null,
      "align_items": null,
      "align_self": null,
      "border": null,
      "bottom": null,
      "display": null,
      "flex": null,
      "flex_flow": null,
      "grid_area": null,
      "grid_auto_columns": null,
      "grid_auto_flow": null,
      "grid_auto_rows": null,
      "grid_column": null,
      "grid_gap": null,
      "grid_row": null,
      "grid_template_areas": null,
      "grid_template_columns": null,
      "grid_template_rows": null,
      "height": null,
      "justify_content": null,
      "justify_items": null,
      "left": null,
      "margin": null,
      "max_height": null,
      "max_width": null,
      "min_height": null,
      "min_width": null,
      "object_fit": null,
      "object_position": null,
      "order": null,
      "overflow": null,
      "overflow_x": null,
      "overflow_y": null,
      "padding": null,
      "right": null,
      "top": null,
      "visibility": null,
      "width": null
     }
    },
    "6d6fb4d27af14c339e662007f6558789": {
     "model_module": "@jupyter-widgets/controls",
     "model_name": "HBoxModel",
     "state": {
      "_dom_classes": [],
      "_model_module": "@jupyter-widgets/controls",
      "_model_module_version": "1.5.0",
      "_model_name": "HBoxModel",
      "_view_count": null,
      "_view_module": "@jupyter-widgets/controls",
      "_view_module_version": "1.5.0",
      "_view_name": "HBoxView",
      "box_style": "",
      "children": [
       "IPY_MODEL_cfcf233760dd4de1bd1fbd2746bf2fe3",
       "IPY_MODEL_7a40950470ea4077a0aae71df167f83d"
      ],
      "layout": "IPY_MODEL_87247d282ded45dab9ef796eb72e9df4"
     }
    },
    "6dcbe49ebcda4a0b8504178d7ca474b0": {
     "model_module": "@jupyter-widgets/controls",
     "model_name": "HTMLModel",
     "state": {
      "_dom_classes": [],
      "_model_module": "@jupyter-widgets/controls",
      "_model_module_version": "1.5.0",
      "_model_name": "HTMLModel",
      "_view_count": null,
      "_view_module": "@jupyter-widgets/controls",
      "_view_module_version": "1.5.0",
      "_view_name": "HTMLView",
      "description": "",
      "description_tooltip": null,
      "layout": "IPY_MODEL_716cf5b28df14dab949e672b0f1c5618",
      "placeholder": "​",
      "style": "IPY_MODEL_f62e060b50cc4583afdaf9fc1fe2e30e",
      "value": " 1998/3000 [01:10&lt;00:28, 34.80it/s]"
     }
    },
    "6df061fd65c045be8699d9484ffc1a2c": {
     "model_module": "@jupyter-widgets/base",
     "model_name": "LayoutModel",
     "state": {
      "_model_module": "@jupyter-widgets/base",
      "_model_module_version": "1.2.0",
      "_model_name": "LayoutModel",
      "_view_count": null,
      "_view_module": "@jupyter-widgets/base",
      "_view_module_version": "1.2.0",
      "_view_name": "LayoutView",
      "align_content": null,
      "align_items": null,
      "align_self": null,
      "border": null,
      "bottom": null,
      "display": null,
      "flex": null,
      "flex_flow": null,
      "grid_area": null,
      "grid_auto_columns": null,
      "grid_auto_flow": null,
      "grid_auto_rows": null,
      "grid_column": null,
      "grid_gap": null,
      "grid_row": null,
      "grid_template_areas": null,
      "grid_template_columns": null,
      "grid_template_rows": null,
      "height": null,
      "justify_content": null,
      "justify_items": null,
      "left": null,
      "margin": null,
      "max_height": null,
      "max_width": null,
      "min_height": null,
      "min_width": null,
      "object_fit": null,
      "object_position": null,
      "order": null,
      "overflow": null,
      "overflow_x": null,
      "overflow_y": null,
      "padding": null,
      "right": null,
      "top": null,
      "visibility": null,
      "width": null
     }
    },
    "7010d72d94de4c039854f5f746a93e5a": {
     "model_module": "@jupyter-widgets/controls",
     "model_name": "FloatProgressModel",
     "state": {
      "_dom_classes": [],
      "_model_module": "@jupyter-widgets/controls",
      "_model_module_version": "1.5.0",
      "_model_name": "FloatProgressModel",
      "_view_count": null,
      "_view_module": "@jupyter-widgets/controls",
      "_view_module_version": "1.5.0",
      "_view_name": "ProgressView",
      "bar_style": "success",
      "description": "100%",
      "description_tooltip": null,
      "layout": "IPY_MODEL_8bcaa1a1b2ef4c5cbf0150917c3f2725",
      "max": 254317,
      "min": 0,
      "orientation": "horizontal",
      "style": "IPY_MODEL_3d5be2d725f5429787ab9cf73c1b3631",
      "value": 254317
     }
    },
    "716cf5b28df14dab949e672b0f1c5618": {
     "model_module": "@jupyter-widgets/base",
     "model_name": "LayoutModel",
     "state": {
      "_model_module": "@jupyter-widgets/base",
      "_model_module_version": "1.2.0",
      "_model_name": "LayoutModel",
      "_view_count": null,
      "_view_module": "@jupyter-widgets/base",
      "_view_module_version": "1.2.0",
      "_view_name": "LayoutView",
      "align_content": null,
      "align_items": null,
      "align_self": null,
      "border": null,
      "bottom": null,
      "display": null,
      "flex": null,
      "flex_flow": null,
      "grid_area": null,
      "grid_auto_columns": null,
      "grid_auto_flow": null,
      "grid_auto_rows": null,
      "grid_column": null,
      "grid_gap": null,
      "grid_row": null,
      "grid_template_areas": null,
      "grid_template_columns": null,
      "grid_template_rows": null,
      "height": null,
      "justify_content": null,
      "justify_items": null,
      "left": null,
      "margin": null,
      "max_height": null,
      "max_width": null,
      "min_height": null,
      "min_width": null,
      "object_fit": null,
      "object_position": null,
      "order": null,
      "overflow": null,
      "overflow_x": null,
      "overflow_y": null,
      "padding": null,
      "right": null,
      "top": null,
      "visibility": null,
      "width": null
     }
    },
    "757a9e288cf641e1bf5f0c9a8f19d4c5": {
     "model_module": "@jupyter-widgets/controls",
     "model_name": "HBoxModel",
     "state": {
      "_dom_classes": [],
      "_model_module": "@jupyter-widgets/controls",
      "_model_module_version": "1.5.0",
      "_model_name": "HBoxModel",
      "_view_count": null,
      "_view_module": "@jupyter-widgets/controls",
      "_view_module_version": "1.5.0",
      "_view_name": "HBoxView",
      "box_style": "",
      "children": [
       "IPY_MODEL_7010d72d94de4c039854f5f746a93e5a",
       "IPY_MODEL_d7c54d90b5d24c3db548e03e11a63378"
      ],
      "layout": "IPY_MODEL_cb752d6aa1b54a3a8282d05b16e6730d"
     }
    },
    "762e0b0369144242b510e2429196532e": {
     "model_module": "@jupyter-widgets/controls",
     "model_name": "HBoxModel",
     "state": {
      "_dom_classes": [],
      "_model_module": "@jupyter-widgets/controls",
      "_model_module_version": "1.5.0",
      "_model_name": "HBoxModel",
      "_view_count": null,
      "_view_module": "@jupyter-widgets/controls",
      "_view_module_version": "1.5.0",
      "_view_name": "HBoxView",
      "box_style": "",
      "children": [
       "IPY_MODEL_46f3c5caa4354dc3bd6abc60c39ef63c",
       "IPY_MODEL_2dfedd22e4f84877b21e3d4826c8e461"
      ],
      "layout": "IPY_MODEL_2accbc3e0f6a4b9e8b1c6bee20755013"
     }
    },
    "793cf8b39f304596a14a5ade87e01b2d": {
     "model_module": "@jupyter-widgets/controls",
     "model_name": "HBoxModel",
     "state": {
      "_dom_classes": [],
      "_model_module": "@jupyter-widgets/controls",
      "_model_module_version": "1.5.0",
      "_model_name": "HBoxModel",
      "_view_count": null,
      "_view_module": "@jupyter-widgets/controls",
      "_view_module_version": "1.5.0",
      "_view_name": "HBoxView",
      "box_style": "",
      "children": [
       "IPY_MODEL_ed0c7150d3b64c74a76412f512a5d51b",
       "IPY_MODEL_aa4e2c8af1c742848b41e867d94f772b"
      ],
      "layout": "IPY_MODEL_6df061fd65c045be8699d9484ffc1a2c"
     }
    },
    "7ba340ce783a4f57afde2016341d289d": {
     "model_module": "@jupyter-widgets/controls",
     "model_name": "HBoxModel",
     "state": {
      "_dom_classes": [],
      "_model_module": "@jupyter-widgets/controls",
      "_model_module_version": "1.5.0",
      "_model_name": "HBoxModel",
      "_view_count": null,
      "_view_module": "@jupyter-widgets/controls",
      "_view_module_version": "1.5.0",
      "_view_name": "HBoxView",
      "box_style": "",
      "children": [
       "IPY_MODEL_fd239cdf8cb74a61b476584e0a7d8a2d",
       "IPY_MODEL_8205c52d976043c7a6b0391b7da623e3"
      ],
      "layout": "IPY_MODEL_5091212b85804b28a3d111027be3b2fd"
     }
    },
    "8952ed81563c4d039d3195defb11e2f2": {
     "model_module": "@jupyter-widgets/controls",
     "model_name": "HBoxModel",
     "state": {
      "_dom_classes": [],
      "_model_module": "@jupyter-widgets/controls",
      "_model_module_version": "1.5.0",
      "_model_name": "HBoxModel",
      "_view_count": null,
      "_view_module": "@jupyter-widgets/controls",
      "_view_module_version": "1.5.0",
      "_view_name": "HBoxView",
      "box_style": "",
      "children": [
       "IPY_MODEL_542a14b210494c3e8d44b9ae4a727f35",
       "IPY_MODEL_6dcbe49ebcda4a0b8504178d7ca474b0"
      ],
      "layout": "IPY_MODEL_9fb6883499954a2cb096b040baaf4265"
     }
    },
    "89a07fe1d202428e8757c439835bc8bb": {
     "model_module": "@jupyter-widgets/controls",
     "model_name": "HBoxModel",
     "state": {
      "_dom_classes": [],
      "_model_module": "@jupyter-widgets/controls",
      "_model_module_version": "1.5.0",
      "_model_name": "HBoxModel",
      "_view_count": null,
      "_view_module": "@jupyter-widgets/controls",
      "_view_module_version": "1.5.0",
      "_view_name": "HBoxView",
      "box_style": "",
      "children": [
       "IPY_MODEL_0f6c02700dad48478f05f3d4ccd35fb2",
       "IPY_MODEL_77deb0d1e766421ca724af7b54f3dad7"
      ],
      "layout": "IPY_MODEL_18c8f109daa34e499cacb364fd3bc8cb"
     }
    },
    "8bcaa1a1b2ef4c5cbf0150917c3f2725": {
     "model_module": "@jupyter-widgets/base",
     "model_name": "LayoutModel",
     "state": {
      "_model_module": "@jupyter-widgets/base",
      "_model_module_version": "1.2.0",
      "_model_name": "LayoutModel",
      "_view_count": null,
      "_view_module": "@jupyter-widgets/base",
      "_view_module_version": "1.2.0",
      "_view_name": "LayoutView",
      "align_content": null,
      "align_items": null,
      "align_self": null,
      "border": null,
      "bottom": null,
      "display": null,
      "flex": null,
      "flex_flow": null,
      "grid_area": null,
      "grid_auto_columns": null,
      "grid_auto_flow": null,
      "grid_auto_rows": null,
      "grid_column": null,
      "grid_gap": null,
      "grid_row": null,
      "grid_template_areas": null,
      "grid_template_columns": null,
      "grid_template_rows": null,
      "height": null,
      "justify_content": null,
      "justify_items": null,
      "left": null,
      "margin": null,
      "max_height": null,
      "max_width": null,
      "min_height": null,
      "min_width": null,
      "object_fit": null,
      "object_position": null,
      "order": null,
      "overflow": null,
      "overflow_x": null,
      "overflow_y": null,
      "padding": null,
      "right": null,
      "top": null,
      "visibility": null,
      "width": null
     }
    },
    "8dcb83afbd5e4650855e2c7c446d88d1": {
     "model_module": "@jupyter-widgets/controls",
     "model_name": "HBoxModel",
     "state": {
      "_dom_classes": [],
      "_model_module": "@jupyter-widgets/controls",
      "_model_module_version": "1.5.0",
      "_model_name": "HBoxModel",
      "_view_count": null,
      "_view_module": "@jupyter-widgets/controls",
      "_view_module_version": "1.5.0",
      "_view_name": "HBoxView",
      "box_style": "",
      "children": [
       "IPY_MODEL_19332e9ce6b947499e763aedca12f198",
       "IPY_MODEL_91c640a8a307485995cbf57e7b722c02"
      ],
      "layout": "IPY_MODEL_e43dfde9abcd4eaab466d186921d42fc"
     }
    },
    "8f3e00b7a2bf4d71bdaa591af1c7d305": {
     "model_module": "@jupyter-widgets/controls",
     "model_name": "HBoxModel",
     "state": {
      "_dom_classes": [],
      "_model_module": "@jupyter-widgets/controls",
      "_model_module_version": "1.5.0",
      "_model_name": "HBoxModel",
      "_view_count": null,
      "_view_module": "@jupyter-widgets/controls",
      "_view_module_version": "1.5.0",
      "_view_name": "HBoxView",
      "box_style": "",
      "children": [
       "IPY_MODEL_0e1731c0866949afabd3c6e4fbd4735e",
       "IPY_MODEL_bd466f0b429149ffad19a926bb77bd94"
      ],
      "layout": "IPY_MODEL_aee79bbc7a3243da82361578061cc626"
     }
    },
    "90be8f730ba74588bb4797a013ffee35": {
     "model_module": "@jupyter-widgets/base",
     "model_name": "LayoutModel",
     "state": {
      "_model_module": "@jupyter-widgets/base",
      "_model_module_version": "1.2.0",
      "_model_name": "LayoutModel",
      "_view_count": null,
      "_view_module": "@jupyter-widgets/base",
      "_view_module_version": "1.2.0",
      "_view_name": "LayoutView",
      "align_content": null,
      "align_items": null,
      "align_self": null,
      "border": null,
      "bottom": null,
      "display": null,
      "flex": null,
      "flex_flow": null,
      "grid_area": null,
      "grid_auto_columns": null,
      "grid_auto_flow": null,
      "grid_auto_rows": null,
      "grid_column": null,
      "grid_gap": null,
      "grid_row": null,
      "grid_template_areas": null,
      "grid_template_columns": null,
      "grid_template_rows": null,
      "height": null,
      "justify_content": null,
      "justify_items": null,
      "left": null,
      "margin": null,
      "max_height": null,
      "max_width": null,
      "min_height": null,
      "min_width": null,
      "object_fit": null,
      "object_position": null,
      "order": null,
      "overflow": null,
      "overflow_x": null,
      "overflow_y": null,
      "padding": null,
      "right": null,
      "top": null,
      "visibility": null,
      "width": null
     }
    },
    "9407686405ae473abb768970d795b0e9": {
     "model_module": "@jupyter-widgets/controls",
     "model_name": "DescriptionStyleModel",
     "state": {
      "_model_module": "@jupyter-widgets/controls",
      "_model_module_version": "1.5.0",
      "_model_name": "DescriptionStyleModel",
      "_view_count": null,
      "_view_module": "@jupyter-widgets/base",
      "_view_module_version": "1.2.0",
      "_view_name": "StyleView",
      "description_width": ""
     }
    },
    "9fb6883499954a2cb096b040baaf4265": {
     "model_module": "@jupyter-widgets/base",
     "model_name": "LayoutModel",
     "state": {
      "_model_module": "@jupyter-widgets/base",
      "_model_module_version": "1.2.0",
      "_model_name": "LayoutModel",
      "_view_count": null,
      "_view_module": "@jupyter-widgets/base",
      "_view_module_version": "1.2.0",
      "_view_name": "LayoutView",
      "align_content": null,
      "align_items": null,
      "align_self": null,
      "border": null,
      "bottom": null,
      "display": null,
      "flex": null,
      "flex_flow": null,
      "grid_area": null,
      "grid_auto_columns": null,
      "grid_auto_flow": null,
      "grid_auto_rows": null,
      "grid_column": null,
      "grid_gap": null,
      "grid_row": null,
      "grid_template_areas": null,
      "grid_template_columns": null,
      "grid_template_rows": null,
      "height": null,
      "justify_content": null,
      "justify_items": null,
      "left": null,
      "margin": null,
      "max_height": null,
      "max_width": null,
      "min_height": null,
      "min_width": null,
      "object_fit": null,
      "object_position": null,
      "order": null,
      "overflow": null,
      "overflow_x": null,
      "overflow_y": null,
      "padding": null,
      "right": null,
      "top": null,
      "visibility": null,
      "width": null
     }
    },
    "a5376426a6cf4551b5a41420bce29eeb": {
     "model_module": "@jupyter-widgets/controls",
     "model_name": "ProgressStyleModel",
     "state": {
      "_model_module": "@jupyter-widgets/controls",
      "_model_module_version": "1.5.0",
      "_model_name": "ProgressStyleModel",
      "_view_count": null,
      "_view_module": "@jupyter-widgets/base",
      "_view_module_version": "1.2.0",
      "_view_name": "StyleView",
      "bar_color": null,
      "description_width": "initial"
     }
    },
    "a53c78b4d18242589228ad8d5f4221ab": {
     "model_module": "@jupyter-widgets/controls",
     "model_name": "HBoxModel",
     "state": {
      "_dom_classes": [],
      "_model_module": "@jupyter-widgets/controls",
      "_model_module_version": "1.5.0",
      "_model_name": "HBoxModel",
      "_view_count": null,
      "_view_module": "@jupyter-widgets/controls",
      "_view_module_version": "1.5.0",
      "_view_name": "HBoxView",
      "box_style": "",
      "children": [
       "IPY_MODEL_c52d8f833d0e4f60a89070b446afd3df",
       "IPY_MODEL_f2644208cd0e4dc49fa3caca20e4d446"
      ],
      "layout": "IPY_MODEL_b2b9627269964d7f814d3ac224420a13"
     }
    },
    "a8939e6a24334ed5af6387a1699165e7": {
     "model_module": "@jupyter-widgets/base",
     "model_name": "LayoutModel",
     "state": {
      "_model_module": "@jupyter-widgets/base",
      "_model_module_version": "1.2.0",
      "_model_name": "LayoutModel",
      "_view_count": null,
      "_view_module": "@jupyter-widgets/base",
      "_view_module_version": "1.2.0",
      "_view_name": "LayoutView",
      "align_content": null,
      "align_items": null,
      "align_self": null,
      "border": null,
      "bottom": null,
      "display": null,
      "flex": null,
      "flex_flow": null,
      "grid_area": null,
      "grid_auto_columns": null,
      "grid_auto_flow": null,
      "grid_auto_rows": null,
      "grid_column": null,
      "grid_gap": null,
      "grid_row": null,
      "grid_template_areas": null,
      "grid_template_columns": null,
      "grid_template_rows": null,
      "height": null,
      "justify_content": null,
      "justify_items": null,
      "left": null,
      "margin": null,
      "max_height": null,
      "max_width": null,
      "min_height": null,
      "min_width": null,
      "object_fit": null,
      "object_position": null,
      "order": null,
      "overflow": null,
      "overflow_x": null,
      "overflow_y": null,
      "padding": null,
      "right": null,
      "top": null,
      "visibility": null,
      "width": null
     }
    },
    "aa4e2c8af1c742848b41e867d94f772b": {
     "model_module": "@jupyter-widgets/controls",
     "model_name": "HTMLModel",
     "state": {
      "_dom_classes": [],
      "_model_module": "@jupyter-widgets/controls",
      "_model_module_version": "1.5.0",
      "_model_name": "HTMLModel",
      "_view_count": null,
      "_view_module": "@jupyter-widgets/controls",
      "_view_module_version": "1.5.0",
      "_view_name": "HTMLView",
      "description": "",
      "description_tooltip": null,
      "layout": "IPY_MODEL_0f89760b5d2f4e429533c6314f74f224",
      "placeholder": "​",
      "style": "IPY_MODEL_9407686405ae473abb768970d795b0e9",
      "value": " 20/20 [00:02&lt;00:00,  9.81it/s]"
     }
    },
    "ab2fff030dc24799981f86d2159c8d83": {
     "model_module": "@jupyter-widgets/controls",
     "model_name": "HBoxModel",
     "state": {
      "_dom_classes": [],
      "_model_module": "@jupyter-widgets/controls",
      "_model_module_version": "1.5.0",
      "_model_name": "HBoxModel",
      "_view_count": null,
      "_view_module": "@jupyter-widgets/controls",
      "_view_module_version": "1.5.0",
      "_view_name": "HBoxView",
      "box_style": "",
      "children": [
       "IPY_MODEL_ab9da9aa95cd4351ad3a4d35915e9ca2",
       "IPY_MODEL_4108a506a1c64fb9a9c47e889aae8877"
      ],
      "layout": "IPY_MODEL_6285588c2bad4b7782c88343ddfbeb8c"
     }
    },
    "b2be82a163d44bec82e3633e5091e9b6": {
     "model_module": "@jupyter-widgets/controls",
     "model_name": "HBoxModel",
     "state": {
      "_dom_classes": [],
      "_model_module": "@jupyter-widgets/controls",
      "_model_module_version": "1.5.0",
      "_model_name": "HBoxModel",
      "_view_count": null,
      "_view_module": "@jupyter-widgets/controls",
      "_view_module_version": "1.5.0",
      "_view_name": "HBoxView",
      "box_style": "",
      "children": [
       "IPY_MODEL_7249064473e44becbdaf225418be71bb",
       "IPY_MODEL_22017fbf121b43f79b5357ea5fc79ab4"
      ],
      "layout": "IPY_MODEL_0ebfe48c95804de9be33efa21d6d15ad"
     }
    },
    "b371f3a98f6a4268b5e2cdd4dee47bdf": {
     "model_module": "@jupyter-widgets/controls",
     "model_name": "HBoxModel",
     "state": {
      "_dom_classes": [],
      "_model_module": "@jupyter-widgets/controls",
      "_model_module_version": "1.5.0",
      "_model_name": "HBoxModel",
      "_view_count": null,
      "_view_module": "@jupyter-widgets/controls",
      "_view_module_version": "1.5.0",
      "_view_name": "HBoxView",
      "box_style": "",
      "children": [
       "IPY_MODEL_73be77d61f8e4f6ab6454a8299100d5e",
       "IPY_MODEL_4a7de68784ef47d48d002bb1dc65b576"
      ],
      "layout": "IPY_MODEL_20be839cbfea4e68948013fe1958338e"
     }
    },
    "bab99ceb2ad24a1c97d1c4fb47be32e9": {
     "model_module": "@jupyter-widgets/controls",
     "model_name": "HTMLModel",
     "state": {
      "_dom_classes": [],
      "_model_module": "@jupyter-widgets/controls",
      "_model_module_version": "1.5.0",
      "_model_name": "HTMLModel",
      "_view_count": null,
      "_view_module": "@jupyter-widgets/controls",
      "_view_module_version": "1.5.0",
      "_view_name": "HTMLView",
      "description": "",
      "description_tooltip": null,
      "layout": "IPY_MODEL_90be8f730ba74588bb4797a013ffee35",
      "placeholder": "​",
      "style": "IPY_MODEL_c7fcfa90553f4367b850b1020927ee08",
      "value": " 254317/254317 [01:31&lt;00:00, 2765.99it/s]"
     }
    },
    "bc01f3cb4476490c81269bd8b59fa665": {
     "model_module": "@jupyter-widgets/controls",
     "model_name": "HBoxModel",
     "state": {
      "_dom_classes": [],
      "_model_module": "@jupyter-widgets/controls",
      "_model_module_version": "1.5.0",
      "_model_name": "HBoxModel",
      "_view_count": null,
      "_view_module": "@jupyter-widgets/controls",
      "_view_module_version": "1.5.0",
      "_view_name": "HBoxView",
      "box_style": "",
      "children": [
       "IPY_MODEL_7e19ba5d9ef4499a840f4bf524e110cd",
       "IPY_MODEL_434cc52cbb9c40bd94c9c2188cb32737"
      ],
      "layout": "IPY_MODEL_595f1d073d374280ab73b82555f6a93e"
     }
    },
    "bc09a04c891d47549a888b2a31ef3092": {
     "model_module": "@jupyter-widgets/controls",
     "model_name": "FloatProgressModel",
     "state": {
      "_dom_classes": [],
      "_model_module": "@jupyter-widgets/controls",
      "_model_module_version": "1.5.0",
      "_model_name": "FloatProgressModel",
      "_view_count": null,
      "_view_module": "@jupyter-widgets/controls",
      "_view_module_version": "1.5.0",
      "_view_name": "ProgressView",
      "bar_style": "success",
      "description": "100%",
      "description_tooltip": null,
      "layout": "IPY_MODEL_5dc568c8d3a8499185bbee3f5f605d65",
      "max": 254317,
      "min": 0,
      "orientation": "horizontal",
      "style": "IPY_MODEL_a5376426a6cf4551b5a41420bce29eeb",
      "value": 254317
     }
    },
    "c6260942abfe478eb715391e80c1b5f0": {
     "model_module": "@jupyter-widgets/controls",
     "model_name": "HBoxModel",
     "state": {
      "_dom_classes": [],
      "_model_module": "@jupyter-widgets/controls",
      "_model_module_version": "1.5.0",
      "_model_name": "HBoxModel",
      "_view_count": null,
      "_view_module": "@jupyter-widgets/controls",
      "_view_module_version": "1.5.0",
      "_view_name": "HBoxView",
      "box_style": "",
      "children": [
       "IPY_MODEL_0c32e3072e894089b970b3aa0d3e041e",
       "IPY_MODEL_60a096040129458eb344c01e062d6f33"
      ],
      "layout": "IPY_MODEL_93215031261b4dd98e5c6a55edb916d7"
     }
    },
    "c7fcfa90553f4367b850b1020927ee08": {
     "model_module": "@jupyter-widgets/controls",
     "model_name": "DescriptionStyleModel",
     "state": {
      "_model_module": "@jupyter-widgets/controls",
      "_model_module_version": "1.5.0",
      "_model_name": "DescriptionStyleModel",
      "_view_count": null,
      "_view_module": "@jupyter-widgets/base",
      "_view_module_version": "1.2.0",
      "_view_name": "StyleView",
      "description_width": ""
     }
    },
    "c9f4a0d539e249169eca6c256202288e": {
     "model_module": "@jupyter-widgets/controls",
     "model_name": "HBoxModel",
     "state": {
      "_dom_classes": [],
      "_model_module": "@jupyter-widgets/controls",
      "_model_module_version": "1.5.0",
      "_model_name": "HBoxModel",
      "_view_count": null,
      "_view_module": "@jupyter-widgets/controls",
      "_view_module_version": "1.5.0",
      "_view_name": "HBoxView",
      "box_style": "",
      "children": [
       "IPY_MODEL_bc09a04c891d47549a888b2a31ef3092",
       "IPY_MODEL_bab99ceb2ad24a1c97d1c4fb47be32e9"
      ],
      "layout": "IPY_MODEL_064d39ffc4374173981e8b3b07881158"
     }
    },
    "cb752d6aa1b54a3a8282d05b16e6730d": {
     "model_module": "@jupyter-widgets/base",
     "model_name": "LayoutModel",
     "state": {
      "_model_module": "@jupyter-widgets/base",
      "_model_module_version": "1.2.0",
      "_model_name": "LayoutModel",
      "_view_count": null,
      "_view_module": "@jupyter-widgets/base",
      "_view_module_version": "1.2.0",
      "_view_name": "LayoutView",
      "align_content": null,
      "align_items": null,
      "align_self": null,
      "border": null,
      "bottom": null,
      "display": null,
      "flex": null,
      "flex_flow": null,
      "grid_area": null,
      "grid_auto_columns": null,
      "grid_auto_flow": null,
      "grid_auto_rows": null,
      "grid_column": null,
      "grid_gap": null,
      "grid_row": null,
      "grid_template_areas": null,
      "grid_template_columns": null,
      "grid_template_rows": null,
      "height": null,
      "justify_content": null,
      "justify_items": null,
      "left": null,
      "margin": null,
      "max_height": null,
      "max_width": null,
      "min_height": null,
      "min_width": null,
      "object_fit": null,
      "object_position": null,
      "order": null,
      "overflow": null,
      "overflow_x": null,
      "overflow_y": null,
      "padding": null,
      "right": null,
      "top": null,
      "visibility": null,
      "width": null
     }
    },
    "cc13dffb00ef45409e31b5009625dcdb": {
     "model_module": "@jupyter-widgets/controls",
     "model_name": "HBoxModel",
     "state": {
      "_dom_classes": [],
      "_model_module": "@jupyter-widgets/controls",
      "_model_module_version": "1.5.0",
      "_model_name": "HBoxModel",
      "_view_count": null,
      "_view_module": "@jupyter-widgets/controls",
      "_view_module_version": "1.5.0",
      "_view_name": "HBoxView",
      "box_style": "",
      "children": [
       "IPY_MODEL_8a714e171e114811a4d19472858805c0",
       "IPY_MODEL_c4fbafbf102a4c119e9c5dfa83eed0e0"
      ],
      "layout": "IPY_MODEL_25913549ffc24a7cb4d04fe98a14d4a8"
     }
    },
    "d10bb239bbf04300a66a2bd15ae7cd3c": {
     "model_module": "@jupyter-widgets/controls",
     "model_name": "HBoxModel",
     "state": {
      "_dom_classes": [],
      "_model_module": "@jupyter-widgets/controls",
      "_model_module_version": "1.5.0",
      "_model_name": "HBoxModel",
      "_view_count": null,
      "_view_module": "@jupyter-widgets/controls",
      "_view_module_version": "1.5.0",
      "_view_name": "HBoxView",
      "box_style": "",
      "children": [
       "IPY_MODEL_f73e55141a874f1c99bd4382bfb18ff1",
       "IPY_MODEL_e41b94a9d5ae4a79bbd682ba0765bd6c"
      ],
      "layout": "IPY_MODEL_670bfaaa099947b88c988f8a6d2fd643"
     }
    },
    "d2f201e0206c4d7a84d556bf9e05b2f6": {
     "model_module": "@jupyter-widgets/controls",
     "model_name": "HBoxModel",
     "state": {
      "_dom_classes": [],
      "_model_module": "@jupyter-widgets/controls",
      "_model_module_version": "1.5.0",
      "_model_name": "HBoxModel",
      "_view_count": null,
      "_view_module": "@jupyter-widgets/controls",
      "_view_module_version": "1.5.0",
      "_view_name": "HBoxView",
      "box_style": "",
      "children": [
       "IPY_MODEL_97cde6ec21024336818a2f7a368c9fe6",
       "IPY_MODEL_ceda20aecba54acea981a89e82c2fc09"
      ],
      "layout": "IPY_MODEL_18e0169956f84cf8babb86c19c0c6506"
     }
    },
    "d7c54d90b5d24c3db548e03e11a63378": {
     "model_module": "@jupyter-widgets/controls",
     "model_name": "HTMLModel",
     "state": {
      "_dom_classes": [],
      "_model_module": "@jupyter-widgets/controls",
      "_model_module_version": "1.5.0",
      "_model_name": "HTMLModel",
      "_view_count": null,
      "_view_module": "@jupyter-widgets/controls",
      "_view_module_version": "1.5.0",
      "_view_name": "HTMLView",
      "description": "",
      "description_tooltip": null,
      "layout": "IPY_MODEL_0c5bad30ca1641228cec67f2b456f800",
      "placeholder": "​",
      "style": "IPY_MODEL_fc2722b55fcf4faa92c8f347e66a5739",
      "value": " 254317/254317 [05:37&lt;00:00, 754.22it/s]"
     }
    },
    "dfa070d161864920bfe88d8554928376": {
     "model_module": "@jupyter-widgets/controls",
     "model_name": "ProgressStyleModel",
     "state": {
      "_model_module": "@jupyter-widgets/controls",
      "_model_module_version": "1.5.0",
      "_model_name": "ProgressStyleModel",
      "_view_count": null,
      "_view_module": "@jupyter-widgets/base",
      "_view_module_version": "1.2.0",
      "_view_name": "StyleView",
      "bar_color": null,
      "description_width": "initial"
     }
    },
    "e41b94a9d5ae4a79bbd682ba0765bd6c": {
     "model_module": "@jupyter-widgets/controls",
     "model_name": "HTMLModel",
     "state": {
      "_dom_classes": [],
      "_model_module": "@jupyter-widgets/controls",
      "_model_module_version": "1.5.0",
      "_model_name": "HTMLModel",
      "_view_count": null,
      "_view_module": "@jupyter-widgets/controls",
      "_view_module_version": "1.5.0",
      "_view_name": "HTMLView",
      "description": "",
      "description_tooltip": null,
      "layout": "IPY_MODEL_27e484878cdc45feb70f7904244f1c21",
      "placeholder": "​",
      "style": "IPY_MODEL_62b2b6e3a79a4f1489e838db31585b92",
      "value": " 10/10 [00:08&lt;00:00,  1.16it/s]"
     }
    },
    "e7ab6b4657ad4fada725070a841b73bc": {
     "model_module": "@jupyter-widgets/controls",
     "model_name": "HBoxModel",
     "state": {
      "_dom_classes": [],
      "_model_module": "@jupyter-widgets/controls",
      "_model_module_version": "1.5.0",
      "_model_name": "HBoxModel",
      "_view_count": null,
      "_view_module": "@jupyter-widgets/controls",
      "_view_module_version": "1.5.0",
      "_view_name": "HBoxView",
      "box_style": "",
      "children": [
       "IPY_MODEL_3ffae26d21c34e02a75c4b25cc475023",
       "IPY_MODEL_8dc7cac90d96474e9fc2d685cf081804"
      ],
      "layout": "IPY_MODEL_ecfd17d3b67343eaa64315d1e7908443"
     }
    },
    "e7c112dd7ba948219e3040009be57018": {
     "model_module": "@jupyter-widgets/controls",
     "model_name": "HBoxModel",
     "state": {
      "_dom_classes": [],
      "_model_module": "@jupyter-widgets/controls",
      "_model_module_version": "1.5.0",
      "_model_name": "HBoxModel",
      "_view_count": null,
      "_view_module": "@jupyter-widgets/controls",
      "_view_module_version": "1.5.0",
      "_view_name": "HBoxView",
      "box_style": "",
      "children": [
       "IPY_MODEL_1c0cf626fd9b4f6599c058851691453c",
       "IPY_MODEL_ded4008a3b7742859009f36e9981f95d"
      ],
      "layout": "IPY_MODEL_ddd07fa1e5cf44b987bd811890b215ba"
     }
    },
    "e98decf3e85a46448c1dfcfdf471ebc6": {
     "model_module": "@jupyter-widgets/controls",
     "model_name": "HBoxModel",
     "state": {
      "_dom_classes": [],
      "_model_module": "@jupyter-widgets/controls",
      "_model_module_version": "1.5.0",
      "_model_name": "HBoxModel",
      "_view_count": null,
      "_view_module": "@jupyter-widgets/controls",
      "_view_module_version": "1.5.0",
      "_view_name": "HBoxView",
      "box_style": "",
      "children": [
       "IPY_MODEL_d3445cb2de004acf9863dcde7046659a",
       "IPY_MODEL_aa65b0e6b70a42228cc084b999381d4c"
      ],
      "layout": "IPY_MODEL_cc1969daf0564234a9a204f819aca1de"
     }
    },
    "ea1226d7725b4f90b3db4b8d66887ec6": {
     "model_module": "@jupyter-widgets/controls",
     "model_name": "HBoxModel",
     "state": {
      "_dom_classes": [],
      "_model_module": "@jupyter-widgets/controls",
      "_model_module_version": "1.5.0",
      "_model_name": "HBoxModel",
      "_view_count": null,
      "_view_module": "@jupyter-widgets/controls",
      "_view_module_version": "1.5.0",
      "_view_name": "HBoxView",
      "box_style": "",
      "children": [
       "IPY_MODEL_aa9cecd3957241bdae85fcd8ed3ab95d",
       "IPY_MODEL_6203d3a1bd424a37843c52add212429c"
      ],
      "layout": "IPY_MODEL_d7593c18b68e47babdd8830815f7d697"
     }
    },
    "ed0c7150d3b64c74a76412f512a5d51b": {
     "model_module": "@jupyter-widgets/controls",
     "model_name": "FloatProgressModel",
     "state": {
      "_dom_classes": [],
      "_model_module": "@jupyter-widgets/controls",
      "_model_module_version": "1.5.0",
      "_model_name": "FloatProgressModel",
      "_view_count": null,
      "_view_module": "@jupyter-widgets/controls",
      "_view_module_version": "1.5.0",
      "_view_name": "ProgressView",
      "bar_style": "success",
      "description": "100%",
      "description_tooltip": null,
      "layout": "IPY_MODEL_245610a3ac34423a83c29d096a9ea504",
      "max": 20,
      "min": 0,
      "orientation": "horizontal",
      "style": "IPY_MODEL_0a8766e0009f4bc89e65e218cec1637e",
      "value": 20
     }
    },
    "f62e060b50cc4583afdaf9fc1fe2e30e": {
     "model_module": "@jupyter-widgets/controls",
     "model_name": "DescriptionStyleModel",
     "state": {
      "_model_module": "@jupyter-widgets/controls",
      "_model_module_version": "1.5.0",
      "_model_name": "DescriptionStyleModel",
      "_view_count": null,
      "_view_module": "@jupyter-widgets/base",
      "_view_module_version": "1.2.0",
      "_view_name": "StyleView",
      "description_width": ""
     }
    },
    "f73e55141a874f1c99bd4382bfb18ff1": {
     "model_module": "@jupyter-widgets/controls",
     "model_name": "FloatProgressModel",
     "state": {
      "_dom_classes": [],
      "_model_module": "@jupyter-widgets/controls",
      "_model_module_version": "1.5.0",
      "_model_name": "FloatProgressModel",
      "_view_count": null,
      "_view_module": "@jupyter-widgets/controls",
      "_view_module_version": "1.5.0",
      "_view_name": "ProgressView",
      "bar_style": "success",
      "description": "100%",
      "description_tooltip": null,
      "layout": "IPY_MODEL_a8939e6a24334ed5af6387a1699165e7",
      "max": 10,
      "min": 0,
      "orientation": "horizontal",
      "style": "IPY_MODEL_5ecc859f250b4a4e94b72aefc8b6d7bb",
      "value": 10
     }
    },
    "fc2722b55fcf4faa92c8f347e66a5739": {
     "model_module": "@jupyter-widgets/controls",
     "model_name": "DescriptionStyleModel",
     "state": {
      "_model_module": "@jupyter-widgets/controls",
      "_model_module_version": "1.5.0",
      "_model_name": "DescriptionStyleModel",
      "_view_count": null,
      "_view_module": "@jupyter-widgets/base",
      "_view_module_version": "1.2.0",
      "_view_name": "StyleView",
      "description_width": ""
     }
    }
   }
  }
 },
 "nbformat": 4,
 "nbformat_minor": 1
}
