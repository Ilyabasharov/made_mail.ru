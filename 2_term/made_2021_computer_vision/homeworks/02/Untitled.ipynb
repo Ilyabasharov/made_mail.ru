{
 "cells": [
  {
   "cell_type": "markdown",
   "metadata": {},
   "source": [
    "### License Plate Recognition"
   ]
  },
  {
   "cell_type": "code",
   "execution_count": null,
   "metadata": {},
   "outputs": [],
   "source": [
    "%%bash\n",
    "\n",
    "export KAGGLE_USERNAME=ilyabasharov\n",
    "export KAGGLE_KEY=db21bf4cd9d1915c6a467aff8a30f245\n",
    "kaggle competitions download -c made-cv-2021-contest-02-license-plate-recognition\n",
    "unzip -q made-cv-2021-contest-01-facial-landmarks.zip\n",
    "rm made-cv-2021-contest-01-facial-landmarks.zip"
   ]
  }
 ],
 "metadata": {
  "kernelspec": {
   "display_name": "Python 3",
   "language": "python",
   "name": "python3"
  },
  "language_info": {
   "codemirror_mode": {
    "name": "ipython",
    "version": 3
   },
   "file_extension": ".py",
   "mimetype": "text/x-python",
   "name": "python",
   "nbconvert_exporter": "python",
   "pygments_lexer": "ipython3",
   "version": "3.9.0"
  }
 },
 "nbformat": 4,
 "nbformat_minor": 4
}
