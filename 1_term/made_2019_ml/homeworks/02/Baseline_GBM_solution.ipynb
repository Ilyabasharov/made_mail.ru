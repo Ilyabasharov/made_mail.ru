{
 "cells": [
  {
   "cell_type": "markdown",
   "metadata": {},
   "source": [
    "# Бейзлайн для ДЗ 2"
   ]
  },
  {
   "cell_type": "code",
   "execution_count": 103,
   "metadata": {},
   "outputs": [],
   "source": [
    "import pandas as pd\n",
    "from sklearn.feature_selection import RFE\n",
    "from xgboost import XGBRegressor\n",
    "from sklearn.model_selection import RandomizedSearchCV\n",
    "from sklearn.model_selection import StratifiedKFold\n",
    "from sklearn.preprocessing import StandardScaler\n",
    "from sklearn.decomposition import PCA\n",
    "\n",
    "train = pd.read_csv(\"train.tsv\")\n",
    "test = pd.read_csv(\"test.tsv\")"
   ]
  },
  {
   "cell_type": "code",
   "execution_count": 104,
   "metadata": {},
   "outputs": [],
   "source": [
    "X_train = train.iloc[:,6:].copy()\n",
    "X_test = test.iloc[:,5:].copy()\n",
    "\n",
    "data_mean = X_train.mean(axis=0)\n",
    "data_std = X_train.std(axis=0)\n",
    "\n",
    "X_train = (X_train - data_mean)/data_std\n",
    "X_test = (X_test - data_mean)/data_std\n",
    "Y_train = train['y']"
   ]
  },
  {
   "cell_type": "code",
   "execution_count": 105,
   "metadata": {},
   "outputs": [],
   "source": [
    "X_train = pd.concat([train.iloc[:,2:5].copy(), X_train], axis=1)\n",
    "X_test = pd.concat([test.iloc[:,1:5].copy(), X_test], axis=1)"
   ]
  },
  {
   "cell_type": "code",
   "execution_count": 107,
   "metadata": {},
   "outputs": [
    {
     "data": {
      "text/html": [
       "<div>\n",
       "<style scoped>\n",
       "    .dataframe tbody tr th:only-of-type {\n",
       "        vertical-align: middle;\n",
       "    }\n",
       "\n",
       "    .dataframe tbody tr th {\n",
       "        vertical-align: top;\n",
       "    }\n",
       "\n",
       "    .dataframe thead th {\n",
       "        text-align: right;\n",
       "    }\n",
       "</style>\n",
       "<table border=\"1\" class=\"dataframe\">\n",
       "  <thead>\n",
       "    <tr style=\"text-align: right;\">\n",
       "      <th></th>\n",
       "      <th>year</th>\n",
       "      <th>week</th>\n",
       "      <th>shift</th>\n",
       "      <th>item_id</th>\n",
       "      <th>f1</th>\n",
       "      <th>f2</th>\n",
       "      <th>f3</th>\n",
       "      <th>f4</th>\n",
       "      <th>f5</th>\n",
       "      <th>f6</th>\n",
       "      <th>...</th>\n",
       "      <th>f51</th>\n",
       "      <th>f52</th>\n",
       "      <th>f53</th>\n",
       "      <th>f54</th>\n",
       "      <th>f55</th>\n",
       "      <th>f56</th>\n",
       "      <th>f57</th>\n",
       "      <th>f58</th>\n",
       "      <th>f59</th>\n",
       "      <th>f60</th>\n",
       "    </tr>\n",
       "  </thead>\n",
       "  <tbody>\n",
       "    <tr>\n",
       "      <th>0</th>\n",
       "      <td>2015</td>\n",
       "      <td>3</td>\n",
       "      <td>3</td>\n",
       "      <td>20447918</td>\n",
       "      <td>-0.384962</td>\n",
       "      <td>-0.387639</td>\n",
       "      <td>-0.387420</td>\n",
       "      <td>-0.386206</td>\n",
       "      <td>-0.389701</td>\n",
       "      <td>-0.392829</td>\n",
       "      <td>...</td>\n",
       "      <td>-0.404677</td>\n",
       "      <td>-0.407896</td>\n",
       "      <td>-0.406941</td>\n",
       "      <td>-0.406165</td>\n",
       "      <td>-0.408930</td>\n",
       "      <td>-0.405078</td>\n",
       "      <td>-0.408676</td>\n",
       "      <td>-0.410854</td>\n",
       "      <td>-0.410570</td>\n",
       "      <td>-0.410564</td>\n",
       "    </tr>\n",
       "    <tr>\n",
       "      <th>1</th>\n",
       "      <td>2015</td>\n",
       "      <td>3</td>\n",
       "      <td>3</td>\n",
       "      <td>20447902</td>\n",
       "      <td>-0.360966</td>\n",
       "      <td>-0.353005</td>\n",
       "      <td>-0.356585</td>\n",
       "      <td>-0.362939</td>\n",
       "      <td>-0.354454</td>\n",
       "      <td>-0.362705</td>\n",
       "      <td>...</td>\n",
       "      <td>-0.338836</td>\n",
       "      <td>-0.364061</td>\n",
       "      <td>-0.341776</td>\n",
       "      <td>-0.352009</td>\n",
       "      <td>-0.352404</td>\n",
       "      <td>-0.360380</td>\n",
       "      <td>-0.357172</td>\n",
       "      <td>-0.353676</td>\n",
       "      <td>-0.335137</td>\n",
       "      <td>-0.344264</td>\n",
       "    </tr>\n",
       "    <tr>\n",
       "      <th>2</th>\n",
       "      <td>2015</td>\n",
       "      <td>3</td>\n",
       "      <td>3</td>\n",
       "      <td>20447732</td>\n",
       "      <td>-0.047945</td>\n",
       "      <td>0.043532</td>\n",
       "      <td>0.127935</td>\n",
       "      <td>0.030801</td>\n",
       "      <td>0.207132</td>\n",
       "      <td>0.259203</td>\n",
       "      <td>...</td>\n",
       "      <td>0.558835</td>\n",
       "      <td>0.111039</td>\n",
       "      <td>0.303967</td>\n",
       "      <td>0.423395</td>\n",
       "      <td>0.369111</td>\n",
       "      <td>0.359363</td>\n",
       "      <td>0.263894</td>\n",
       "      <td>0.397682</td>\n",
       "      <td>0.531011</td>\n",
       "      <td>0.532121</td>\n",
       "    </tr>\n",
       "    <tr>\n",
       "      <th>3</th>\n",
       "      <td>2015</td>\n",
       "      <td>3</td>\n",
       "      <td>3</td>\n",
       "      <td>20443951</td>\n",
       "      <td>-0.326079</td>\n",
       "      <td>-0.318165</td>\n",
       "      <td>-0.311002</td>\n",
       "      <td>-0.331141</td>\n",
       "      <td>-0.316858</td>\n",
       "      <td>-0.314412</td>\n",
       "      <td>...</td>\n",
       "      <td>-0.284356</td>\n",
       "      <td>-0.363387</td>\n",
       "      <td>-0.337733</td>\n",
       "      <td>-0.339604</td>\n",
       "      <td>-0.310419</td>\n",
       "      <td>-0.335916</td>\n",
       "      <td>-0.362284</td>\n",
       "      <td>-0.351659</td>\n",
       "      <td>-0.316870</td>\n",
       "      <td>-0.302322</td>\n",
       "    </tr>\n",
       "    <tr>\n",
       "      <th>4</th>\n",
       "      <td>2015</td>\n",
       "      <td>3</td>\n",
       "      <td>3</td>\n",
       "      <td>20443944</td>\n",
       "      <td>-0.374715</td>\n",
       "      <td>-0.372791</td>\n",
       "      <td>-0.380992</td>\n",
       "      <td>-0.386053</td>\n",
       "      <td>-0.384384</td>\n",
       "      <td>-0.387942</td>\n",
       "      <td>...</td>\n",
       "      <td>-0.409131</td>\n",
       "      <td>-0.409341</td>\n",
       "      <td>-0.409870</td>\n",
       "      <td>-0.411387</td>\n",
       "      <td>-0.411679</td>\n",
       "      <td>-0.411989</td>\n",
       "      <td>-0.412479</td>\n",
       "      <td>-0.414126</td>\n",
       "      <td>-0.414844</td>\n",
       "      <td>-0.414836</td>\n",
       "    </tr>\n",
       "  </tbody>\n",
       "</table>\n",
       "<p>5 rows × 64 columns</p>\n",
       "</div>"
      ],
      "text/plain": [
       "   year  week  shift   item_id        f1        f2        f3        f4  \\\n",
       "0  2015     3      3  20447918 -0.384962 -0.387639 -0.387420 -0.386206   \n",
       "1  2015     3      3  20447902 -0.360966 -0.353005 -0.356585 -0.362939   \n",
       "2  2015     3      3  20447732 -0.047945  0.043532  0.127935  0.030801   \n",
       "3  2015     3      3  20443951 -0.326079 -0.318165 -0.311002 -0.331141   \n",
       "4  2015     3      3  20443944 -0.374715 -0.372791 -0.380992 -0.386053   \n",
       "\n",
       "         f5        f6  ...       f51       f52       f53       f54       f55  \\\n",
       "0 -0.389701 -0.392829  ... -0.404677 -0.407896 -0.406941 -0.406165 -0.408930   \n",
       "1 -0.354454 -0.362705  ... -0.338836 -0.364061 -0.341776 -0.352009 -0.352404   \n",
       "2  0.207132  0.259203  ...  0.558835  0.111039  0.303967  0.423395  0.369111   \n",
       "3 -0.316858 -0.314412  ... -0.284356 -0.363387 -0.337733 -0.339604 -0.310419   \n",
       "4 -0.384384 -0.387942  ... -0.409131 -0.409341 -0.409870 -0.411387 -0.411679   \n",
       "\n",
       "        f56       f57       f58       f59       f60  \n",
       "0 -0.405078 -0.408676 -0.410854 -0.410570 -0.410564  \n",
       "1 -0.360380 -0.357172 -0.353676 -0.335137 -0.344264  \n",
       "2  0.359363  0.263894  0.397682  0.531011  0.532121  \n",
       "3 -0.335916 -0.362284 -0.351659 -0.316870 -0.302322  \n",
       "4 -0.411989 -0.412479 -0.414126 -0.414844 -0.414836  \n",
       "\n",
       "[5 rows x 64 columns]"
      ]
     },
     "execution_count": 107,
     "metadata": {},
     "output_type": "execute_result"
    }
   ],
   "source": [
    "X_test.head()"
   ]
  },
  {
   "cell_type": "code",
   "execution_count": 115,
   "metadata": {},
   "outputs": [
    {
     "name": "stdout",
     "output_type": "stream",
     "text": [
      "Fitting 3 folds for each of 5 candidates, totalling 15 fits\n"
     ]
    },
    {
     "name": "stderr",
     "output_type": "stream",
     "text": [
      "/Users/ilyabasharov/anaconda3/lib/python3.7/site-packages/sklearn/model_selection/_split.py:1978: FutureWarning: The default value of cv will change from 3 to 5 in version 0.22. Specify it explicitly to silence this warning.\n",
      "  warnings.warn(CV_WARNING, FutureWarning)\n",
      "[Parallel(n_jobs=-1)]: Using backend LokyBackend with 4 concurrent workers.\n",
      "[Parallel(n_jobs=-1)]: Done  15 out of  15 | elapsed: 17.9min finished\n",
      "/Users/ilyabasharov/anaconda3/lib/python3.7/site-packages/xgboost/core.py:587: FutureWarning: Series.base is deprecated and will be removed in a future version\n",
      "  if getattr(data, 'base', None) is not None and \\\n",
      "/Users/ilyabasharov/anaconda3/lib/python3.7/site-packages/xgboost/core.py:588: FutureWarning: Series.base is deprecated and will be removed in a future version\n",
      "  data.base is not None and isinstance(data, np.ndarray) \\\n"
     ]
    },
    {
     "name": "stdout",
     "output_type": "stream",
     "text": [
      "[23:28:02] WARNING: src/objective/regression_obj.cu:152: reg:linear is now deprecated in favor of reg:squarederror.\n",
      "CPU times: user 3min 50s, sys: 779 ms, total: 3min 50s\n",
      "Wall time: 21min 43s\n"
     ]
    },
    {
     "data": {
      "text/plain": [
       "RandomizedSearchCV(cv='warn', error_score='raise-deprecating',\n",
       "                   estimator=XGBRegressor(base_score=0.5, booster='gbtree',\n",
       "                                          colsample_bylevel=1,\n",
       "                                          colsample_bynode=1,\n",
       "                                          colsample_bytree=1, gamma=0,\n",
       "                                          importance_type='gain',\n",
       "                                          learning_rate=0.1, max_delta_step=0,\n",
       "                                          max_depth=3, min_child_weight=1,\n",
       "                                          missing=None, n_estimators=100,\n",
       "                                          n_jobs=1, nthread=-1,\n",
       "                                          objective='reg:linear',\n",
       "                                          random...\n",
       "                                          seed=None, silent=None, subsample=1,\n",
       "                                          verbosity=1),\n",
       "                   iid=False, n_iter=5, n_jobs=-1,\n",
       "                   param_distributions={'colsample_bytree': [0.7],\n",
       "                                        'gamma': [0.3, 0.4, 0.5],\n",
       "                                        'learning_rate': [0.03, 0.05, 0.07],\n",
       "                                        'max_depth': [5, 6, 7],\n",
       "                                        'min_child_weight': [4, 5],\n",
       "                                        'n_estimators': [500], 'nthread': [4],\n",
       "                                        'subsample': [0.7]},\n",
       "                   pre_dispatch='2*n_jobs', random_state=0, refit=True,\n",
       "                   return_train_score=False, scoring='r2', verbose=3)"
      ]
     },
     "execution_count": 115,
     "metadata": {},
     "output_type": "execute_result"
    }
   ],
   "source": [
    "%%time\n",
    "\n",
    "parameters = {'nthread':[4], #when use hyperthread, xgboost may become slower\n",
    "              'learning_rate': [.03, 0.05, .07], #so called `eta` value\n",
    "              'gamma': [i/10.0 for i in range(3,6)],\n",
    "              'max_depth': [5, 6, 7],\n",
    "              'min_child_weight': [4, 5],\n",
    "              'subsample': [0.7],\n",
    "              'colsample_bytree': [0.7],\n",
    "              'n_estimators': [500]}\n",
    "\n",
    "param_comb = 5\n",
    "model = XGBRegressor(nthread=-1)\n",
    "search_params = RandomizedSearchCV(model, param_distributions = parameters, n_iter = param_comb,\n",
    "                                   scoring = 'r2', n_jobs = -1, iid = False, verbose = 3, random_state = 0)\n",
    "\n",
    "search_params.fit(X_train,\n",
    "         Y_train)"
   ]
  },
  {
   "cell_type": "code",
   "execution_count": 118,
   "metadata": {},
   "outputs": [],
   "source": [
    "del X_test['item_id']"
   ]
  },
  {
   "cell_type": "code",
   "execution_count": 120,
   "metadata": {},
   "outputs": [],
   "source": [
    "y_pred = search_params.predict(X_test)\n",
    "sample_submission = pd.read_csv(\"sample_submission.tsv\")\n",
    "sample_submission['y'] = y_pred"
   ]
  },
  {
   "cell_type": "code",
   "execution_count": 121,
   "metadata": {},
   "outputs": [
    {
     "data": {
      "text/html": [
       "<div>\n",
       "<style scoped>\n",
       "    .dataframe tbody tr th:only-of-type {\n",
       "        vertical-align: middle;\n",
       "    }\n",
       "\n",
       "    .dataframe tbody tr th {\n",
       "        vertical-align: top;\n",
       "    }\n",
       "\n",
       "    .dataframe thead th {\n",
       "        text-align: right;\n",
       "    }\n",
       "</style>\n",
       "<table border=\"1\" class=\"dataframe\">\n",
       "  <thead>\n",
       "    <tr style=\"text-align: right;\">\n",
       "      <th></th>\n",
       "      <th>Num</th>\n",
       "      <th>y</th>\n",
       "    </tr>\n",
       "  </thead>\n",
       "  <tbody>\n",
       "    <tr>\n",
       "      <th>0</th>\n",
       "      <td>348622</td>\n",
       "      <td>1525.586792</td>\n",
       "    </tr>\n",
       "    <tr>\n",
       "      <th>1</th>\n",
       "      <td>348623</td>\n",
       "      <td>25151.701172</td>\n",
       "    </tr>\n",
       "    <tr>\n",
       "      <th>2</th>\n",
       "      <td>348624</td>\n",
       "      <td>297314.718750</td>\n",
       "    </tr>\n",
       "    <tr>\n",
       "      <th>3</th>\n",
       "      <td>348625</td>\n",
       "      <td>27381.027344</td>\n",
       "    </tr>\n",
       "    <tr>\n",
       "      <th>4</th>\n",
       "      <td>348626</td>\n",
       "      <td>1140.900757</td>\n",
       "    </tr>\n",
       "  </tbody>\n",
       "</table>\n",
       "</div>"
      ],
      "text/plain": [
       "      Num              y\n",
       "0  348622    1525.586792\n",
       "1  348623   25151.701172\n",
       "2  348624  297314.718750\n",
       "3  348625   27381.027344\n",
       "4  348626    1140.900757"
      ]
     },
     "execution_count": 121,
     "metadata": {},
     "output_type": "execute_result"
    }
   ],
   "source": [
    "sample_submission.head(5)"
   ]
  },
  {
   "cell_type": "markdown",
   "metadata": {},
   "source": [
    "В прогнозах GBM могут появиться отрицательные числа:"
   ]
  },
  {
   "cell_type": "code",
   "execution_count": 122,
   "metadata": {},
   "outputs": [
    {
     "name": "stdout",
     "output_type": "stream",
     "text": [
      "Empty DataFrame\n",
      "Columns: [Num, y]\n",
      "Index: []\n"
     ]
    }
   ],
   "source": [
    "print(sample_submission[sample_submission['y'] < 0])"
   ]
  },
  {
   "cell_type": "markdown",
   "metadata": {},
   "source": [
    "Если они есть - можем занулить:"
   ]
  },
  {
   "cell_type": "code",
   "execution_count": 10,
   "metadata": {},
   "outputs": [],
   "source": [
    "sample_submission['y'] = sample_submission['y'].map(lambda x: x if x > 0 else 0.0)"
   ]
  },
  {
   "cell_type": "code",
   "execution_count": 123,
   "metadata": {},
   "outputs": [],
   "source": [
    "sample_submission.to_csv(\"baseline_submission.tsv\", sep=',', index=False)"
   ]
  },
  {
   "cell_type": "code",
   "execution_count": null,
   "metadata": {},
   "outputs": [],
   "source": []
  }
 ],
 "metadata": {
  "kernelspec": {
   "display_name": "Python 3",
   "language": "python",
   "name": "python3"
  },
  "language_info": {
   "codemirror_mode": {
    "name": "ipython",
    "version": 3
   },
   "file_extension": ".py",
   "mimetype": "text/x-python",
   "name": "python",
   "nbconvert_exporter": "python",
   "pygments_lexer": "ipython3",
   "version": "3.7.3"
  }
 },
 "nbformat": 4,
 "nbformat_minor": 1
}
