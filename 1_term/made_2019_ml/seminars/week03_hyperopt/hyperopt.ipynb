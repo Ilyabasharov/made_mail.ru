{
 "cells": [
  {
   "cell_type": "markdown",
   "metadata": {},
   "source": [
    "# Методы подбора гиперпараметров\n",
    "\n",
    "Датасет: https://www.kaggle.com/c/bioresponse/data"
   ]
  },
  {
   "cell_type": "markdown",
   "metadata": {},
   "source": [
    "### Дисклеймер:\n",
    "\n",
    "1. Серебрянной пули – нет.\n",
    "2. Параметров – много, а времени – мало.\n",
    "3. Автоматический подбор параметров не всегда может спасти, см. предыдущий пункт."
   ]
  },
  {
   "cell_type": "code",
   "execution_count": 1,
   "metadata": {},
   "outputs": [],
   "source": [
    "from __future__ import print_function, division, unicode_literals"
   ]
  },
  {
   "cell_type": "code",
   "execution_count": 2,
   "metadata": {},
   "outputs": [],
   "source": [
    "from tqdm import tqdm_notebook"
   ]
  },
  {
   "cell_type": "code",
   "execution_count": 3,
   "metadata": {},
   "outputs": [],
   "source": [
    "import numpy as np\n",
    "import pandas as pd\n",
    "\n",
    "import scipy\n",
    "\n",
    "from sklearn.model_selection import cross_val_score"
   ]
  },
  {
   "cell_type": "code",
   "execution_count": 4,
   "metadata": {},
   "outputs": [],
   "source": [
    "import numpy as np\n",
    "import pandas as pd\n",
    "\n",
    "import matplotlib.pyplot as plt\n",
    "\n",
    "%matplotlib inline"
   ]
  },
  {
   "cell_type": "code",
   "execution_count": 5,
   "metadata": {},
   "outputs": [
    {
     "data": {
      "text/html": [
       "<div>\n",
       "<style scoped>\n",
       "    .dataframe tbody tr th:only-of-type {\n",
       "        vertical-align: middle;\n",
       "    }\n",
       "\n",
       "    .dataframe tbody tr th {\n",
       "        vertical-align: top;\n",
       "    }\n",
       "\n",
       "    .dataframe thead th {\n",
       "        text-align: right;\n",
       "    }\n",
       "</style>\n",
       "<table border=\"1\" class=\"dataframe\">\n",
       "  <thead>\n",
       "    <tr style=\"text-align: right;\">\n",
       "      <th></th>\n",
       "      <th>Activity</th>\n",
       "      <th>D1</th>\n",
       "      <th>D2</th>\n",
       "      <th>D3</th>\n",
       "      <th>D4</th>\n",
       "      <th>D5</th>\n",
       "      <th>D6</th>\n",
       "      <th>D7</th>\n",
       "      <th>D8</th>\n",
       "      <th>D9</th>\n",
       "      <th>...</th>\n",
       "      <th>D1767</th>\n",
       "      <th>D1768</th>\n",
       "      <th>D1769</th>\n",
       "      <th>D1770</th>\n",
       "      <th>D1771</th>\n",
       "      <th>D1772</th>\n",
       "      <th>D1773</th>\n",
       "      <th>D1774</th>\n",
       "      <th>D1775</th>\n",
       "      <th>D1776</th>\n",
       "    </tr>\n",
       "  </thead>\n",
       "  <tbody>\n",
       "    <tr>\n",
       "      <th>0</th>\n",
       "      <td>1</td>\n",
       "      <td>0.000000</td>\n",
       "      <td>0.497009</td>\n",
       "      <td>0.10</td>\n",
       "      <td>0.0</td>\n",
       "      <td>0.132956</td>\n",
       "      <td>0.678031</td>\n",
       "      <td>0.273166</td>\n",
       "      <td>0.585445</td>\n",
       "      <td>0.743663</td>\n",
       "      <td>...</td>\n",
       "      <td>0</td>\n",
       "      <td>0</td>\n",
       "      <td>0</td>\n",
       "      <td>0</td>\n",
       "      <td>0</td>\n",
       "      <td>0</td>\n",
       "      <td>0</td>\n",
       "      <td>0</td>\n",
       "      <td>0</td>\n",
       "      <td>0</td>\n",
       "    </tr>\n",
       "    <tr>\n",
       "      <th>1</th>\n",
       "      <td>1</td>\n",
       "      <td>0.366667</td>\n",
       "      <td>0.606291</td>\n",
       "      <td>0.05</td>\n",
       "      <td>0.0</td>\n",
       "      <td>0.111209</td>\n",
       "      <td>0.803455</td>\n",
       "      <td>0.106105</td>\n",
       "      <td>0.411754</td>\n",
       "      <td>0.836582</td>\n",
       "      <td>...</td>\n",
       "      <td>1</td>\n",
       "      <td>1</td>\n",
       "      <td>1</td>\n",
       "      <td>1</td>\n",
       "      <td>0</td>\n",
       "      <td>1</td>\n",
       "      <td>0</td>\n",
       "      <td>0</td>\n",
       "      <td>1</td>\n",
       "      <td>0</td>\n",
       "    </tr>\n",
       "    <tr>\n",
       "      <th>2</th>\n",
       "      <td>1</td>\n",
       "      <td>0.033300</td>\n",
       "      <td>0.480124</td>\n",
       "      <td>0.00</td>\n",
       "      <td>0.0</td>\n",
       "      <td>0.209791</td>\n",
       "      <td>0.610350</td>\n",
       "      <td>0.356453</td>\n",
       "      <td>0.517720</td>\n",
       "      <td>0.679051</td>\n",
       "      <td>...</td>\n",
       "      <td>0</td>\n",
       "      <td>0</td>\n",
       "      <td>0</td>\n",
       "      <td>0</td>\n",
       "      <td>0</td>\n",
       "      <td>0</td>\n",
       "      <td>0</td>\n",
       "      <td>0</td>\n",
       "      <td>0</td>\n",
       "      <td>0</td>\n",
       "    </tr>\n",
       "    <tr>\n",
       "      <th>3</th>\n",
       "      <td>1</td>\n",
       "      <td>0.000000</td>\n",
       "      <td>0.538825</td>\n",
       "      <td>0.00</td>\n",
       "      <td>0.5</td>\n",
       "      <td>0.196344</td>\n",
       "      <td>0.724230</td>\n",
       "      <td>0.235606</td>\n",
       "      <td>0.288764</td>\n",
       "      <td>0.805110</td>\n",
       "      <td>...</td>\n",
       "      <td>0</td>\n",
       "      <td>0</td>\n",
       "      <td>0</td>\n",
       "      <td>0</td>\n",
       "      <td>0</td>\n",
       "      <td>0</td>\n",
       "      <td>0</td>\n",
       "      <td>0</td>\n",
       "      <td>0</td>\n",
       "      <td>0</td>\n",
       "    </tr>\n",
       "    <tr>\n",
       "      <th>4</th>\n",
       "      <td>0</td>\n",
       "      <td>0.100000</td>\n",
       "      <td>0.517794</td>\n",
       "      <td>0.00</td>\n",
       "      <td>0.0</td>\n",
       "      <td>0.494734</td>\n",
       "      <td>0.781422</td>\n",
       "      <td>0.154361</td>\n",
       "      <td>0.303809</td>\n",
       "      <td>0.812646</td>\n",
       "      <td>...</td>\n",
       "      <td>0</td>\n",
       "      <td>0</td>\n",
       "      <td>0</td>\n",
       "      <td>0</td>\n",
       "      <td>0</td>\n",
       "      <td>0</td>\n",
       "      <td>0</td>\n",
       "      <td>0</td>\n",
       "      <td>0</td>\n",
       "      <td>0</td>\n",
       "    </tr>\n",
       "  </tbody>\n",
       "</table>\n",
       "<p>5 rows × 1777 columns</p>\n",
       "</div>"
      ],
      "text/plain": [
       "   Activity        D1        D2    D3   D4        D5        D6        D7  \\\n",
       "0         1  0.000000  0.497009  0.10  0.0  0.132956  0.678031  0.273166   \n",
       "1         1  0.366667  0.606291  0.05  0.0  0.111209  0.803455  0.106105   \n",
       "2         1  0.033300  0.480124  0.00  0.0  0.209791  0.610350  0.356453   \n",
       "3         1  0.000000  0.538825  0.00  0.5  0.196344  0.724230  0.235606   \n",
       "4         0  0.100000  0.517794  0.00  0.0  0.494734  0.781422  0.154361   \n",
       "\n",
       "         D8        D9  ...  D1767  D1768  D1769  D1770  D1771  D1772  D1773  \\\n",
       "0  0.585445  0.743663  ...      0      0      0      0      0      0      0   \n",
       "1  0.411754  0.836582  ...      1      1      1      1      0      1      0   \n",
       "2  0.517720  0.679051  ...      0      0      0      0      0      0      0   \n",
       "3  0.288764  0.805110  ...      0      0      0      0      0      0      0   \n",
       "4  0.303809  0.812646  ...      0      0      0      0      0      0      0   \n",
       "\n",
       "   D1774  D1775  D1776  \n",
       "0      0      0      0  \n",
       "1      0      1      0  \n",
       "2      0      0      0  \n",
       "3      0      0      0  \n",
       "4      0      0      0  \n",
       "\n",
       "[5 rows x 1777 columns]"
      ]
     },
     "execution_count": 5,
     "metadata": {},
     "output_type": "execute_result"
    }
   ],
   "source": [
    "df = pd.read_csv('data/train.csv', sep=',')\n",
    "df.head()"
   ]
  },
  {
   "cell_type": "code",
   "execution_count": 6,
   "metadata": {},
   "outputs": [
    {
     "data": {
      "text/plain": [
       "(3751, 1777)"
      ]
     },
     "execution_count": 6,
     "metadata": {},
     "output_type": "execute_result"
    }
   ],
   "source": [
    "df.shape"
   ]
  },
  {
   "cell_type": "code",
   "execution_count": 7,
   "metadata": {},
   "outputs": [],
   "source": [
    "from sklearn.model_selection import train_test_split\n",
    "\n",
    "X_train, X_valid, y_train, y_valid = \\\n",
    "    train_test_split(df.iloc[:, 1:].values, df.iloc[:, 0].values, test_size=0.3, random_state=9876)"
   ]
  },
  {
   "cell_type": "code",
   "execution_count": 8,
   "metadata": {},
   "outputs": [
    {
     "data": {
      "image/png": "[encoded data removed]",
      "text/plain": [
       "<Figure size 432x216 with 1 Axes>"
      ]
     },
     "metadata": {
      "needs_background": "light"
     },
     "output_type": "display_data"
    }
   ],
   "source": [
    "plt.figure(figsize=(6, 3))\n",
    "_ = plt.hist(y_train)"
   ]
  },
  {
   "cell_type": "code",
   "execution_count": 9,
   "metadata": {},
   "outputs": [],
   "source": [
    "from sklearn import linear_model, ensemble\n",
    "from sklearn.metrics import roc_auc_score"
   ]
  },
  {
   "cell_type": "markdown",
   "metadata": {},
   "source": [
    "## __1__. GridSearch"
   ]
  },
  {
   "cell_type": "code",
   "execution_count": 10,
   "metadata": {},
   "outputs": [
    {
     "name": "stdout",
     "output_type": "stream",
     "text": [
      "Fitting 3 folds for each of 40 candidates, totalling 120 fits\n"
     ]
    },
    {
     "name": "stderr",
     "output_type": "stream",
     "text": [
      "[Parallel(n_jobs=16)]: Using backend LokyBackend with 16 concurrent workers.\n",
      "[Parallel(n_jobs=16)]: Done  40 tasks      | elapsed:   56.4s\n",
      "[Parallel(n_jobs=16)]: Done 114 out of 120 | elapsed:  2.7min remaining:    8.6s\n",
      "[Parallel(n_jobs=16)]: Done 120 out of 120 | elapsed:  3.0min finished\n"
     ]
    },
    {
     "name": "stdout",
     "output_type": "stream",
     "text": [
      "CPU times: user 35.7 s, sys: 430 ms, total: 36.2 s\n",
      "Wall time: 3min 35s\n"
     ]
    }
   ],
   "source": [
    "%%time\n",
    "\n",
    "from sklearn.model_selection import GridSearchCV\n",
    "\n",
    "params_grid = {\n",
    "    'n_estimators': np.arange(50, 150, 25),\n",
    "    'max_features': np.arange(0.5, 1.0, 0.1),\n",
    "    'criterion':    ['gini', 'entropy'],\n",
    "}\n",
    "\n",
    "clf = ensemble.RandomForestClassifier()\n",
    "model = GridSearchCV(estimator=clf, param_grid=params_grid, cv=3, verbose=5, n_jobs=16)\n",
    "model.fit(X_train, y_train)\n",
    "\n",
    "y_pred = model.best_estimator_.predict(X_valid)"
   ]
  },
  {
   "cell_type": "code",
   "execution_count": 11,
   "metadata": {},
   "outputs": [
    {
     "data": {
      "text/plain": [
       "0.7962612594085469"
      ]
     },
     "execution_count": 11,
     "metadata": {},
     "output_type": "execute_result"
    }
   ],
   "source": [
    "roc_auc_score(y_valid, y_pred)"
   ]
  },
  {
   "cell_type": "code",
   "execution_count": 12,
   "metadata": {},
   "outputs": [
    {
     "data": {
      "text/plain": [
       "{u'criterion': u'entropy', u'max_features': 0.5, u'n_estimators': 125}"
      ]
     },
     "execution_count": 12,
     "metadata": {},
     "output_type": "execute_result"
    }
   ],
   "source": [
    "model.best_params_"
   ]
  },
  {
   "cell_type": "markdown",
   "metadata": {},
   "source": [
    "## __2__. RandomizedSearch"
   ]
  },
  {
   "cell_type": "code",
   "execution_count": 13,
   "metadata": {},
   "outputs": [
    {
     "name": "stdout",
     "output_type": "stream",
     "text": [
      "Fitting 3 folds for each of 40 candidates, totalling 120 fits\n"
     ]
    },
    {
     "name": "stderr",
     "output_type": "stream",
     "text": [
      "[Parallel(n_jobs=16)]: Using backend LokyBackend with 16 concurrent workers.\n",
      "[Parallel(n_jobs=16)]: Done  40 tasks      | elapsed:  1.1min\n",
      "[Parallel(n_jobs=16)]: Done 114 out of 120 | elapsed:  2.9min remaining:    9.0s\n",
      "[Parallel(n_jobs=16)]: Done 120 out of 120 | elapsed:  3.3min finished\n"
     ]
    },
    {
     "name": "stdout",
     "output_type": "stream",
     "text": [
      "CPU times: user 17.1 s, sys: 103 ms, total: 17.2 s\n",
      "Wall time: 3min 35s\n"
     ]
    }
   ],
   "source": [
    "%%time\n",
    "\n",
    "from sklearn.model_selection import RandomizedSearchCV\n",
    "\n",
    "params_grid = {\n",
    "    'n_estimators': np.arange(50, 150, 25),\n",
    "    'max_features': scipy.stats.uniform(loc=0.5, scale=0.5),\n",
    "    'criterion':    ['gini', 'entropy'],\n",
    "}\n",
    "\n",
    "clf = ensemble.RandomForestClassifier()\n",
    "model = RandomizedSearchCV(estimator=clf, param_distributions=params_grid,\n",
    "                           n_iter=40, cv=3, verbose=5, n_jobs=16)\n",
    "model.fit(X_train, y_train)\n",
    "\n",
    "y_pred = model.best_estimator_.predict(X_valid)"
   ]
  },
  {
   "cell_type": "code",
   "execution_count": 14,
   "metadata": {},
   "outputs": [
    {
     "data": {
      "text/plain": [
       "0.7962612594085469"
      ]
     },
     "execution_count": 14,
     "metadata": {},
     "output_type": "execute_result"
    }
   ],
   "source": [
    "roc_auc_score(y_valid, y_pred)"
   ]
  },
  {
   "cell_type": "code",
   "execution_count": 15,
   "metadata": {},
   "outputs": [
    {
     "data": {
      "text/plain": [
       "{u'criterion': u'entropy',\n",
       " u'max_features': 0.5856348213650988,\n",
       " u'n_estimators': 50}"
      ]
     },
     "execution_count": 15,
     "metadata": {},
     "output_type": "execute_result"
    }
   ],
   "source": [
    "model.best_params_"
   ]
  },
  {
   "cell_type": "markdown",
   "metadata": {},
   "source": [
    "<span style=\"color:blue;font-weight:bold\">Вопрос:</span> чем `RandomizedSearchCV` лучше `GridSearchCV`?"
   ]
  },
  {
   "cell_type": "markdown",
   "metadata": {},
   "source": [
    "## __3__. Sequential Model Optimization"
   ]
  },
  {
   "cell_type": "markdown",
   "metadata": {},
   "source": [
    "Понятия:\n",
    "* objective function – оптмизируемая функция, $f$;\n",
    "* surrogate model – модель, которая приближает objective function;\n",
    "* acquisition function – функция выгоды, по которой выбираем следующий набор гиперпараметров."
   ]
  },
  {
   "cell_type": "markdown",
   "metadata": {},
   "source": [
    "$$ \\mathbf{P}(y|\\theta, D) \\rightarrow \\max_\\theta $$"
   ]
  },
  {
   "cell_type": "markdown",
   "metadata": {},
   "source": [
    "Зададим acquisition function, как $a_f = \\mathbf{E}[u(x)|D]$.\n",
    "\n",
    "* $u(x) = \\mathbf{I}(f(x) \\leq f')$ – probability of improvement;\n",
    "* $u(x) = max(f' - f(x), 0)$ – expected improvement."
   ]
  },
  {
   "cell_type": "markdown",
   "metadata": {},
   "source": [
    "Принцип работы:\n",
    "\n",
    "1. Построим surrogate model для objective function.\n",
    "2. Найдем новую точку (значение гиперпаметров), которые максимизируют acquisition function.\n",
    "3. Посчитаем значение objective function в новой точке.\n",
    "4. Обновим surrogate model.\n",
    "5. Продолжаем выполнять шаги 2 – 4.\n",
    "\n",
    "<img src=\"bayes_opt.png\" width=\"620px\">"
   ]
  },
  {
   "cell_type": "markdown",
   "metadata": {},
   "source": [
    "### __3.1__. Гауссовские процессы\n",
    "\n",
    "* [`bayesian-optimization`](https://github.com/fmfn/BayesianOptimization);\n",
    "* [`scikit-optimize`](https://scikit-optimize.github.io/);\n",
    "* [`gpyopt`](http://sheffieldml.github.io/GPyOpt/).\n",
    "\n",
    "[Ссылка](https://papers.nips.cc/paper/4522-practical-bayesian-optimization-of-machine-learning-algorithms.pdf) на статью."
   ]
  },
  {
   "cell_type": "code",
   "execution_count": 16,
   "metadata": {},
   "outputs": [
    {
     "name": "stdout",
     "output_type": "stream",
     "text": [
      "|   iter    |  target   | learni... | max_depth | n_esti... | subsample |\n",
      "-------------------------------------------------------------------------\n",
      "| \u001b[0m 1       \u001b[0m | \u001b[0m 0.8318  \u001b[0m | \u001b[0m 0.004349\u001b[0m | \u001b[0m 4.043   \u001b[0m | \u001b[0m 68.09   \u001b[0m | \u001b[0m 0.7578  \u001b[0m |\n",
      "| \u001b[95m 2       \u001b[0m | \u001b[95m 0.8595  \u001b[0m | \u001b[95m 0.04405 \u001b[0m | \u001b[95m 4.174   \u001b[0m | \u001b[95m 190.7   \u001b[0m | \u001b[95m 0.5446  \u001b[0m |\n",
      "| \u001b[95m 3       \u001b[0m | \u001b[95m 0.863   \u001b[0m | \u001b[95m 0.05816 \u001b[0m | \u001b[95m 5.209   \u001b[0m | \u001b[95m 132.8   \u001b[0m | \u001b[95m 0.5512  \u001b[0m |\n",
      "| \u001b[0m 4       \u001b[0m | \u001b[0m 0.8532  \u001b[0m | \u001b[0m 0.04029 \u001b[0m | \u001b[0m 3.765   \u001b[0m | \u001b[0m 128.8   \u001b[0m | \u001b[0m 0.8575  \u001b[0m |\n",
      "| \u001b[0m 5       \u001b[0m | \u001b[0m 0.8624  \u001b[0m | \u001b[0m 0.06198 \u001b[0m | \u001b[0m 6.307   \u001b[0m | \u001b[0m 143.4   \u001b[0m | \u001b[0m 0.7496  \u001b[0m |\n",
      "| \u001b[95m 6       \u001b[0m | \u001b[95m 0.8654  \u001b[0m | \u001b[95m 0.07328 \u001b[0m | \u001b[95m 7.5     \u001b[0m | \u001b[95m 192.9   \u001b[0m | \u001b[95m 0.8587  \u001b[0m |\n",
      "| \u001b[0m 7       \u001b[0m | \u001b[0m 0.8608  \u001b[0m | \u001b[0m 0.02739 \u001b[0m | \u001b[0m 5.351   \u001b[0m | \u001b[0m 174.2   \u001b[0m | \u001b[0m 0.5119  \u001b[0m |\n",
      "| \u001b[0m 8       \u001b[0m | \u001b[0m 0.86    \u001b[0m | \u001b[0m 0.08097 \u001b[0m | \u001b[0m 5.369   \u001b[0m | \u001b[0m 78.44   \u001b[0m | \u001b[0m 0.6074  \u001b[0m |\n",
      "| \u001b[0m 9       \u001b[0m | \u001b[0m 0.8598  \u001b[0m | \u001b[0m 0.07345 \u001b[0m | \u001b[0m 7.147   \u001b[0m | \u001b[0m 62.34   \u001b[0m | \u001b[0m 0.6088  \u001b[0m |\n",
      "| \u001b[0m 10      \u001b[0m | \u001b[0m 0.8623  \u001b[0m | \u001b[0m 0.01712 \u001b[0m | \u001b[0m 6.997   \u001b[0m | \u001b[0m 172.0   \u001b[0m | \u001b[0m 0.6901  \u001b[0m |\n",
      "| \u001b[0m 11      \u001b[0m | \u001b[0m 0.8601  \u001b[0m | \u001b[0m 0.07012 \u001b[0m | \u001b[0m 7.97    \u001b[0m | \u001b[0m 103.9   \u001b[0m | \u001b[0m 0.5202  \u001b[0m |\n",
      "| \u001b[0m 12      \u001b[0m | \u001b[0m 0.8596  \u001b[0m | \u001b[0m 0.0917  \u001b[0m | \u001b[0m 7.993   \u001b[0m | \u001b[0m 74.83   \u001b[0m | \u001b[0m 0.9976  \u001b[0m |\n",
      "| \u001b[0m 13      \u001b[0m | \u001b[0m 0.8623  \u001b[0m | \u001b[0m 0.04813 \u001b[0m | \u001b[0m 7.962   \u001b[0m | \u001b[0m 50.14   \u001b[0m | \u001b[0m 0.6526  \u001b[0m |\n",
      "| \u001b[0m 14      \u001b[0m | \u001b[0m 0.8529  \u001b[0m | \u001b[0m 0.001   \u001b[0m | \u001b[0m 8.0     \u001b[0m | \u001b[0m 200.0   \u001b[0m | \u001b[0m 0.5     \u001b[0m |\n",
      "| \u001b[0m 15      \u001b[0m | \u001b[0m 0.8516  \u001b[0m | \u001b[0m 0.001   \u001b[0m | \u001b[0m 7.981   \u001b[0m | \u001b[0m 89.45   \u001b[0m | \u001b[0m 0.5     \u001b[0m |\n",
      "| \u001b[0m 16      \u001b[0m | \u001b[0m 0.8623  \u001b[0m | \u001b[0m 0.05616 \u001b[0m | \u001b[0m 7.907   \u001b[0m | \u001b[0m 120.8   \u001b[0m | \u001b[0m 0.5036  \u001b[0m |\n",
      "| \u001b[0m 17      \u001b[0m | \u001b[0m 0.8387  \u001b[0m | \u001b[0m 0.01869 \u001b[0m | \u001b[0m 3.028   \u001b[0m | \u001b[0m 105.4   \u001b[0m | \u001b[0m 0.5055  \u001b[0m |\n",
      "| \u001b[0m 18      \u001b[0m | \u001b[0m 0.8486  \u001b[0m | \u001b[0m 0.09702 \u001b[0m | \u001b[0m 3.14    \u001b[0m | \u001b[0m 157.0   \u001b[0m | \u001b[0m 0.5119  \u001b[0m |\n",
      "| \u001b[0m 19      \u001b[0m | \u001b[0m 0.8623  \u001b[0m | \u001b[0m 0.01403 \u001b[0m | \u001b[0m 7.991   \u001b[0m | \u001b[0m 183.1   \u001b[0m | \u001b[0m 0.5108  \u001b[0m |\n",
      "| \u001b[0m 20      \u001b[0m | \u001b[0m 0.8628  \u001b[0m | \u001b[0m 0.04879 \u001b[0m | \u001b[0m 7.998   \u001b[0m | \u001b[0m 133.4   \u001b[0m | \u001b[0m 0.9531  \u001b[0m |\n",
      "| \u001b[0m 21      \u001b[0m | \u001b[0m 0.8545  \u001b[0m | \u001b[0m 0.08919 \u001b[0m | \u001b[0m 7.968   \u001b[0m | \u001b[0m 76.5    \u001b[0m | \u001b[0m 0.5099  \u001b[0m |\n",
      "| \u001b[0m 22      \u001b[0m | \u001b[0m 0.8509  \u001b[0m | \u001b[0m 0.07221 \u001b[0m | \u001b[0m 7.974   \u001b[0m | \u001b[0m 55.1    \u001b[0m | \u001b[0m 0.9982  \u001b[0m |\n",
      "| \u001b[0m 23      \u001b[0m | \u001b[0m 0.8419  \u001b[0m | \u001b[0m 0.01364 \u001b[0m | \u001b[0m 3.084   \u001b[0m | \u001b[0m 199.7   \u001b[0m | \u001b[0m 0.991   \u001b[0m |\n",
      "| \u001b[0m 24      \u001b[0m | \u001b[0m 0.8504  \u001b[0m | \u001b[0m 0.09964 \u001b[0m | \u001b[0m 3.029   \u001b[0m | \u001b[0m 88.75   \u001b[0m | \u001b[0m 0.9864  \u001b[0m |\n",
      "| \u001b[0m 25      \u001b[0m | \u001b[0m 0.8652  \u001b[0m | \u001b[0m 0.05888 \u001b[0m | \u001b[0m 7.972   \u001b[0m | \u001b[0m 155.6   \u001b[0m | \u001b[0m 0.5018  \u001b[0m |\n",
      "| \u001b[0m 26      \u001b[0m | \u001b[0m 0.8435  \u001b[0m | \u001b[0m 0.1     \u001b[0m | \u001b[0m 3.0     \u001b[0m | \u001b[0m 50.0    \u001b[0m | \u001b[0m 0.5     \u001b[0m |\n",
      "| \u001b[0m 27      \u001b[0m | \u001b[0m 0.8532  \u001b[0m | \u001b[0m 0.01732 \u001b[0m | \u001b[0m 7.909   \u001b[0m | \u001b[0m 111.9   \u001b[0m | \u001b[0m 0.9675  \u001b[0m |\n",
      "| \u001b[0m 28      \u001b[0m | \u001b[0m 0.8527  \u001b[0m | \u001b[0m 0.07034 \u001b[0m | \u001b[0m 3.205   \u001b[0m | \u001b[0m 182.7   \u001b[0m | \u001b[0m 1.0     \u001b[0m |\n",
      "| \u001b[0m 29      \u001b[0m | \u001b[0m 0.8588  \u001b[0m | \u001b[0m 0.07571 \u001b[0m | \u001b[0m 7.963   \u001b[0m | \u001b[0m 163.4   \u001b[0m | \u001b[0m 0.5089  \u001b[0m |\n",
      "| \u001b[0m 30      \u001b[0m | \u001b[0m 0.8586  \u001b[0m | \u001b[0m 0.01149 \u001b[0m | \u001b[0m 7.989   \u001b[0m | \u001b[0m 147.9   \u001b[0m | \u001b[0m 0.5185  \u001b[0m |\n",
      "| \u001b[0m 31      \u001b[0m | \u001b[0m 0.8224  \u001b[0m | \u001b[0m 0.001   \u001b[0m | \u001b[0m 3.0     \u001b[0m | \u001b[0m 139.5   \u001b[0m | \u001b[0m 0.5     \u001b[0m |\n",
      "| \u001b[0m 32      \u001b[0m | \u001b[0m 0.86    \u001b[0m | \u001b[0m 0.08524 \u001b[0m | \u001b[0m 6.859   \u001b[0m | \u001b[0m 97.3    \u001b[0m | \u001b[0m 0.9895  \u001b[0m |\n",
      "| \u001b[0m 33      \u001b[0m | \u001b[0m 0.8594  \u001b[0m | \u001b[0m 0.09143 \u001b[0m | \u001b[0m 7.802   \u001b[0m | \u001b[0m 139.8   \u001b[0m | \u001b[0m 0.514   \u001b[0m |\n",
      "| \u001b[0m 34      \u001b[0m | \u001b[0m 0.8638  \u001b[0m | \u001b[0m 0.07963 \u001b[0m | \u001b[0m 7.735   \u001b[0m | \u001b[0m 127.8   \u001b[0m | \u001b[0m 0.5029  \u001b[0m |\n",
      "| \u001b[0m 35      \u001b[0m | \u001b[0m 0.8552  \u001b[0m | \u001b[0m 0.09591 \u001b[0m | \u001b[0m 3.187   \u001b[0m | \u001b[0m 167.9   \u001b[0m | \u001b[0m 0.9966  \u001b[0m |\n",
      "| \u001b[0m 36      \u001b[0m | \u001b[0m 0.8616  \u001b[0m | \u001b[0m 0.05665 \u001b[0m | \u001b[0m 6.821   \u001b[0m | \u001b[0m 158.7   \u001b[0m | \u001b[0m 0.9978  \u001b[0m |\n",
      "| \u001b[0m 37      \u001b[0m | \u001b[0m 0.8539  \u001b[0m | \u001b[0m 0.09558 \u001b[0m | \u001b[0m 7.039   \u001b[0m | \u001b[0m 82.43   \u001b[0m | \u001b[0m 0.9972  \u001b[0m |\n",
      "| \u001b[0m 38      \u001b[0m | \u001b[0m 0.8537  \u001b[0m | \u001b[0m 0.1     \u001b[0m | \u001b[0m 8.0     \u001b[0m | \u001b[0m 65.2    \u001b[0m | \u001b[0m 1.0     \u001b[0m |\n",
      "| \u001b[0m 39      \u001b[0m | \u001b[0m 0.8579  \u001b[0m | \u001b[0m 0.09672 \u001b[0m | \u001b[0m 4.408   \u001b[0m | \u001b[0m 118.5   \u001b[0m | \u001b[0m 0.509   \u001b[0m |\n",
      "| \u001b[0m 40      \u001b[0m | \u001b[0m 0.8649  \u001b[0m | \u001b[0m 0.09573 \u001b[0m | \u001b[0m 7.963   \u001b[0m | \u001b[0m 188.1   \u001b[0m | \u001b[0m 0.5309  \u001b[0m |\n",
      "=========================================================================\n",
      "CPU times: user 4min 40s, sys: 4min 30s, total: 9min 10s\n",
      "Wall time: 29min 23s\n"
     ]
    }
   ],
   "source": [
    "%%time\n",
    "\n",
    "from bayes_opt import BayesianOptimization\n",
    "\n",
    "def model_auc_score(**params):\n",
    "    params['n_estimators'] = int(round(params['n_estimators']))\n",
    "    params['max_depth'] = int(round(params['max_depth']))\n",
    "    \n",
    "    clf = ensemble.GradientBoostingClassifier(**params)\n",
    "    score = cross_val_score(clf, X_train, y_train, scoring='roc_auc', cv=3, n_jobs=3).mean()\n",
    "    return score\n",
    "\n",
    "bounds = {\n",
    "    'learning_rate': (0.001, 0.1),\n",
    "    'n_estimators':  (50, 200),\n",
    "    'subsample':     (0.5, 1.0),\n",
    "    'max_depth':     (3, 8),\n",
    "}\n",
    "\n",
    "optimizer = BayesianOptimization(\n",
    "    f=model_auc_score,\n",
    "    pbounds=bounds,\n",
    "    random_state=9872,\n",
    ")\n",
    "\n",
    "optimizer.maximize(init_points=10, n_iter=30)"
   ]
  },
  {
   "cell_type": "code",
   "execution_count": 17,
   "metadata": {},
   "outputs": [
    {
     "data": {
      "text/plain": [
       "{'params': {u'learning_rate': 0.07327706465626922,\n",
       "  u'max_depth': 7.4996252276945805,\n",
       "  u'n_estimators': 192.88607838095453,\n",
       "  u'subsample': 0.8587300335514458},\n",
       " 'target': 0.8654007615036979}"
      ]
     },
     "execution_count": 17,
     "metadata": {},
     "output_type": "execute_result"
    }
   ],
   "source": [
    "optimizer.max"
   ]
  },
  {
   "cell_type": "code",
   "execution_count": 18,
   "metadata": {
    "scrolled": true
   },
   "outputs": [
    {
     "name": "stdout",
     "output_type": "stream",
     "text": [
      "Iteration No: 1 started. Evaluating function at random point.\n",
      "Iteration No: 1 ended. Evaluation done at random point.\n",
      "Time taken: 23.3231\n",
      "Function value obtained: -0.8199\n",
      "Current minimum: -0.8199\n",
      "Iteration No: 2 started. Evaluating function at random point.\n",
      "Iteration No: 2 ended. Evaluation done at random point.\n",
      "Time taken: 20.8933\n",
      "Function value obtained: -0.8507\n",
      "Current minimum: -0.8507\n",
      "Iteration No: 3 started. Evaluating function at random point.\n",
      "Iteration No: 3 ended. Evaluation done at random point.\n",
      "Time taken: 99.1970\n",
      "Function value obtained: -0.8453\n",
      "Current minimum: -0.8507\n",
      "Iteration No: 4 started. Evaluating function at random point.\n",
      "Iteration No: 4 ended. Evaluation done at random point.\n",
      "Time taken: 37.6817\n",
      "Function value obtained: -0.8618\n",
      "Current minimum: -0.8618\n",
      "Iteration No: 5 started. Evaluating function at random point.\n",
      "Iteration No: 5 ended. Evaluation done at random point.\n",
      "Time taken: 43.5716\n",
      "Function value obtained: -0.8587\n",
      "Current minimum: -0.8618\n",
      "Iteration No: 6 started. Evaluating function at random point.\n",
      "Iteration No: 6 ended. Evaluation done at random point.\n",
      "Time taken: 37.7041\n",
      "Function value obtained: -0.8332\n",
      "Current minimum: -0.8618\n",
      "Iteration No: 7 started. Evaluating function at random point.\n",
      "Iteration No: 7 ended. Evaluation done at random point.\n",
      "Time taken: 12.9764\n",
      "Function value obtained: -0.8398\n",
      "Current minimum: -0.8618\n",
      "Iteration No: 8 started. Evaluating function at random point.\n",
      "Iteration No: 8 ended. Evaluation done at random point.\n",
      "Time taken: 34.1623\n",
      "Function value obtained: -0.8519\n",
      "Current minimum: -0.8618\n",
      "Iteration No: 9 started. Evaluating function at random point.\n",
      "Iteration No: 9 ended. Evaluation done at random point.\n",
      "Time taken: 23.3535\n",
      "Function value obtained: -0.8408\n",
      "Current minimum: -0.8618\n",
      "Iteration No: 10 started. Evaluating function at random point.\n",
      "Iteration No: 10 ended. Evaluation done at random point.\n",
      "Time taken: 10.6106\n",
      "Function value obtained: -0.8323\n",
      "Current minimum: -0.8618\n",
      "Iteration No: 11 started. Searching for the next optimal point.\n",
      "Iteration No: 11 ended. Search finished for the next optimal point.\n",
      "Time taken: 80.6533\n",
      "Function value obtained: -0.8651\n",
      "Current minimum: -0.8651\n",
      "Iteration No: 12 started. Searching for the next optimal point.\n",
      "Iteration No: 12 ended. Search finished for the next optimal point.\n",
      "Time taken: 36.1853\n",
      "Function value obtained: -0.8560\n",
      "Current minimum: -0.8651\n",
      "Iteration No: 13 started. Searching for the next optimal point.\n",
      "Iteration No: 13 ended. Search finished for the next optimal point.\n",
      "Time taken: 97.6352\n",
      "Function value obtained: -0.8590\n",
      "Current minimum: -0.8651\n",
      "Iteration No: 14 started. Searching for the next optimal point.\n",
      "Iteration No: 14 ended. Search finished for the next optimal point.\n",
      "Time taken: 73.9070\n",
      "Function value obtained: -0.8632\n",
      "Current minimum: -0.8651\n",
      "Iteration No: 15 started. Searching for the next optimal point.\n",
      "Iteration No: 15 ended. Search finished for the next optimal point.\n",
      "Time taken: 19.0909\n",
      "Function value obtained: -0.8525\n",
      "Current minimum: -0.8651\n",
      "Iteration No: 16 started. Searching for the next optimal point.\n",
      "Iteration No: 16 ended. Search finished for the next optimal point.\n",
      "Time taken: 80.6835\n",
      "Function value obtained: -0.8527\n",
      "Current minimum: -0.8651\n",
      "Iteration No: 17 started. Searching for the next optimal point.\n",
      "Iteration No: 17 ended. Search finished for the next optimal point.\n",
      "Time taken: 21.1574\n",
      "Function value obtained: -0.8526\n",
      "Current minimum: -0.8651\n",
      "Iteration No: 18 started. Searching for the next optimal point.\n",
      "Iteration No: 18 ended. Search finished for the next optimal point.\n",
      "Time taken: 92.7013\n",
      "Function value obtained: -0.8680\n",
      "Current minimum: -0.8680\n",
      "Iteration No: 19 started. Searching for the next optimal point.\n",
      "Iteration No: 19 ended. Search finished for the next optimal point.\n",
      "Time taken: 78.0458\n",
      "Function value obtained: -0.8573\n",
      "Current minimum: -0.8680\n",
      "Iteration No: 20 started. Searching for the next optimal point.\n",
      "Iteration No: 20 ended. Search finished for the next optimal point.\n",
      "Time taken: 111.7440\n",
      "Function value obtained: -0.8528\n",
      "Current minimum: -0.8680\n",
      "Iteration No: 21 started. Searching for the next optimal point.\n",
      "Iteration No: 21 ended. Search finished for the next optimal point.\n",
      "Time taken: 52.4664\n",
      "Function value obtained: -0.8619\n",
      "Current minimum: -0.8680\n",
      "Iteration No: 22 started. Searching for the next optimal point.\n",
      "Iteration No: 22 ended. Search finished for the next optimal point.\n",
      "Time taken: 84.6730\n",
      "Function value obtained: -0.8657\n",
      "Current minimum: -0.8680\n",
      "Iteration No: 23 started. Searching for the next optimal point.\n",
      "Iteration No: 23 ended. Search finished for the next optimal point.\n",
      "Time taken: 87.4997\n",
      "Function value obtained: -0.8635\n",
      "Current minimum: -0.8680\n",
      "Iteration No: 24 started. Searching for the next optimal point.\n",
      "Iteration No: 24 ended. Search finished for the next optimal point.\n",
      "Time taken: 70.0521\n",
      "Function value obtained: -0.8657\n",
      "Current minimum: -0.8680\n",
      "Iteration No: 25 started. Searching for the next optimal point.\n",
      "Iteration No: 25 ended. Search finished for the next optimal point.\n",
      "Time taken: 83.5451\n",
      "Function value obtained: -0.8658\n",
      "Current minimum: -0.8680\n",
      "Iteration No: 26 started. Searching for the next optimal point.\n",
      "Iteration No: 26 ended. Search finished for the next optimal point.\n",
      "Time taken: 27.9187\n",
      "Function value obtained: -0.8584\n",
      "Current minimum: -0.8680\n",
      "Iteration No: 27 started. Searching for the next optimal point.\n",
      "Iteration No: 27 ended. Search finished for the next optimal point.\n",
      "Time taken: 19.3713\n",
      "Function value obtained: -0.8536\n",
      "Current minimum: -0.8680\n",
      "Iteration No: 28 started. Searching for the next optimal point.\n",
      "Iteration No: 28 ended. Search finished for the next optimal point.\n",
      "Time taken: 87.9452\n",
      "Function value obtained: -0.8681\n",
      "Current minimum: -0.8681\n",
      "Iteration No: 29 started. Searching for the next optimal point.\n",
      "Iteration No: 29 ended. Search finished for the next optimal point.\n",
      "Time taken: 88.8812\n",
      "Function value obtained: -0.8687\n",
      "Current minimum: -0.8687\n",
      "Iteration No: 30 started. Searching for the next optimal point.\n",
      "Iteration No: 30 ended. Search finished for the next optimal point.\n",
      "Time taken: 88.4315\n",
      "Function value obtained: -0.8680\n",
      "Current minimum: -0.8687\n",
      "CPU times: user 1min 16s, sys: 4min 9s, total: 5min 26s\n",
      "Wall time: 28min 46s\n"
     ]
    }
   ],
   "source": [
    "%%time\n",
    "\n",
    "from skopt import gp_minimize\n",
    "from skopt.utils import use_named_args\n",
    "from skopt.space import Real, Integer, Categorical\n",
    "\n",
    "space = [\n",
    "    Real(0.001, 0.1, prior='log-uniform', name=str('learning_rate')),\n",
    "    Integer(50, 200, name=str('n_estimators')),\n",
    "    Real(0.5, 1.0, prior='uniform', name=str('subsample')),\n",
    "    Integer(3, 8, name=str('max_depth')),\n",
    "]\n",
    "\n",
    "@use_named_args(space)\n",
    "def objective(**params):\n",
    "    clf = ensemble.GradientBoostingClassifier(**params)\n",
    "    score = cross_val_score(clf, X_train, y_train, scoring='roc_auc', cv=3, n_jobs=3).mean()\n",
    "    return -score\n",
    "\n",
    "res = gp_minimize(objective, space, n_random_starts=10, n_calls=30, verbose=1, random_state=9872)"
   ]
  },
  {
   "cell_type": "code",
   "execution_count": 19,
   "metadata": {},
   "outputs": [
    {
     "data": {
      "text/plain": [
       "[0.040075301537003276, 200, 0.7144733192022844, 8]"
      ]
     },
     "execution_count": 19,
     "metadata": {},
     "output_type": "execute_result"
    }
   ],
   "source": [
    "res.x"
   ]
  },
  {
   "cell_type": "code",
   "execution_count": 20,
   "metadata": {},
   "outputs": [
    {
     "data": {
      "text/plain": [
       "-0.8687320509124627"
      ]
     },
     "execution_count": 20,
     "metadata": {},
     "output_type": "execute_result"
    }
   ],
   "source": [
    "res.fun"
   ]
  },
  {
   "cell_type": "code",
   "execution_count": 21,
   "metadata": {},
   "outputs": [
    {
     "data": {
      "image/png": "[encoded data removed]",
      "text/plain": [
       "<Figure size 576x576 with 16 Axes>"
      ]
     },
     "metadata": {
      "needs_background": "light"
     },
     "output_type": "display_data"
    }
   ],
   "source": [
    "from skopt.plots import plot_evaluations\n",
    "\n",
    "_ = plot_evaluations(res, dimensions=[s.name for s in space])"
   ]
  },
  {
   "cell_type": "code",
   "execution_count": 22,
   "metadata": {},
   "outputs": [
    {
     "data": {
      "image/png": "[encoded data removed]",
      "text/plain": [
       "<Figure size 576x576 with 16 Axes>"
      ]
     },
     "metadata": {
      "needs_background": "light"
     },
     "output_type": "display_data"
    }
   ],
   "source": [
    "from skopt.plots import plot_objective\n",
    "\n",
    "_ = plot_objective(res, dimensions=[s.name for s in space])"
   ]
  },
  {
   "cell_type": "markdown",
   "metadata": {},
   "source": [
    "<span style=\"color:red;font-weight:bold\">Недостатки:</span>\n",
    "\n",
    "* проблема холодного старта;\n",
    "* плохо работает в случае категориальных и дискретных параметров;\n",
    "* сильно подвержен проклятию размерности."
   ]
  },
  {
   "cell_type": "markdown",
   "metadata": {},
   "source": [
    "Для <span style=\"color:green;font-weight:bold\">решения</span> проблемы холодного старта неплохо подойдут RandomizedSearch и GridSearch."
   ]
  },
  {
   "cell_type": "markdown",
   "metadata": {},
   "source": [
    "### __3.2__. Деревья"
   ]
  },
  {
   "cell_type": "markdown",
   "metadata": {},
   "source": [
    "Чисто технически ничто не мешает заменить расчет параметров, среднее и матрицу ковариации, гауссовского процесса на что-то другое, например, на деревья.\n",
    "\n",
    "* [`scikit-optimize`](https://scikit-optimize.github.io/)."
   ]
  },
  {
   "cell_type": "code",
   "execution_count": 23,
   "metadata": {},
   "outputs": [],
   "source": [
    "from skopt import forest_minimize, gbrt_minimize"
   ]
  },
  {
   "cell_type": "markdown",
   "metadata": {},
   "source": [
    "**Tree-Structured Parzen Estimators**\n",
    "\n",
    "Идея: перейдем от рассмотрения $ \\mathbf{P}(y|\\theta, D) $ к $ \\mathbf{P}(\\theta|y, D) $.\n",
    "\n",
    "$$ \\mathbf{P}(\\theta|y, D) = \\left\\{\\begin{matrix}\n",
    "l(x); & y < y^*  \\\\ \n",
    "g(x); & y \\geq y^*\n",
    "\\end{matrix}\\right. $$\n",
    "\n",
    "где\n",
    "* $l(x)$ – генеративное распределение, построенное на основе наблюдений $\\{x_i | f(x_i) < y^*\\}$;\n",
    "* $g(x)$ – генеративное распределение, построенное на основе остальных наблюдений;\n",
    "* $y^*$ – выборочный квантиль порядка $\\gamma$.\n",
    "\n",
    "Распределения $l(x)$ и $g(x)$ моделируются с помощью ядерной оценки плотности (KDE или Parzen density estimation).\n",
    "\n",
    "Оказывается, что в этом случае для expected improvement справедливо\n",
    "$$ a_f \\propto \\left(\\gamma + \\frac{g(x)}{l(x)} (1 - \\gamma) \\right)^{-1} $$\n",
    "\n",
    "<span style=\"color:blue;font-weight:bold\">Вопрос:</span> что означает такое выражение для expected improvement?\n",
    "\n",
    "Библиотеки:\n",
    "* [`hyperopt`](http://hyperopt.github.io/hyperopt/);\n",
    "* [`optuna`](https://optuna.org/)."
   ]
  },
  {
   "cell_type": "code",
   "execution_count": 24,
   "metadata": {},
   "outputs": [
    {
     "name": "stdout",
     "output_type": "stream",
     "text": [
      "100%|██████████| 40/40 [27:08<00:00, 40.70s/it, best loss: -0.865981366662]\n",
      "CPU times: user 1.73 s, sys: 1.15 s, total: 2.88 s\n",
      "Wall time: 27min 8s\n"
     ]
    }
   ],
   "source": [
    "%%time\n",
    "\n",
    "from hyperopt import fmin, tpe, hp, Trials\n",
    "\n",
    "space = {\n",
    "    'learning_rate': hp.loguniform('learning_rate', np.log(0.001), np.log(0.1)),\n",
    "    'n_estimators':  hp.uniformint('n_estimators', 50, 200),\n",
    "    'subsample':     hp.uniform('subsample', 0.5, 1.0),\n",
    "    'max_depth':     hp.choice('max_depth', range(3, 9)),\n",
    "}\n",
    "\n",
    "def objective(params):\n",
    "    clf = ensemble.GradientBoostingClassifier(**params)\n",
    "    score = cross_val_score(clf, X_train, y_train, scoring='roc_auc', cv=3, n_jobs=3).mean()\n",
    "    return -score\n",
    "\n",
    "trials = Trials()\n",
    "res = fmin(objective, space, algo=tpe.suggest, max_evals=40, trials=trials,\n",
    "           rstate=np.random.RandomState(9872), verbose=1)"
   ]
  },
  {
   "cell_type": "code",
   "execution_count": 25,
   "metadata": {},
   "outputs": [
    {
     "data": {
      "text/plain": [
       "{u'learning_rate': 0.05832837481015358,\n",
       " u'max_depth': 4,\n",
       " u'n_estimators': 171.0,\n",
       " u'subsample': 0.6332457454311889}"
      ]
     },
     "execution_count": 25,
     "metadata": {},
     "output_type": "execute_result"
    }
   ],
   "source": [
    "res"
   ]
  },
  {
   "cell_type": "code",
   "execution_count": 26,
   "metadata": {},
   "outputs": [
    {
     "data": {
      "image/png": "[encoded data removed]",
      "text/plain": [
       "<Figure size 1296x360 with 4 Axes>"
      ]
     },
     "metadata": {
      "needs_background": "light"
     },
     "output_type": "display_data"
    }
   ],
   "source": [
    "f, axes = plt.subplots(nrows=1, ncols=len(space), figsize=(18, 5))\n",
    "\n",
    "for ax, val in zip(axes, space):\n",
    "    xs = [t['misc']['vals'][val] for t in trials.trials]\n",
    "    ys = [-t['result']['loss'] for t in trials.trials]\n",
    "    xs, ys = zip(*sorted(zip(xs, ys)))\n",
    "    ys = np.array(ys)\n",
    "    ax.scatter(xs, ys, s=20, linewidth=0.01, alpha=0.75)\n",
    "    ax.set_title(val)"
   ]
  },
  {
   "cell_type": "code",
   "execution_count": null,
   "metadata": {},
   "outputs": [],
   "source": []
  }
 ],
 "metadata": {
  "kernelspec": {
   "display_name": "Python 2",
   "language": "python",
   "name": "python2"
  },
  "language_info": {
   "codemirror_mode": {
    "name": "ipython",
    "version": 2
   },
   "file_extension": ".py",
   "mimetype": "text/x-python",
   "name": "python",
   "nbconvert_exporter": "python",
   "pygments_lexer": "ipython2",
   "version": "2.7.16"
  }
 },
 "nbformat": 4,
 "nbformat_minor": 2
}
