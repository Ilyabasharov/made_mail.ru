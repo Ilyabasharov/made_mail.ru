{
 "cells": [
  {
   "cell_type": "markdown",
   "metadata": {},
   "source": [
    "# Методы отбора признаков\n",
    "\n",
    "Датасет: https://www.kaggle.com/c/bioresponse/data"
   ]
  },
  {
   "cell_type": "code",
   "execution_count": 1,
   "metadata": {},
   "outputs": [],
   "source": [
    "from __future__ import print_function"
   ]
  },
  {
   "cell_type": "code",
   "execution_count": 2,
   "metadata": {},
   "outputs": [],
   "source": [
    "from tqdm import tqdm_notebook"
   ]
  },
  {
   "cell_type": "code",
   "execution_count": 3,
   "metadata": {},
   "outputs": [],
   "source": [
    "import numpy as np\n",
    "import pandas as pd\n",
    "\n",
    "import matplotlib.pyplot as plt\n",
    "\n",
    "%matplotlib inline"
   ]
  },
  {
   "cell_type": "code",
   "execution_count": 4,
   "metadata": {},
   "outputs": [
    {
     "data": {
      "text/html": [
       "<div>\n",
       "<style scoped>\n",
       "    .dataframe tbody tr th:only-of-type {\n",
       "        vertical-align: middle;\n",
       "    }\n",
       "\n",
       "    .dataframe tbody tr th {\n",
       "        vertical-align: top;\n",
       "    }\n",
       "\n",
       "    .dataframe thead th {\n",
       "        text-align: right;\n",
       "    }\n",
       "</style>\n",
       "<table border=\"1\" class=\"dataframe\">\n",
       "  <thead>\n",
       "    <tr style=\"text-align: right;\">\n",
       "      <th></th>\n",
       "      <th>Activity</th>\n",
       "      <th>D1</th>\n",
       "      <th>D2</th>\n",
       "      <th>D3</th>\n",
       "      <th>D4</th>\n",
       "      <th>D5</th>\n",
       "      <th>D6</th>\n",
       "      <th>D7</th>\n",
       "      <th>D8</th>\n",
       "      <th>D9</th>\n",
       "      <th>...</th>\n",
       "      <th>D1767</th>\n",
       "      <th>D1768</th>\n",
       "      <th>D1769</th>\n",
       "      <th>D1770</th>\n",
       "      <th>D1771</th>\n",
       "      <th>D1772</th>\n",
       "      <th>D1773</th>\n",
       "      <th>D1774</th>\n",
       "      <th>D1775</th>\n",
       "      <th>D1776</th>\n",
       "    </tr>\n",
       "  </thead>\n",
       "  <tbody>\n",
       "    <tr>\n",
       "      <th>0</th>\n",
       "      <td>1</td>\n",
       "      <td>0.000000</td>\n",
       "      <td>0.497009</td>\n",
       "      <td>0.10</td>\n",
       "      <td>0.0</td>\n",
       "      <td>0.132956</td>\n",
       "      <td>0.678031</td>\n",
       "      <td>0.273166</td>\n",
       "      <td>0.585445</td>\n",
       "      <td>0.743663</td>\n",
       "      <td>...</td>\n",
       "      <td>0</td>\n",
       "      <td>0</td>\n",
       "      <td>0</td>\n",
       "      <td>0</td>\n",
       "      <td>0</td>\n",
       "      <td>0</td>\n",
       "      <td>0</td>\n",
       "      <td>0</td>\n",
       "      <td>0</td>\n",
       "      <td>0</td>\n",
       "    </tr>\n",
       "    <tr>\n",
       "      <th>1</th>\n",
       "      <td>1</td>\n",
       "      <td>0.366667</td>\n",
       "      <td>0.606291</td>\n",
       "      <td>0.05</td>\n",
       "      <td>0.0</td>\n",
       "      <td>0.111209</td>\n",
       "      <td>0.803455</td>\n",
       "      <td>0.106105</td>\n",
       "      <td>0.411754</td>\n",
       "      <td>0.836582</td>\n",
       "      <td>...</td>\n",
       "      <td>1</td>\n",
       "      <td>1</td>\n",
       "      <td>1</td>\n",
       "      <td>1</td>\n",
       "      <td>0</td>\n",
       "      <td>1</td>\n",
       "      <td>0</td>\n",
       "      <td>0</td>\n",
       "      <td>1</td>\n",
       "      <td>0</td>\n",
       "    </tr>\n",
       "    <tr>\n",
       "      <th>2</th>\n",
       "      <td>1</td>\n",
       "      <td>0.033300</td>\n",
       "      <td>0.480124</td>\n",
       "      <td>0.00</td>\n",
       "      <td>0.0</td>\n",
       "      <td>0.209791</td>\n",
       "      <td>0.610350</td>\n",
       "      <td>0.356453</td>\n",
       "      <td>0.517720</td>\n",
       "      <td>0.679051</td>\n",
       "      <td>...</td>\n",
       "      <td>0</td>\n",
       "      <td>0</td>\n",
       "      <td>0</td>\n",
       "      <td>0</td>\n",
       "      <td>0</td>\n",
       "      <td>0</td>\n",
       "      <td>0</td>\n",
       "      <td>0</td>\n",
       "      <td>0</td>\n",
       "      <td>0</td>\n",
       "    </tr>\n",
       "    <tr>\n",
       "      <th>3</th>\n",
       "      <td>1</td>\n",
       "      <td>0.000000</td>\n",
       "      <td>0.538825</td>\n",
       "      <td>0.00</td>\n",
       "      <td>0.5</td>\n",
       "      <td>0.196344</td>\n",
       "      <td>0.724230</td>\n",
       "      <td>0.235606</td>\n",
       "      <td>0.288764</td>\n",
       "      <td>0.805110</td>\n",
       "      <td>...</td>\n",
       "      <td>0</td>\n",
       "      <td>0</td>\n",
       "      <td>0</td>\n",
       "      <td>0</td>\n",
       "      <td>0</td>\n",
       "      <td>0</td>\n",
       "      <td>0</td>\n",
       "      <td>0</td>\n",
       "      <td>0</td>\n",
       "      <td>0</td>\n",
       "    </tr>\n",
       "    <tr>\n",
       "      <th>4</th>\n",
       "      <td>0</td>\n",
       "      <td>0.100000</td>\n",
       "      <td>0.517794</td>\n",
       "      <td>0.00</td>\n",
       "      <td>0.0</td>\n",
       "      <td>0.494734</td>\n",
       "      <td>0.781422</td>\n",
       "      <td>0.154361</td>\n",
       "      <td>0.303809</td>\n",
       "      <td>0.812646</td>\n",
       "      <td>...</td>\n",
       "      <td>0</td>\n",
       "      <td>0</td>\n",
       "      <td>0</td>\n",
       "      <td>0</td>\n",
       "      <td>0</td>\n",
       "      <td>0</td>\n",
       "      <td>0</td>\n",
       "      <td>0</td>\n",
       "      <td>0</td>\n",
       "      <td>0</td>\n",
       "    </tr>\n",
       "  </tbody>\n",
       "</table>\n",
       "<p>5 rows × 1777 columns</p>\n",
       "</div>"
      ],
      "text/plain": [
       "   Activity        D1        D2    D3   D4        D5        D6        D7  \\\n",
       "0         1  0.000000  0.497009  0.10  0.0  0.132956  0.678031  0.273166   \n",
       "1         1  0.366667  0.606291  0.05  0.0  0.111209  0.803455  0.106105   \n",
       "2         1  0.033300  0.480124  0.00  0.0  0.209791  0.610350  0.356453   \n",
       "3         1  0.000000  0.538825  0.00  0.5  0.196344  0.724230  0.235606   \n",
       "4         0  0.100000  0.517794  0.00  0.0  0.494734  0.781422  0.154361   \n",
       "\n",
       "         D8        D9  ...  D1767  D1768  D1769  D1770  D1771  D1772  D1773  \\\n",
       "0  0.585445  0.743663  ...      0      0      0      0      0      0      0   \n",
       "1  0.411754  0.836582  ...      1      1      1      1      0      1      0   \n",
       "2  0.517720  0.679051  ...      0      0      0      0      0      0      0   \n",
       "3  0.288764  0.805110  ...      0      0      0      0      0      0      0   \n",
       "4  0.303809  0.812646  ...      0      0      0      0      0      0      0   \n",
       "\n",
       "   D1774  D1775  D1776  \n",
       "0      0      0      0  \n",
       "1      0      1      0  \n",
       "2      0      0      0  \n",
       "3      0      0      0  \n",
       "4      0      0      0  \n",
       "\n",
       "[5 rows x 1777 columns]"
      ]
     },
     "execution_count": 4,
     "metadata": {},
     "output_type": "execute_result"
    }
   ],
   "source": [
    "df = pd.read_csv('data/train.csv', sep=',')\n",
    "df.head()"
   ]
  },
  {
   "cell_type": "code",
   "execution_count": 5,
   "metadata": {},
   "outputs": [
    {
     "data": {
      "text/plain": [
       "(3751, 1777)"
      ]
     },
     "execution_count": 5,
     "metadata": {},
     "output_type": "execute_result"
    }
   ],
   "source": [
    "df.shape"
   ]
  },
  {
   "cell_type": "code",
   "execution_count": 6,
   "metadata": {},
   "outputs": [],
   "source": [
    "from sklearn.model_selection import train_test_split\n",
    "\n",
    "X_train, X_valid, y_train, y_valid = \\\n",
    "    train_test_split(df.iloc[:, 1:].values, df.iloc[:, 0].values, test_size=0.3, random_state=9876)"
   ]
  },
  {
   "cell_type": "code",
   "execution_count": 7,
   "metadata": {},
   "outputs": [
    {
     "data": {
      "image/png": "[encoded data removed]",
      "text/plain": [
       "<Figure size 432x216 with 1 Axes>"
      ]
     },
     "metadata": {
      "needs_background": "light"
     },
     "output_type": "display_data"
    }
   ],
   "source": [
    "plt.figure(figsize=(6, 3))\n",
    "_ = plt.hist(y_train)"
   ]
  },
  {
   "cell_type": "code",
   "execution_count": 8,
   "metadata": {},
   "outputs": [],
   "source": [
    "from sklearn import linear_model, ensemble\n",
    "from sklearn.metrics import roc_auc_score"
   ]
  },
  {
   "cell_type": "markdown",
   "metadata": {},
   "source": [
    "## __1__. Признаки с низкой дисперсией\n",
    "\n",
    "```python\n",
    "from sklearn.feature_selection import VarianceThreshold\n",
    "```"
   ]
  },
  {
   "cell_type": "code",
   "execution_count": 9,
   "metadata": {},
   "outputs": [
    {
     "data": {
      "text/plain": [
       "array([ 822,  800,  302, ...,  995, 1017, 1158])"
      ]
     },
     "execution_count": 9,
     "metadata": {},
     "output_type": "execute_result"
    }
   ],
   "source": [
    "index = X_train.std(axis=0).argsort()\n",
    "index"
   ]
  },
  {
   "cell_type": "code",
   "execution_count": 10,
   "metadata": {
    "scrolled": false
   },
   "outputs": [
    {
     "data": {
      "application/vnd.jupyter.widget-view+json": {
       "model_id": "5aa8a3f1691f4c88b5d4658d35d1eb33",
       "version_major": 2,
       "version_minor": 0
      },
      "text/plain": [
       "HBox(children=(IntProgress(value=0, max=178), HTML(value=u'')))"
      ]
     },
     "metadata": {},
     "output_type": "display_data"
    },
    {
     "name": "stderr",
     "output_type": "stream",
     "text": [
      "/home/v.bugaevskii/miniconda3/envs/ml-py27/lib/python2.7/site-packages/sklearn/linear_model/logistic.py:433: FutureWarning: Default solver will be changed to 'lbfgs' in 0.22. Specify a solver to silence this warning.\n",
      "  FutureWarning)\n"
     ]
    },
    {
     "name": "stdout",
     "output_type": "stream",
     "text": [
      "features = 1776; score = 0.832565\n",
      "features = 1766; score = 0.832565\n",
      "features = 1756; score = 0.832578\n",
      "features = 1746; score = 0.832578\n",
      "features = 1736; score = 0.832584\n",
      "features = 1726; score = 0.832581\n",
      "features = 1716; score = 0.832568\n",
      "features = 1706; score = 0.832581\n",
      "features = 1696; score = 0.832578\n",
      "features = 1686; score = 0.832594\n",
      "features = 1676; score = 0.832562\n",
      "features = 1666; score = 0.832578\n",
      "features = 1656; score = 0.832571\n",
      "features = 1646; score = 0.832568\n",
      "features = 1636; score = 0.832571\n",
      "\n"
     ]
    }
   ],
   "source": [
    "scores_lm = []\n",
    "\n",
    "for i in tqdm_notebook(range(0, X_train.shape[1], 10)):\n",
    "    clf = linear_model.LogisticRegression(C=0.01)\n",
    "    clf.fit(X_train[:, index[i:]], y_train)\n",
    "    \n",
    "    y_pred = clf.predict_proba(X_valid[:, index[i:]])[:, 1]\n",
    "    scores_lm.append(roc_auc_score(y_valid, y_pred))\n",
    "    \n",
    "    if i < 150:\n",
    "        n_features = index[i:].shape[0]\n",
    "        print(\"features = {:>4d}; score = {:.6f}\".format(n_features, scores_lm[-1]))"
   ]
  },
  {
   "cell_type": "code",
   "execution_count": 11,
   "metadata": {},
   "outputs": [
    {
     "data": {
      "application/vnd.jupyter.widget-view+json": {
       "model_id": "cd0a338ea6de432fad30435df1adf81a",
       "version_major": 2,
       "version_minor": 0
      },
      "text/plain": [
       "HBox(children=(IntProgress(value=0, max=178), HTML(value=u'')))"
      ]
     },
     "metadata": {},
     "output_type": "display_data"
    },
    {
     "name": "stdout",
     "output_type": "stream",
     "text": [
      "features = 1776; score = 0.872727\n",
      "features = 1766; score = 0.870247\n",
      "features = 1756; score = 0.870376\n",
      "features = 1746; score = 0.871716\n",
      "features = 1736; score = 0.870694\n",
      "features = 1726; score = 0.867290\n",
      "features = 1716; score = 0.872748\n",
      "features = 1706; score = 0.873958\n",
      "features = 1696; score = 0.875703\n",
      "features = 1686; score = 0.873460\n",
      "features = 1676; score = 0.875897\n",
      "features = 1666; score = 0.870456\n",
      "features = 1656; score = 0.871288\n",
      "features = 1646; score = 0.871265\n",
      "features = 1636; score = 0.875437\n",
      "\n"
     ]
    }
   ],
   "source": [
    "scores_rf = []\n",
    "\n",
    "for i in tqdm_notebook(range(0, X_train.shape[1], 10)):\n",
    "    clf = ensemble.RandomForestClassifier(n_estimators=100, n_jobs=8)\n",
    "    clf.fit(X_train[:, index[i:]], y_train)\n",
    "    \n",
    "    y_pred = clf.predict_proba(X_valid[:, index[i:]])[:, 1]\n",
    "    scores_rf.append(roc_auc_score(y_valid, y_pred))\n",
    "    \n",
    "    if i < 150:\n",
    "        n_features = index[i:].shape[0]\n",
    "        print(\"features = {:>4d}; score = {:.6f}\".format(n_features, scores_rf[-1]))"
   ]
  },
  {
   "cell_type": "code",
   "execution_count": 12,
   "metadata": {},
   "outputs": [
    {
     "data": {
      "image/png": "[encoded data removed]",
      "text/plain": [
       "<Figure size 1008x432 with 2 Axes>"
      ]
     },
     "metadata": {
      "needs_background": "light"
     },
     "output_type": "display_data"
    }
   ],
   "source": [
    "fig, ax = plt.subplots(1, 2, figsize=(14, 6))\n",
    "\n",
    "ax[0].plot(range(0, X_train.shape[1], 10), scores_lm, c='blue', label='LinearModel')\n",
    "ax[1].plot(range(0, X_train.shape[1], 10), scores_rf, c='orange', label='RandomForest')\n",
    "\n",
    "ax[0].legend()\n",
    "ax[1].legend()\n",
    "\n",
    "plt.show()"
   ]
  },
  {
   "cell_type": "markdown",
   "metadata": {},
   "source": [
    "<span style=\"color:blue;font-weight:bold\">Вопрос:</span> что будет, если применить метод после `StandardScaler`?"
   ]
  },
  {
   "cell_type": "markdown",
   "metadata": {},
   "source": [
    "## __2__. С помощью дисперсионного анализа (ANOVA) и критерия Фишера"
   ]
  },
  {
   "cell_type": "markdown",
   "metadata": {},
   "source": [
    "### T-критерий Стьюдента (для регрессии)\n",
    "\n",
    "$$ X \\theta = y$$\n",
    "\n",
    "$$ X \\in \\mathbf{R}^{N \\times m};~ \\theta \\in \\mathbf{R}^m;~ y \\in \\mathbf{R}^N $$\n",
    "\n",
    "$$ H_0: \\theta_k =    \\theta_{k0} $$\n",
    "$$ H_1: \\theta_k \\neq \\theta_{k0} $$\n",
    "\n",
    "$$ T_k = \\frac{\\hat\\theta_k - \\theta_{k0}}{S_k} \\sim St(N - m - 1)$$\n",
    "\n",
    "$$ P(\\left| T_k \\right| > t(\\alpha)) = \\alpha $$\n",
    "\n",
    "где\n",
    "* $N$ – число примеров в обучающей выборке;\n",
    "* $m$ – размерность признакового пространства;\n",
    "* $S_k$ – [стандартная ошибка](https://ru.wikipedia.org/wiki/%D0%A1%D1%82%D0%B0%D0%BD%D0%B4%D0%B0%D1%80%D1%82%D0%BD%D0%B0%D1%8F_%D0%BE%D1%88%D0%B8%D0%B1%D0%BA%D0%B0) коэффициента $\\theta_k$.\n",
    "\n",
    "Нас интересует случай $\\theta_{k0} = 0$. "
   ]
  },
  {
   "cell_type": "markdown",
   "metadata": {},
   "source": [
    "### F-критерий Фишера (для регрессии)\n",
    "\n",
    "$$ X \\theta = y$$\n",
    "\n",
    "$$ X \\in \\mathbf{R}^{N \\times m};~ \\theta \\in \\mathbf{R}^m;~ y \\in \\mathbf{R}^N $$\n",
    "\n",
    "$$ H_0: A \\theta = a $$\n",
    "$$ H_1: A \\theta \\neq a $$\n",
    "\n",
    "где\n",
    "* $A \\in \\mathbf{R} ^ {p \\times (m + 1)}$ – неслучайная матрица;\n",
    "* $a \\in \\mathbf{R} ^ p$ – неслучайный вектор.\n",
    "\n",
    "Представим\n",
    "$$ y = \\hat y_{UR} + e_{UR} $$\n",
    "$$ y = \\hat y_{R} + e_{R} $$\n",
    "и обозначим $ESS_{UR} = \\left| e_{UR} \\right|^2$ и $ESS_{R} = \\left| e_{R} \\right|^2$.\n",
    "\n",
    "$$ F = \\frac{(ESS_{R} - ESS_{UR})/p}{ESS_{UR} / (N - m + 1)} \\sim F(p, N - m - 1)$$\n",
    "\n",
    "$$ P(F_k > f(\\alpha)) = \\alpha $$\n",
    "\n",
    "Нас интерсует следующий вариант ограничений: $\\theta_{k_1} = \\theta_{k_2} = ... = \\theta_{k_p} = 0$."
   ]
  },
  {
   "cell_type": "markdown",
   "metadata": {},
   "source": [
    "<span style=\"color:blue;font-weight:bold\">Вопросы:</span>\n",
    "1. В чем принципиальное отличие критерия Стьюдента от критерия Фишера?\n",
    "2. Как можно применять критерий Стьюдента для поиска (не)значимых признаков?"
   ]
  },
  {
   "cell_type": "markdown",
   "metadata": {},
   "source": [
    "```python\n",
    "from sklearn.feature_selection import SelectKBest        # выбор по количеству переменных\n",
    "from sklearn.feature_selection import SelectPercentile   # выбор по персентилю\n",
    "\n",
    "from sklearn.feature_selection import chi2           # для категориальных переменных (классификация)\n",
    "from sklearn.feature_selection import f_classif      # для непререрывных переменных (классификация)\n",
    "from sklearn.feature_selection import f_regression   # для непререрывных переменных (регрессия)\n",
    "```"
   ]
  },
  {
   "cell_type": "code",
   "execution_count": 13,
   "metadata": {},
   "outputs": [],
   "source": [
    "from sklearn.feature_selection import f_classif"
   ]
  },
  {
   "cell_type": "code",
   "execution_count": 14,
   "metadata": {},
   "outputs": [
    {
     "name": "stderr",
     "output_type": "stream",
     "text": [
      "/home/v.bugaevskii/miniconda3/envs/ml-py27/lib/python2.7/site-packages/sklearn/feature_selection/univariate_selection.py:114: UserWarning: Features [822] are constant.\n",
      "  UserWarning)\n",
      "/home/v.bugaevskii/miniconda3/envs/ml-py27/lib/python2.7/site-packages/sklearn/feature_selection/univariate_selection.py:115: RuntimeWarning: invalid value encountered in divide\n",
      "  f = msb / msw\n"
     ]
    }
   ],
   "source": [
    "_, p_values = f_classif(X_train, y_train)\n",
    "p_values[np.isnan(p_values)] = 1\n",
    "index = p_values.argsort()[::-1]"
   ]
  },
  {
   "cell_type": "code",
   "execution_count": 15,
   "metadata": {},
   "outputs": [
    {
     "data": {
      "application/vnd.jupyter.widget-view+json": {
       "model_id": "75e238a132d24f0a8c5c5a633766f7fe",
       "version_major": 2,
       "version_minor": 0
      },
      "text/plain": [
       "HBox(children=(IntProgress(value=0, max=178), HTML(value=u'')))"
      ]
     },
     "metadata": {},
     "output_type": "display_data"
    },
    {
     "name": "stdout",
     "output_type": "stream",
     "text": [
      "features = 1776; score = 0.832565\n",
      "features = 1766; score = 0.832631\n",
      "features = 1756; score = 0.832420\n",
      "features = 1746; score = 0.832388\n",
      "features = 1736; score = 0.832344\n",
      "features = 1726; score = 0.832404\n",
      "features = 1716; score = 0.832264\n",
      "features = 1706; score = 0.832619\n",
      "features = 1696; score = 0.832815\n",
      "features = 1686; score = 0.833558\n",
      "features = 1676; score = 0.833821\n",
      "features = 1666; score = 0.833774\n",
      "features = 1656; score = 0.833514\n",
      "features = 1646; score = 0.833410\n",
      "features = 1636; score = 0.833596\n",
      "\n"
     ]
    }
   ],
   "source": [
    "scores_lm = []\n",
    "\n",
    "for i in tqdm_notebook(range(0, X_train.shape[1], 10)):\n",
    "    clf = linear_model.LogisticRegression(C=0.01)\n",
    "    clf.fit(X_train[:, index[i:]], y_train)\n",
    "    \n",
    "    y_pred = clf.predict_proba(X_valid[:, index[i:]])[:, 1]\n",
    "    scores_lm.append(roc_auc_score(y_valid, y_pred))\n",
    "    \n",
    "    if i < 150:\n",
    "        n_features = index[i:].shape[0]\n",
    "        print(\"features = {:>4d}; score = {:.6f}\".format(n_features, scores_lm[-1]))"
   ]
  },
  {
   "cell_type": "code",
   "execution_count": 16,
   "metadata": {},
   "outputs": [
    {
     "data": {
      "image/png": "[encoded data removed]",
      "text/plain": [
       "<Figure size 504x432 with 1 Axes>"
      ]
     },
     "metadata": {
      "needs_background": "light"
     },
     "output_type": "display_data"
    }
   ],
   "source": [
    "fig, ax = plt.subplots(1, 1, figsize=(7, 6))\n",
    "\n",
    "ax.plot(range(0, X_train.shape[1], 10), scores_lm, c='blue', label='LinearModel')\n",
    "ax.legend()\n",
    "\n",
    "plt.show()"
   ]
  },
  {
   "cell_type": "code",
   "execution_count": 17,
   "metadata": {},
   "outputs": [
    {
     "data": {
      "text/plain": [
       "0.8349252853016271"
      ]
     },
     "execution_count": 17,
     "metadata": {},
     "output_type": "execute_result"
    }
   ],
   "source": [
    "from sklearn.feature_selection import SelectKBest\n",
    "\n",
    "selector = SelectKBest(f_classif, k=X_train.shape[1] - np.argmax(scores_lm) * 10)\n",
    "    \n",
    "X_train_sel = selector.fit_transform(X_train, y_train)\n",
    "X_valid_sel = selector.transform(X_valid)\n",
    "\n",
    "clf = linear_model.LogisticRegression(C=0.01)\n",
    "clf.fit(X_train_sel, y_train)\n",
    "    \n",
    "y_pred = clf.predict_proba(X_valid_sel)[:, 1]\n",
    "roc_auc_score(y_valid, y_pred)"
   ]
  },
  {
   "cell_type": "markdown",
   "metadata": {},
   "source": [
    "```python\n",
    "from sklearn.feature_selection import mutual_info_classif\n",
    "```\n",
    "\n",
    "В отличие от тестов выше данный вариант способен улавливать НЕлинейные связи. "
   ]
  },
  {
   "cell_type": "markdown",
   "metadata": {},
   "source": [
    "## __3__. На основе \"важности\" признаков\n",
    "\n",
    "```python\n",
    "from sklearn.feature_selection import SelectFromModel\n",
    "```"
   ]
  },
  {
   "cell_type": "markdown",
   "metadata": {},
   "source": [
    "### __3.1__. Lasso-регрессия (регрессия с l1-регуляризацией)"
   ]
  },
  {
   "cell_type": "markdown",
   "metadata": {},
   "source": [
    "<span style=\"color:blue;font-weight:bold\">Вопрос:</span> чем хороша l1-регуляризация?"
   ]
  },
  {
   "cell_type": "code",
   "execution_count": 40,
   "metadata": {},
   "outputs": [
    {
     "data": {
      "text/plain": [
       "array([[0., 0., 0., ..., 0., 0., 0.]])"
      ]
     },
     "execution_count": 40,
     "metadata": {},
     "output_type": "execute_result"
    }
   ],
   "source": [
    "clf = linear_model.LogisticRegression(C=1, penalty='l1')\n",
    "clf.fit(X_train, y_train)\n",
    "clf.coef_"
   ]
  },
  {
   "cell_type": "code",
   "execution_count": 41,
   "metadata": {},
   "outputs": [
    {
     "data": {
      "text/plain": [
       "472"
      ]
     },
     "execution_count": 41,
     "metadata": {},
     "output_type": "execute_result"
    }
   ],
   "source": [
    "(np.abs(clf.coef_) > 0).sum()"
   ]
  },
  {
   "cell_type": "markdown",
   "metadata": {},
   "source": [
    "https://scikit-learn.org/stable/auto_examples/linear_model/plot_logistic_path.html"
   ]
  },
  {
   "cell_type": "code",
   "execution_count": 42,
   "metadata": {},
   "outputs": [],
   "source": [
    "from sklearn.svm import l1_min_c\n",
    "\n",
    "c_grid = l1_min_c(X_train, y_train, loss='log') * np.logspace(0, 3, 100)"
   ]
  },
  {
   "cell_type": "code",
   "execution_count": 43,
   "metadata": {},
   "outputs": [
    {
     "data": {
      "application/vnd.jupyter.widget-view+json": {
       "model_id": "eeff2d3bec6f4391be9ff598ef3570a9",
       "version_major": 2,
       "version_minor": 0
      },
      "text/plain": [
       "HBox(children=(IntProgress(value=0), HTML(value=u'')))"
      ]
     },
     "metadata": {},
     "output_type": "display_data"
    },
    {
     "name": "stderr",
     "output_type": "stream",
     "text": [
      "/home/v.bugaevskii/miniconda3/envs/ml-py27/lib/python2.7/site-packages/sklearn/svm/base.py:931: ConvergenceWarning: Liblinear failed to converge, increase the number of iterations.\n",
      "  \"the number of iterations.\", ConvergenceWarning)\n"
     ]
    },
    {
     "name": "stdout",
     "output_type": "stream",
     "text": [
      "\n"
     ]
    }
   ],
   "source": [
    "scores_lm, features_lm = [], []\n",
    "\n",
    "for c in tqdm_notebook(c_grid):\n",
    "    clf = linear_model.LogisticRegression(C=c, penalty='l1')\n",
    "    clf.fit(X_train, y_train)\n",
    "    \n",
    "    y_pred = clf.predict_proba(X_valid)[:, 1]\n",
    "    scores_lm.append(roc_auc_score(y_valid, y_pred))\n",
    "    \n",
    "    n_features = (np.abs(clf.coef_) > 0).sum()\n",
    "    features_lm.append(n_features)"
   ]
  },
  {
   "cell_type": "code",
   "execution_count": 50,
   "metadata": {},
   "outputs": [
    {
     "data": {
      "image/png": "[encoded data removed]",
      "text/plain": [
       "<Figure size 1008x432 with 2 Axes>"
      ]
     },
     "metadata": {
      "needs_background": "light"
     },
     "output_type": "display_data"
    }
   ],
   "source": [
    "fig, ax = plt.subplots(1, 2, figsize=(14, 6))\n",
    "\n",
    "ax[0].plot(c_grid, features_lm, c='blue', label='n_features (left)')\n",
    "# ax[0].plot(c_grid, X_train.shape[0] - np.asarray(features_lm), c='green', label='n_features (removed)')\n",
    "ax[0].legend()\n",
    "# ax[0].set_xscale('log')\n",
    "\n",
    "ax[1].plot(c_grid, scores_lm, c='orange', label='roc_auc')\n",
    "ax[1].legend()\n",
    "# ax[1].set_xscale('log')\n",
    "\n",
    "plt.show()"
   ]
  },
  {
   "cell_type": "markdown",
   "metadata": {},
   "source": [
    "### __3.2__. Random Forest"
   ]
  },
  {
   "cell_type": "code",
   "execution_count": 69,
   "metadata": {},
   "outputs": [
    {
     "data": {
      "text/plain": [
       "array([2.04926847e-03, 6.97207075e-03, 2.22589728e-03, ...,\n",
       "       2.05919749e-05, 2.53175988e-05, 9.40062290e-06])"
      ]
     },
     "execution_count": 69,
     "metadata": {},
     "output_type": "execute_result"
    }
   ],
   "source": [
    "clf = ensemble.RandomForestClassifier(n_estimators=300, random_state=9872)\n",
    "clf.fit(X_train, y_train)\n",
    "clf.feature_importances_"
   ]
  },
  {
   "cell_type": "code",
   "execution_count": 70,
   "metadata": {},
   "outputs": [],
   "source": [
    "index = clf.feature_importances_.argsort()"
   ]
  },
  {
   "cell_type": "code",
   "execution_count": 71,
   "metadata": {},
   "outputs": [
    {
     "data": {
      "application/vnd.jupyter.widget-view+json": {
       "model_id": "8b07ea5a2e8b48949e03c888b2a7e95f",
       "version_major": 2,
       "version_minor": 0
      },
      "text/plain": [
       "HBox(children=(IntProgress(value=0, max=178), HTML(value=u'')))"
      ]
     },
     "metadata": {},
     "output_type": "display_data"
    },
    {
     "name": "stdout",
     "output_type": "stream",
     "text": [
      "features = 1776; score = 0.836694\n",
      "features = 1766; score = 0.836789\n",
      "features = 1756; score = 0.836615\n",
      "features = 1746; score = 0.836517\n",
      "features = 1736; score = 0.836570\n",
      "features = 1726; score = 0.836684\n",
      "features = 1716; score = 0.836669\n",
      "features = 1706; score = 0.836795\n",
      "features = 1696; score = 0.836877\n",
      "features = 1686; score = 0.836843\n",
      "features = 1676; score = 0.836843\n",
      "features = 1666; score = 0.836855\n",
      "features = 1656; score = 0.836912\n",
      "features = 1646; score = 0.836900\n",
      "features = 1636; score = 0.836928\n",
      "\n"
     ]
    }
   ],
   "source": [
    "scores_lm = []\n",
    "\n",
    "for i in tqdm_notebook(range(0, X_train.shape[1], 10)):\n",
    "    clf = linear_model.LogisticRegression(C=0.1)\n",
    "    clf.fit(X_train[:, index[i:]], y_train)\n",
    "    \n",
    "    y_pred = clf.predict_proba(X_valid[:, index[i:]])[:, 1]\n",
    "    scores_lm.append(roc_auc_score(y_valid, y_pred))\n",
    "    \n",
    "    if i < 150:\n",
    "        n_features = index[i:].shape[0]\n",
    "        print(\"features = {:>4d}; score = {:.6f}\".format(n_features, scores_lm[-1]))"
   ]
  },
  {
   "cell_type": "code",
   "execution_count": 72,
   "metadata": {},
   "outputs": [
    {
     "data": {
      "application/vnd.jupyter.widget-view+json": {
       "model_id": "8026670c91274ff184b04b613e887570",
       "version_major": 2,
       "version_minor": 0
      },
      "text/plain": [
       "HBox(children=(IntProgress(value=0, max=178), HTML(value=u'')))"
      ]
     },
     "metadata": {},
     "output_type": "display_data"
    },
    {
     "name": "stdout",
     "output_type": "stream",
     "text": [
      "features = 1776; score = 0.869590\n",
      "features = 1766; score = 0.872969\n",
      "features = 1756; score = 0.869820\n",
      "features = 1746; score = 0.870951\n",
      "features = 1736; score = 0.875141\n",
      "features = 1726; score = 0.871509\n",
      "features = 1716; score = 0.876630\n",
      "features = 1706; score = 0.869250\n",
      "features = 1696; score = 0.871352\n",
      "features = 1686; score = 0.872411\n",
      "features = 1676; score = 0.874893\n",
      "features = 1666; score = 0.868413\n",
      "features = 1656; score = 0.867580\n",
      "features = 1646; score = 0.872425\n",
      "features = 1636; score = 0.869038\n",
      "\n"
     ]
    }
   ],
   "source": [
    "scores_rf = []\n",
    "\n",
    "for i in tqdm_notebook(range(0, X_train.shape[1], 10)):\n",
    "    clf = ensemble.RandomForestClassifier(n_estimators=100, n_jobs=8)\n",
    "    clf.fit(X_train[:, index[i:]], y_train)\n",
    "    \n",
    "    y_pred = clf.predict_proba(X_valid[:, index[i:]])[:, 1]\n",
    "    scores_rf.append(roc_auc_score(y_valid, y_pred))\n",
    "    \n",
    "    if i < 150:\n",
    "        n_features = index[i:].shape[0]\n",
    "        print(\"features = {:>4d}; score = {:.6f}\".format(n_features, scores_rf[-1]))"
   ]
  },
  {
   "cell_type": "code",
   "execution_count": 73,
   "metadata": {},
   "outputs": [
    {
     "data": {
      "image/png": "[encoded data removed]",
      "text/plain": [
       "<Figure size 1008x432 with 2 Axes>"
      ]
     },
     "metadata": {
      "needs_background": "light"
     },
     "output_type": "display_data"
    }
   ],
   "source": [
    "fig, ax = plt.subplots(1, 2, figsize=(14, 6))\n",
    "\n",
    "ax[0].plot(range(0, X_train.shape[1], 10), scores_lm, c='blue', label='LinearModel')\n",
    "ax[1].plot(range(0, X_train.shape[1], 10), scores_rf, c='orange', label='RandomForest')\n",
    "\n",
    "ax[0].legend()\n",
    "ax[1].legend()\n",
    "\n",
    "plt.show()"
   ]
  },
  {
   "cell_type": "markdown",
   "metadata": {},
   "source": [
    "## __4__. Методы понижения размерности\n",
    "\n",
    "* `SVD`-разложение;\n",
    "* усеченное `SVD`-разложение (`TruncatedSVD`);\n",
    "* `PCA` – метод главных компонент."
   ]
  },
  {
   "cell_type": "markdown",
   "metadata": {},
   "source": [
    "Визуализация PCA: http://setosa.io/ev/principal-component-analysis/"
   ]
  },
  {
   "cell_type": "markdown",
   "metadata": {},
   "source": [
    "<span style=\"color:red;font-weight:bold\">Важно:</span> PCA улавливает только линейную связь!"
   ]
  },
  {
   "cell_type": "code",
   "execution_count": 65,
   "metadata": {},
   "outputs": [],
   "source": [
    "from sklearn.decomposition import PCA\n",
    "\n",
    "pca = PCA(n_components=200)\n",
    "X_train_embedded = pca.fit_transform(X_train, y_train)\n",
    "X_valid_embedded = pca.transform(X_valid)"
   ]
  },
  {
   "cell_type": "code",
   "execution_count": 66,
   "metadata": {},
   "outputs": [
    {
     "data": {
      "text/plain": [
       "0.8773139814392397"
      ]
     },
     "execution_count": 66,
     "metadata": {},
     "output_type": "execute_result"
    }
   ],
   "source": [
    "pca.explained_variance_ratio_.sum()"
   ]
  },
  {
   "cell_type": "code",
   "execution_count": 67,
   "metadata": {},
   "outputs": [
    {
     "data": {
      "text/plain": [
       "0.8293980111937582"
      ]
     },
     "execution_count": 67,
     "metadata": {},
     "output_type": "execute_result"
    }
   ],
   "source": [
    "clf = linear_model.LogisticRegression(C=0.1)\n",
    "clf.fit(X_train_embedded, y_train)\n",
    "\n",
    "y_pred = clf.predict_proba(X_valid_embedded)[:, 1]\n",
    "roc_auc_score(y_valid, y_pred)"
   ]
  },
  {
   "cell_type": "code",
   "execution_count": 68,
   "metadata": {},
   "outputs": [
    {
     "data": {
      "text/plain": [
       "0.8264524518380479"
      ]
     },
     "execution_count": 68,
     "metadata": {},
     "output_type": "execute_result"
    }
   ],
   "source": [
    "clf = ensemble.RandomForestClassifier(n_estimators=100)\n",
    "clf.fit(X_train_embedded, y_train)\n",
    "\n",
    "y_pred = clf.predict_proba(X_valid_embedded)[:, 1]\n",
    "roc_auc_score(y_valid, y_pred)"
   ]
  },
  {
   "cell_type": "markdown",
   "metadata": {},
   "source": [
    "## __5__. Рекурсивный отбор признаков\n",
    "\n",
    "* метод прямого отбора признаков;\n",
    "* метод обратного отбора признаков.\n",
    "\n",
    "```python\n",
    "from mlxtend.feature_selection import SequentialFeatureSelector\n",
    "from sklearn.feature_selection import RFE, RFECV\n",
    "```\n"
   ]
  },
  {
   "cell_type": "code",
   "execution_count": 31,
   "metadata": {
    "scrolled": true
   },
   "outputs": [
    {
     "name": "stderr",
     "output_type": "stream",
     "text": [
      "/home/v.bugaevskii/miniconda3/envs/ml-py27/lib/python2.7/site-packages/sklearn/model_selection/_split.py:2052: FutureWarning: You should specify a value for 'cv' instead of relying on the default value. The default value will change from 3 to 5 in version 0.22.\n",
      "  warnings.warn(CV_WARNING, FutureWarning)\n"
     ]
    },
    {
     "name": "stdout",
     "output_type": "stream",
     "text": [
      "CPU times: user 11min 32s, sys: 41.1 s, total: 12min 13s\n",
      "Wall time: 7min 15s\n"
     ]
    }
   ],
   "source": [
    "%%time\n",
    "\n",
    "from sklearn.feature_selection import RFECV\n",
    "\n",
    "clf = ensemble.RandomForestClassifier(n_estimators=100, n_jobs=8)\n",
    "\n",
    "rfecv = RFECV(estimator=clf, step=10, scoring=\"roc_auc\", verbose=0)\n",
    "rfecv.fit(X_train, y_train)\n",
    "\n",
    "X_train_chosen = rfecv.transform(X_train)\n",
    "X_valid_chosen = rfecv.transform(X_valid)"
   ]
  },
  {
   "cell_type": "code",
   "execution_count": 32,
   "metadata": {},
   "outputs": [
    {
     "data": {
      "text/plain": [
       "856"
      ]
     },
     "execution_count": 32,
     "metadata": {},
     "output_type": "execute_result"
    }
   ],
   "source": [
    "rfecv.n_features_"
   ]
  },
  {
   "cell_type": "code",
   "execution_count": 33,
   "metadata": {},
   "outputs": [
    {
     "data": {
      "text/plain": [
       "array([ True,  True,  True, ..., False, False, False])"
      ]
     },
     "execution_count": 33,
     "metadata": {},
     "output_type": "execute_result"
    }
   ],
   "source": [
    "rfecv.support_"
   ]
  },
  {
   "cell_type": "code",
   "execution_count": 34,
   "metadata": {},
   "outputs": [
    {
     "data": {
      "image/png": "[encoded data removed]",
      "text/plain": [
       "<Figure size 504x288 with 1 Axes>"
      ]
     },
     "metadata": {
      "needs_background": "light"
     },
     "output_type": "display_data"
    }
   ],
   "source": [
    "plt.figure(figsize=(7, 4))\n",
    "plt.xlabel(\"Number of features selected\")\n",
    "plt.ylabel(\"Cross validation score (nb of correct classifications)\")\n",
    "plt.plot(range(1, len(rfecv.grid_scores_) + 1), rfecv.grid_scores_)\n",
    "plt.show()"
   ]
  },
  {
   "cell_type": "code",
   "execution_count": 35,
   "metadata": {},
   "outputs": [
    {
     "data": {
      "text/plain": [
       "0.8716799179925903"
      ]
     },
     "execution_count": 35,
     "metadata": {},
     "output_type": "execute_result"
    }
   ],
   "source": [
    "clf = ensemble.RandomForestClassifier(n_estimators=100, n_jobs=8)\n",
    "clf.fit(X_train_chosen, y_train)\n",
    "\n",
    "y_pred = clf.predict_proba(X_valid_chosen)[:, 1]\n",
    "roc_auc_score(y_valid, y_pred)"
   ]
  },
  {
   "cell_type": "code",
   "execution_count": 36,
   "metadata": {},
   "outputs": [
    {
     "data": {
      "text/plain": [
       "0.8738091998898975"
      ]
     },
     "execution_count": 36,
     "metadata": {},
     "output_type": "execute_result"
    }
   ],
   "source": [
    "clf = ensemble.RandomForestClassifier(n_estimators=100, n_jobs=8)\n",
    "clf.fit(X_train, y_train)\n",
    "\n",
    "y_pred = clf.predict_proba(X_valid)[:, 1]\n",
    "roc_auc_score(y_valid, y_pred)"
   ]
  },
  {
   "cell_type": "code",
   "execution_count": null,
   "metadata": {},
   "outputs": [],
   "source": []
  }
 ],
 "metadata": {
  "kernelspec": {
   "display_name": "Python 2",
   "language": "python",
   "name": "python2"
  },
  "language_info": {
   "codemirror_mode": {
    "name": "ipython",
    "version": 2
   },
   "file_extension": ".py",
   "mimetype": "text/x-python",
   "name": "python",
   "nbconvert_exporter": "python",
   "pygments_lexer": "ipython2",
   "version": "2.7.16"
  }
 },
 "nbformat": 4,
 "nbformat_minor": 2
}
