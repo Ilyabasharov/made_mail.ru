{
 "cells": [
  {
   "cell_type": "markdown",
   "metadata": {},
   "source": [
    "# Пример: кластеризация текстов простыми методами"
   ]
  },
  {
   "cell_type": "code",
   "execution_count": 149,
   "metadata": {},
   "outputs": [],
   "source": [
    "import itertools\n",
    "\n",
    "import numpy as np\n",
    "import pandas as pd\n",
    "from sklearn.metrics import accuracy_score\n",
    "from sklearn.model_selection import cross_val_score\n",
    "\n",
    "from matplotlib import pyplot as plt\n",
    "from matplotlib.colors import ListedColormap\n",
    "\n",
    "from IPython.display import Image, SVG\n",
    "\n",
    "%matplotlib inline"
   ]
  },
  {
   "cell_type": "markdown",
   "metadata": {},
   "source": [
    "## Датасет"
   ]
  },
  {
   "cell_type": "code",
   "execution_count": 150,
   "metadata": {},
   "outputs": [],
   "source": [
    "from sklearn.datasets import fetch_20newsgroups"
   ]
  },
  {
   "cell_type": "code",
   "execution_count": 151,
   "metadata": {},
   "outputs": [
    {
     "name": "stdout",
     "output_type": "stream",
     "text": [
      "['alt.atheism', 'comp.graphics', 'comp.os.ms-windows.misc', 'comp.sys.ibm.pc.hardware', 'comp.sys.mac.hardware', 'comp.windows.x', 'misc.forsale', 'rec.autos', 'rec.motorcycles', 'rec.sport.baseball', 'rec.sport.hockey', 'sci.crypt', 'sci.electronics', 'sci.med', 'sci.space', 'soc.religion.christian', 'talk.politics.guns', 'talk.politics.mideast', 'talk.politics.misc', 'talk.religion.misc']\n"
     ]
    }
   ],
   "source": [
    "train_all = fetch_20newsgroups(subset='train')\n",
    "print (train_all.target_names)"
   ]
  },
  {
   "cell_type": "code",
   "execution_count": 152,
   "metadata": {},
   "outputs": [],
   "source": [
    "simple_dataset = fetch_20newsgroups(\n",
    "    subset='train', \n",
    "    categories=['comp.sys.mac.hardware', 'soc.religion.christian', 'rec.sport.hockey'])"
   ]
  },
  {
   "cell_type": "markdown",
   "metadata": {},
   "source": [
    "Пример текста"
   ]
  },
  {
   "cell_type": "code",
   "execution_count": 153,
   "metadata": {},
   "outputs": [
    {
     "name": "stdout",
     "output_type": "stream",
     "text": [
      "From: erik@cheshire.oxy.edu (Erik Adams)\n",
      "Subject: HELP!!  My Macintosh \"luggable\" has lines on its screen!\n",
      "Organization: Occidental College, Los Angeles, CA 90041 USA.\n",
      "Distribution: comp\n",
      "Lines: 20\n",
      "\n",
      "Okay, I don't use it very much, but I would like for it to keep working\n",
      "correctly, at least as long as Apple continues to make System software\n",
      "that will run on it, if slowly :-)\n",
      "\n",
      "Here is the problem:  When the screen is tilted too far back, vertical\n",
      "lines appear on the screen.  They are every 10 pixels or so, and seem\n",
      "to be affected somewhat by opening windows and pulling down menus.\n",
      "It looks to a semi-technical person like there is a loose connection\n",
      "between the screen and the rest of the computer.\n",
      "\n",
      "I am open to suggestions that do not involve buying a new computer,\n",
      "or taking this one to the shop.  I would also like to not have\n",
      "to buy one of Larry Pina's books.  I like Larry, but I'm not sure\n",
      "I feel strongly enough about the computer to buy a service manual\n",
      "for it.\n",
      "\n",
      "On a related note:  what does the monitor connector connect to?\n",
      "\n",
      "Erik\n",
      "\n",
      "\n"
     ]
    }
   ],
   "source": [
    "print(simple_dataset.data[0])"
   ]
  },
  {
   "cell_type": "markdown",
   "metadata": {},
   "source": [
    "### Признаки"
   ]
  },
  {
   "cell_type": "code",
   "execution_count": 154,
   "metadata": {},
   "outputs": [
    {
     "data": {
      "text/plain": [
       "(1777, 3767)"
      ]
     },
     "execution_count": 154,
     "metadata": {},
     "output_type": "execute_result"
    }
   ],
   "source": [
    "from sklearn.feature_extraction.text import CountVectorizer, TfidfVectorizer\n",
    "\n",
    "vectorizer = TfidfVectorizer(max_df=500, min_df=10)\n",
    "matrix = vectorizer.fit_transform(simple_dataset.data)\n",
    "matrix.shape"
   ]
  },
  {
   "cell_type": "markdown",
   "metadata": {},
   "source": [
    "## Аггломеративная кластеризация"
   ]
  },
  {
   "cell_type": "code",
   "execution_count": 155,
   "metadata": {},
   "outputs": [],
   "source": [
    "from sklearn.cluster.hierarchical import AgglomerativeClustering\n",
    "\n",
    "model = AgglomerativeClustering(n_clusters=3, affinity='cosine', linkage='complete')\n",
    "preds = model.fit_predict(matrix.toarray())"
   ]
  },
  {
   "cell_type": "code",
   "execution_count": 156,
   "metadata": {
    "scrolled": true
   },
   "outputs": [
    {
     "name": "stdout",
     "output_type": "stream",
     "text": [
      "[0, 0, 0, 0, 0, 0, 0, 0, 0, 0]\n"
     ]
    }
   ],
   "source": [
    "print(list(preds) [:10])"
   ]
  },
  {
   "cell_type": "code",
   "execution_count": 157,
   "metadata": {},
   "outputs": [
    {
     "data": {
      "text/plain": [
       "array([0, 0, 1, ..., 0, 1, 2])"
      ]
     },
     "execution_count": 157,
     "metadata": {},
     "output_type": "execute_result"
    }
   ],
   "source": [
    "simple_dataset.target"
   ]
  },
  {
   "cell_type": "code",
   "execution_count": 158,
   "metadata": {},
   "outputs": [
    {
     "data": {
      "text/plain": [
       "array([0, 0, 0, ..., 0, 2, 1])"
      ]
     },
     "execution_count": 158,
     "metadata": {},
     "output_type": "execute_result"
    }
   ],
   "source": [
    "preds"
   ]
  },
  {
   "cell_type": "code",
   "execution_count": 159,
   "metadata": {},
   "outputs": [
    {
     "name": "stdout",
     "output_type": "stream",
     "text": [
      "0.3590320765334834\n"
     ]
    }
   ],
   "source": [
    "# Assessement\n",
    "mapping = {2 : 1, 1: 2, 0: 0}\n",
    "mapped_preds = [mapping[pred] for pred in preds]\n",
    "# print (float(sum(mapped_preds != simple_dataset.target)) / len(simple_dataset.target))\n",
    "print(accuracy_score(mapped_preds, simple_dataset.target))"
   ]
  },
  {
   "cell_type": "code",
   "execution_count": 160,
   "metadata": {},
   "outputs": [],
   "source": [
    "def validate_with_mappings(preds, target):\n",
    "    permutations = itertools.permutations([0, 1, 2])\n",
    "    accuracy_history = []\n",
    "    for a, b, c in permutations:\n",
    "        mapping = {2 : a, 1: b, 0: c}\n",
    "        mapped_preds = [mapping[pred] for pred in preds]\n",
    "        accuracy_history.append(accuracy_score(mapped_preds, target))\n",
    "    return np.max(accuracy_history)\n",
    "    \n",
    "#validate_with_mappings(preds, simple_dataset.target)"
   ]
  },
  {
   "cell_type": "markdown",
   "metadata": {},
   "source": [
    "## KMeans"
   ]
  },
  {
   "cell_type": "code",
   "execution_count": 161,
   "metadata": {},
   "outputs": [
    {
     "name": "stdout",
     "output_type": "stream",
     "text": [
      "[0 0 2 ... 0 2 1]\n",
      "[0 0 1 ... 0 1 2]\n"
     ]
    },
    {
     "data": {
      "text/plain": [
       "0.9527293190770962"
      ]
     },
     "execution_count": 161,
     "metadata": {},
     "output_type": "execute_result"
    }
   ],
   "source": [
    "from sklearn.cluster import KMeans\n",
    "\n",
    "model = KMeans(n_clusters=3, random_state=1)\n",
    "preds = model.fit_predict(matrix.toarray())\n",
    "print (preds)\n",
    "print (simple_dataset.target)\n",
    "validate_with_mappings(preds, simple_dataset.target)"
   ]
  },
  {
   "cell_type": "code",
   "execution_count": 162,
   "metadata": {},
   "outputs": [
    {
     "name": "stdout",
     "output_type": "stream",
     "text": [
      "0.9853603185880773\n"
     ]
    },
    {
     "name": "stderr",
     "output_type": "stream",
     "text": [
      "/Users/xead/anaconda3/lib/python3.6/site-packages/sklearn/model_selection/_split.py:1978: FutureWarning: The default value of cv will change from 3 to 5 in version 0.22. Specify it explicitly to silence this warning.\n",
      "  warnings.warn(CV_WARNING, FutureWarning)\n",
      "/Users/xead/anaconda3/lib/python3.6/site-packages/sklearn/linear_model/logistic.py:432: FutureWarning: Default solver will be changed to 'lbfgs' in 0.22. Specify a solver to silence this warning.\n",
      "  FutureWarning)\n",
      "/Users/xead/anaconda3/lib/python3.6/site-packages/sklearn/linear_model/logistic.py:469: FutureWarning: Default multi_class will be changed to 'auto' in 0.22. Specify the multi_class option to silence this warning.\n",
      "  \"this warning.\", FutureWarning)\n"
     ]
    }
   ],
   "source": [
    "# Compare with Linear Regression\n",
    "from sklearn.linear_model import LogisticRegression\n",
    "clf = LogisticRegression()\n",
    "print (cross_val_score(clf, matrix, simple_dataset.target).mean())"
   ]
  },
  {
   "cell_type": "markdown",
   "metadata": {},
   "source": [
    "**Вопрос:** очень высокая точность кластеризации текстов, очень близкая к точности Supervised алгоритма. Почему?"
   ]
  },
  {
   "cell_type": "markdown",
   "metadata": {},
   "source": [
    "## Более сложная выборка"
   ]
  },
  {
   "cell_type": "code",
   "execution_count": 180,
   "metadata": {},
   "outputs": [],
   "source": [
    "noteasy_dataset = fetch_20newsgroups(\n",
    "    subset='train', \n",
    "    categories=['comp.sys.mac.hardware', 'comp.os.ms-windows.misc', 'comp.graphics'])\n",
    "matrix = vectorizer.fit_transform(noteasy_dataset.data)"
   ]
  },
  {
   "cell_type": "code",
   "execution_count": 181,
   "metadata": {},
   "outputs": [
    {
     "name": "stdout",
     "output_type": "stream",
     "text": [
      "2\n",
      "From: rogntorb@idt.unit.no (Torbj|rn Rognes)\n",
      "Subject: Adding int. hard disk drive to IIcx\n",
      "Keywords: Mac IIcx, internal, hard disk drive, SCSI\n",
      "Reply-To: rogntorb@idt.unit.no (Torbj|rn Rognes)\n",
      "Organization: Div. of CS & Telematics, Norwegian Institute of Technology\n",
      "Lines: 32\n",
      "\n",
      "I haven't seen much info about how to add an extra internal disk to a\n",
      "mac. We would like to try it, and I wonder if someone had some good\n",
      "advice.\n",
      "\n",
      "We have a Mac IIcx with the original internal Quantum 40MB hard disk,\n",
      "and an unusable floppy drive. We also have a new spare Connor 40MB\n",
      "disk which we would like to use. The idea is to replace the broken\n",
      "floppy drive with the new hard disk, but there seems to be some\n",
      "problems:\n",
      "\n",
      "The internal SCSI cable and power cable inside the cx has only\n",
      "connectors for one single hard disk drive.\n",
      "\n",
      "If I made a ribbon cable and a power cable with three connectors each\n",
      "(1 for motherboard, 1 for each of the 2 disks), would it work?\n",
      "\n",
      "Is the IIcx able to supply the extra power to the extra disk?\n",
      "\n",
      "What about terminators? I suppose that i should remove the resistor\n",
      "packs from the disk that is closest to the motherboard, but leave them\n",
      "installed in the other disk.\n",
      "\n",
      "The SCSI ID jumpers should also be changed so that the new disk gets\n",
      "ID #1. The old one should have ID #0.\n",
      "\n",
      "It is no problem for us to remove the floppy drive, as we have an\n",
      "external floppy that we can use if it won't boot of the hard disk.\n",
      "\n",
      "Thank you!\n",
      "\n",
      "----------------------------------------------------------------------\n",
      "Torbj|rn Rognes                            Email: rogntorb@idt.unit.no\n",
      "\n",
      "\n",
      "\n",
      "-------\n",
      "\n",
      "\n",
      "1\n",
      "From: bishop@baeyer.chem.fsu.edu (Greg Bishop)\n",
      "Subject: RE Diamond SS 24X\n",
      "Organization: Physics Department, FSU\n",
      "News-Software: VAX/VMS VNEWS         \n",
      "Reply-To: bishop@baeyer.chem.fsu.edu\n",
      "Lines: 25\n",
      "\n",
      ">Has anyone experienced a faint shadow at all resolutions using this\n",
      ">card. Is only in Windows. I have replaced card and am waiting on \n",
      ">latest drivers. Also have experienced General Protection Fault Errors\n",
      ">in WSPDPSF.DRV on Winword Tools Option menu and in WINFAX setup.\n",
      ">I had a ATI Ultra but was getting Genral Protection Fault errors\n",
      ">in an SPSS application. These card manufactures must have terrible\n",
      ">quality control to let products on the market with so many bugs.\n",
      ">What a hassle. Running on Gateway 2000 DX2/50.\n",
      ">Thx Dave L\n",
      "\n",
      "I have used both version 1.17 drivers for Win 3.1 and the new 2.03 drivers.\n",
      "I have had none of these problems.  No GPF's at all.  I have a feeling that\n",
      "your problems are not with the card or drivers.  The ATI Ultra drivers are\n",
      "considered some of the most reliable on the market, and the SS 24X ones \n",
      "seem quite good as well.  Maybe you should check BIOS problems in your\n",
      "Gateway.  I know a few people with Gateway DX2's, and all of them have\n",
      "found some problem or other with compatibility -- especially with graphics.\n",
      "\n",
      "The only GPF's I have ever had can be directly attributable to using/\n",
      "abusing applications.  I even got the newest drivers from Diamond when \n",
      "people started complaining.  I still only have one small problem with\n",
      "them, and it is that the hardware cursor is slightly jumpy during writes/\n",
      "reads to the swap file.  \n",
      "\n",
      "Greg Bishop.\n",
      "\n",
      "\n",
      "\n",
      "-------\n",
      "\n",
      "\n",
      "1\n",
      "From: ajacobs@nyx.cs.du.edu (Andrew Jacobs)\n",
      "Subject: Re: Using Microsoft Foundation Classes with Borland C++ 3.1\n",
      "Organization: University of Denver, Dept. of Math & Comp. Sci.\n",
      "Distribution: usa\n",
      "Lines: 7\n",
      "\n",
      "Thanks for the info.  I assume that this is for MFC 1.0.  Does anyone\n",
      "know if this will work with MFC 2.0, or what else needs to be done?\n",
      "Thanks.\n",
      "--\n",
      "                                  *     *\n",
      " - Andy Jacobs                       *\n",
      "                                  \\_____/\n",
      "\n",
      "\n",
      "\n",
      "-------\n",
      "\n",
      "\n",
      "0\n",
      "From: borst@cs.utwente.nl (Pim Borst)\n",
      "Subject: PBM-PLUS sources, where?\n",
      "Nntp-Posting-Host: utis116.cs.utwente.nl\n",
      "Organization: University of Twente, Dept. of Computer Science\n",
      "Lines: 7\n",
      "\n",
      "Hi everybody,\n",
      "\n",
      "Can anyone name an anonymous ftp-site where I can find the sources\n",
      "of the PBM-PLUS package (portable bit/gray/pixel map).\n",
      "I would like to compile and run it on a Sun Sparcstation.\n",
      "\n",
      "Thanks!\n",
      "\n",
      "\n",
      "\n",
      "-------\n",
      "\n",
      "\n",
      "0\n",
      "From: jxl9011@ultb.isc.rit.edu (J.X. Lee)\n",
      "Subject: JOB\n",
      "Nntp-Posting-Host: ultb-gw.isc.rit.edu\n",
      "Organization: Rochester Institute of Technology\n",
      "Distribution: SERI\n",
      "Lines: 45\n",
      "\n",
      "\t\t\n",
      "\t              JOB OPPORTUNITY\n",
      "\t\t      ---------------\n",
      "\n",
      "\n",
      "SERI(Systems Engineering Research Institute), of KIST(Korea\n",
      "Institute of Science and Technology) is looking for the resumes\n",
      "for the following position and need them by the end of June (6/30). \n",
      "If you are interested, send resumes to:\n",
      "\n",
      "\tCAD/CAE lab (6th floor)\n",
      "\tSystems Engineering Research Institute\n",
      "\tKorea Institute of Science and Technology \n",
      "\tYousung-Gu, Eoeun-Dong,\n",
      "\tDaejon. Korea\n",
      "\t305-600\n",
      "\n",
      "\n",
      "\tCOMPANY: Systems Engineering Research Institute\n",
      "\n",
      "\tTITLE  : Senior Research Scientist\n",
      "\n",
      "\tJOB DESCRIPTION : In depth knowledge of C.\n",
      "\tWorking knowledge of Computer Aided Design.\n",
      "\tWorking knowledge of Computer Graphics.\n",
      "\tWorking knowledge of Virtual Reality.\n",
      "\tSkills not required but desirable : knowledge of\n",
      "\tdata modeling, virtual reality experience,\n",
      "\tunderstanding of client/server architecture.\n",
      "\n",
      "\tREQUIREMENT : Ph.D\n",
      "\n",
      "\tJOB LOCATION : Daejon, Korea\n",
      "\n",
      "\tContact Info : Chul-Ho, Lim\n",
      "\t\t       CAD/CAE lab (6th floor)\n",
      "\t\t       Systems Engineering Research Institute\n",
      "\t\t       Korea Institute of Science and Technology \n",
      "\t       \t       Yousung-Gu, Eoeun-Dong,\n",
      "\t\t       Daejon. Korea\n",
      "\t\t       305-600\n",
      "\n",
      "\t\t       Phone) 82-42-869-1681\n",
      "\t\t       Fax)   82-42-861-1999 \n",
      "\t\t       E-mail) jxl9011@129.21.200.201\n",
      "\n",
      "\n",
      "\n",
      "-------\n",
      "\n",
      "\n"
     ]
    }
   ],
   "source": [
    "for t, l in zip(noteasy_dataset.data[:5], noteasy_dataset.target[:5]):\n",
    "    print(l)\n",
    "    print(t)\n",
    "    print('\\n\\n-------\\n\\n')"
   ]
  },
  {
   "cell_type": "code",
   "execution_count": 182,
   "metadata": {},
   "outputs": [
    {
     "name": "stdout",
     "output_type": "stream",
     "text": [
      "[0 1 2 ... 0 2 0]\n",
      "[2 1 1 ... 2 0 2]\n"
     ]
    },
    {
     "data": {
      "text/plain": [
       "0.753565316600114"
      ]
     },
     "execution_count": 182,
     "metadata": {},
     "output_type": "execute_result"
    }
   ],
   "source": [
    "model = KMeans(n_clusters=3, random_state=1)\n",
    "preds = model.fit_predict(matrix.toarray())\n",
    "print (preds)\n",
    "print (noteasy_dataset.target)\n",
    "validate_with_mappings(preds, noteasy_dataset.target)"
   ]
  },
  {
   "cell_type": "code",
   "execution_count": 183,
   "metadata": {},
   "outputs": [
    {
     "name": "stdout",
     "output_type": "stream",
     "text": [
      "0.917279226713189\n"
     ]
    },
    {
     "name": "stderr",
     "output_type": "stream",
     "text": [
      "/Users/xead/anaconda3/lib/python3.6/site-packages/sklearn/model_selection/_split.py:1978: FutureWarning: The default value of cv will change from 3 to 5 in version 0.22. Specify it explicitly to silence this warning.\n",
      "  warnings.warn(CV_WARNING, FutureWarning)\n",
      "/Users/xead/anaconda3/lib/python3.6/site-packages/sklearn/linear_model/logistic.py:432: FutureWarning: Default solver will be changed to 'lbfgs' in 0.22. Specify a solver to silence this warning.\n",
      "  FutureWarning)\n",
      "/Users/xead/anaconda3/lib/python3.6/site-packages/sklearn/linear_model/logistic.py:469: FutureWarning: Default multi_class will be changed to 'auto' in 0.22. Specify the multi_class option to silence this warning.\n",
      "  \"this warning.\", FutureWarning)\n"
     ]
    }
   ],
   "source": [
    "clf = LogisticRegression()\n",
    "print (cross_val_score(clf, matrix, noteasy_dataset.target).mean())"
   ]
  },
  {
   "cell_type": "markdown",
   "metadata": {},
   "source": [
    "## SVD + KMeans"
   ]
  },
  {
   "cell_type": "code",
   "execution_count": 184,
   "metadata": {},
   "outputs": [
    {
     "data": {
      "text/plain": [
       "0.793496862521392"
      ]
     },
     "execution_count": 184,
     "metadata": {},
     "output_type": "execute_result"
    }
   ],
   "source": [
    "from sklearn.decomposition import TruncatedSVD\n",
    "\n",
    "model = KMeans(n_clusters=3, random_state=42)\n",
    "svd = TruncatedSVD(n_components=1000, random_state=123)\n",
    "features = svd.fit_transform(matrix)\n",
    "preds = model.fit_predict(features)\n",
    "validate_with_mappings(preds, noteasy_dataset.target)"
   ]
  },
  {
   "cell_type": "code",
   "execution_count": 206,
   "metadata": {},
   "outputs": [
    {
     "data": {
      "text/plain": [
       "0.7347404449515117"
      ]
     },
     "execution_count": 206,
     "metadata": {},
     "output_type": "execute_result"
    }
   ],
   "source": [
    "model = KMeans(n_clusters=3, random_state=42)\n",
    "svd = TruncatedSVD(n_components=200, random_state=321)\n",
    "features = svd.fit_transform(matrix)\n",
    "preds = model.fit_predict(features)\n",
    "validate_with_mappings(preds, noteasy_dataset.target)"
   ]
  },
  {
   "cell_type": "markdown",
   "metadata": {},
   "source": [
    "\n",
    "Подозрительно хорошо. Есть идеи, почему?"
   ]
  },
  {
   "cell_type": "markdown",
   "metadata": {},
   "source": [
    "## Как добиваться разбиения на нужные вам кластеры"
   ]
  },
  {
   "cell_type": "code",
   "execution_count": 186,
   "metadata": {},
   "outputs": [],
   "source": [
    "words_mapping = {\n",
    "    'graphics': 0, \n",
    "    'pixel': 0,\n",
    "    'mac': 2,\n",
    "    'win': 1,\n",
    "    'windows': 1,\n",
    "    'ios': 2,\n",
    "    'macintosh': 2\n",
    "}"
   ]
  },
  {
   "cell_type": "code",
   "execution_count": 187,
   "metadata": {},
   "outputs": [],
   "source": [
    "from collections import defaultdict\n",
    "def dummy_clf(input_text):\n",
    "    scores = defaultdict(int)\n",
    "    words = input_text.lower().split()\n",
    "    for word in words:\n",
    "        l = words_mapping.get(word, -1)\n",
    "        if l != -1:\n",
    "            scores[l] += 1\n",
    "    \n",
    "    if not scores:\n",
    "        return -1\n",
    "    else:\n",
    "        max_score_l, max_score = max(scores.items(), key = lambda z: z[1])\n",
    "        return max_score_l"
   ]
  },
  {
   "cell_type": "code",
   "execution_count": 188,
   "metadata": {},
   "outputs": [
    {
     "data": {
      "text/plain": [
       "0"
      ]
     },
     "execution_count": 188,
     "metadata": {},
     "output_type": "execute_result"
    }
   ],
   "source": [
    "dummy_clf('computer graphics pixel mac')"
   ]
  },
  {
   "cell_type": "code",
   "execution_count": 189,
   "metadata": {},
   "outputs": [
    {
     "data": {
      "text/plain": [
       "0"
      ]
     },
     "execution_count": 189,
     "metadata": {},
     "output_type": "execute_result"
    }
   ],
   "source": [
    "dummy_clf('pixel mac')"
   ]
  },
  {
   "cell_type": "code",
   "execution_count": 190,
   "metadata": {},
   "outputs": [
    {
     "data": {
      "text/plain": [
       "-1"
      ]
     },
     "execution_count": 190,
     "metadata": {},
     "output_type": "execute_result"
    }
   ],
   "source": [
    "dummy_clf('')"
   ]
  },
  {
   "cell_type": "code",
   "execution_count": 191,
   "metadata": {},
   "outputs": [],
   "source": [
    "labels = np.full(len(y), -1.)\n",
    "for i in range(len(labels)):\n",
    "    labels[i] = dummy_clf(noteasy_dataset.data[i])"
   ]
  },
  {
   "cell_type": "code",
   "execution_count": 192,
   "metadata": {},
   "outputs": [
    {
     "data": {
      "text/plain": [
       "{-1.0: 947, 0.0: 186, 1.0: 395, 2.0: 225}"
      ]
     },
     "execution_count": 192,
     "metadata": {},
     "output_type": "execute_result"
    }
   ],
   "source": [
    "unique, counts = np.unique(labels, return_counts=True)\n",
    "dict(zip(unique, counts))"
   ]
  },
  {
   "cell_type": "code",
   "execution_count": 193,
   "metadata": {},
   "outputs": [],
   "source": [
    "unlabeled_indices = [k for k, l in enumerate(labels) if l == -1]"
   ]
  },
  {
   "cell_type": "code",
   "execution_count": 194,
   "metadata": {},
   "outputs": [
    {
     "name": "stderr",
     "output_type": "stream",
     "text": [
      "/Users/xead/anaconda3/lib/python3.6/site-packages/sklearn/semi_supervised/label_propagation.py:288: ConvergenceWarning: max_iter=200 was reached without convergence.\n",
      "  category=ConvergenceWarning\n"
     ]
    }
   ],
   "source": [
    "lp_model = label_propagation.LabelPropagation(kernel='rbf', n_neighbors=10, max_iter=200)#, alpha=0.01)\n",
    "lp_model.fit(matrix.toarray(), labels)\n",
    "\n",
    "predicted_labels = lp_model.transduction_[unlabeled_indices]\n",
    "true_labels = y[unlabeled_indices]\n",
    "\n",
    "cm = confusion_matrix(true_labels, predicted_labels,\n",
    "                          labels=lp_model.classes_)"
   ]
  },
  {
   "cell_type": "code",
   "execution_count": 195,
   "metadata": {},
   "outputs": [
    {
     "name": "stdout",
     "output_type": "stream",
     "text": [
      "[[185 124  60]\n",
      " [ 18 180  13]\n",
      " [ 38  87 242]]\n"
     ]
    }
   ],
   "source": [
    "print(cm)"
   ]
  },
  {
   "cell_type": "code",
   "execution_count": 196,
   "metadata": {},
   "outputs": [
    {
     "data": {
      "text/plain": [
       "0.6409714889123548"
      ]
     },
     "execution_count": 196,
     "metadata": {},
     "output_type": "execute_result"
    }
   ],
   "source": [
    "accuracy_score(true_labels, predicted_labels)"
   ]
  },
  {
   "cell_type": "code",
   "execution_count": null,
   "metadata": {},
   "outputs": [],
   "source": []
  }
 ],
 "metadata": {
  "anaconda-cloud": {},
  "kernelspec": {
   "display_name": "Python 3",
   "language": "python",
   "name": "python3"
  },
  "language_info": {
   "codemirror_mode": {
    "name": "ipython",
    "version": 3
   },
   "file_extension": ".py",
   "mimetype": "text/x-python",
   "name": "python",
   "nbconvert_exporter": "python",
   "pygments_lexer": "ipython3",
   "version": "3.6.5"
  }
 },
 "nbformat": 4,
 "nbformat_minor": 1
}
