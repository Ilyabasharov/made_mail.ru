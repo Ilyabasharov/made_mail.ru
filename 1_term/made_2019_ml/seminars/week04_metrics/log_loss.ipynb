{
 "cells": [
  {
   "cell_type": "markdown",
   "metadata": {},
   "source": [
    "<h2><center>Метрики: LogLoss</center></h2>"
   ]
  },
  {
   "cell_type": "code",
   "execution_count": 3,
   "metadata": {},
   "outputs": [],
   "source": [
    "%matplotlib inline"
   ]
  },
  {
   "cell_type": "code",
   "execution_count": 4,
   "metadata": {},
   "outputs": [],
   "source": [
    "import pandas as pd\n",
    "import numpy as np\n",
    "import matplotlib.pyplot as plt\n",
    "\n",
    "plt.style.use('ggplot')\n",
    "plt.rcParams['figure.figsize'] = (12,8)\n",
    "\n",
    "from ipywidgets import interact, IntSlider, FloatSlider"
   ]
  },
  {
   "cell_type": "markdown",
   "metadata": {},
   "source": [
    "\n",
    "\n",
    "## Метрики классификации\n",
    "\n",
    "* Как правило, классификаторы выдают не просто предсказанную метку класса, но и степень уверенности в ней\n",
    "* Основные меры качества\n",
    "    * Accuracy\n",
    "    * Precision, Recall, F-мера\n",
    "    * ROC-AUC\n",
    "    * **Log-loss**"
   ]
  },
  {
   "cell_type": "markdown",
   "metadata": {},
   "source": [
    "## Precision / Recall\n",
    "* Вычисляются на бинарных предсказания\n",
    "<center><img src=\"https://upload.wikimedia.org/wikipedia/commons/thumb/2/26/Precisionrecall.svg/800px-Precisionrecall.svg.png\" width=40%> </center>"
   ]
  },
  {
   "cell_type": "markdown",
   "metadata": {},
   "source": [
    "## ROC кривая\n",
    "\n",
    "* Выбор порога классификации - отдельная большая задача\n",
    "* Можно ли как-то обойтись без него и сравнить неколько моделей?\n",
    "* ROC кривая - показывает зависимость между TPR (верным предсказанием) и FPR (ложным срабатыванием)\n"
   ]
  },
  {
   "cell_type": "markdown",
   "metadata": {},
   "source": [
    "# LogLoss"
   ]
  },
  {
   "cell_type": "markdown",
   "metadata": {},
   "source": [
    "Метрика бинарной классификации, требует от классификатора вероятностей.\n",
    "* Классификатор $a(x)$ возвращает степень принадлежности к классу \"+1\" - prob(x).\n",
    "* prob(x) удовлетворяет ограничениям вероятности: 0 <= prob(x) <= 1\n",
    "\n",
    "Будем учитывать степень увернности классификатора и сильнее штрафовать за уверенный неправильный ответ"
   ]
  },
  {
   "cell_type": "code",
   "execution_count": 5,
   "metadata": {},
   "outputs": [],
   "source": [
    "def log_loss(y_true, y_pred, eps = 1e-5):\n",
    "    y_clipped = np.clip(y_pred, eps, 1-eps)\n",
    "    return - (y_true * np.log(y_clipped) + (1-y_true)*np.log(1 - y_clipped))"
   ]
  },
  {
   "cell_type": "code",
   "execution_count": 6,
   "metadata": {},
   "outputs": [],
   "source": [
    "y_preds = np.linspace(0, 1, 100)\n",
    "y_true = np.ones_like(y_preds)\n",
    "\n",
    "loss = log_loss(y_true, y_preds)"
   ]
  },
  {
   "cell_type": "code",
   "execution_count": 7,
   "metadata": {},
   "outputs": [
    {
     "data": {
      "text/plain": [
       "Text(0.5, 1.0, 'log loss')"
      ]
     },
     "execution_count": 7,
     "metadata": {},
     "output_type": "execute_result"
    },
    {
     "data": {
      "image/png": "[encoded data removed]",
      "text/plain": [
       "<Figure size 864x576 with 1 Axes>"
      ]
     },
     "metadata": {},
     "output_type": "display_data"
    }
   ],
   "source": [
    "plt.plot(y_preds, loss)\n",
    "plt.xlabel(\"predicted probability\")\n",
    "plt.ylabel(\"loss value\")\n",
    "plt.title(\"log loss\")"
   ]
  },
  {
   "cell_type": "markdown",
   "metadata": {},
   "source": [
    "# Свойства\n",
    "* Для задач бинарной классификации\n",
    "* Оперирует веротяностями принадлежности к классу\n",
    "* Зависит от абсолютных значений (в отличие от ROC-AUC)\n",
    "* Сильно штрафует уверенные неправильные предсказания"
   ]
  },
  {
   "cell_type": "markdown",
   "metadata": {},
   "source": [
    "## Примеры"
   ]
  },
  {
   "cell_type": "code",
   "execution_count": 15,
   "metadata": {},
   "outputs": [],
   "source": [
    "# python: а что произойдет тут с нашей функцией log_loss?\n",
    "from sklearn.metrics import log_loss\n",
    "\n",
    "y_true = np.random.uniform(low=0.0, high=1.0, size=10000) > 0.5\n",
    "y_random = np.random.uniform(low=0.0, high=1.0, size=10000)"
   ]
  },
  {
   "cell_type": "code",
   "execution_count": 16,
   "metadata": {},
   "outputs": [
    {
     "data": {
      "text/plain": [
       "array([False, False,  True, ..., False,  True,  True])"
      ]
     },
     "execution_count": 16,
     "metadata": {},
     "output_type": "execute_result"
    }
   ],
   "source": [
    "y_true"
   ]
  },
  {
   "cell_type": "code",
   "execution_count": 17,
   "metadata": {},
   "outputs": [
    {
     "data": {
      "text/plain": [
       "array([0.03291691, 0.17862927, 0.09826784, ..., 0.70998274, 0.43670794,\n",
       "       0.14742271])"
      ]
     },
     "execution_count": 17,
     "metadata": {},
     "output_type": "execute_result"
    }
   ],
   "source": [
    "y_random"
   ]
  },
  {
   "cell_type": "code",
   "execution_count": 18,
   "metadata": {},
   "outputs": [
    {
     "data": {
      "text/plain": [
       "1.0069731304213787"
      ]
     },
     "execution_count": 18,
     "metadata": {},
     "output_type": "execute_result"
    }
   ],
   "source": [
    "log_loss(y_true, y_random)"
   ]
  },
  {
   "cell_type": "code",
   "execution_count": 19,
   "metadata": {},
   "outputs": [
    {
     "name": "stdout",
     "output_type": "stream",
     "text": [
      "alpha: 0.00, logloss: 1.0070\n",
      "alpha: 0.05, logloss: 0.8407\n",
      "alpha: 0.11, logloss: 0.7383\n",
      "alpha: 0.16, logloss: 0.6563\n",
      "alpha: 0.21, logloss: 0.5864\n",
      "alpha: 0.26, logloss: 0.5248\n",
      "alpha: 0.32, logloss: 0.4693\n",
      "alpha: 0.37, logloss: 0.4186\n",
      "alpha: 0.42, logloss: 0.3718\n",
      "alpha: 0.47, logloss: 0.3282\n",
      "alpha: 0.53, logloss: 0.2874\n",
      "alpha: 0.58, logloss: 0.2490\n",
      "alpha: 0.63, logloss: 0.2126\n",
      "alpha: 0.68, logloss: 0.1781\n",
      "alpha: 0.74, logloss: 0.1452\n",
      "alpha: 0.79, logloss: 0.1137\n",
      "alpha: 0.84, logloss: 0.0836\n",
      "alpha: 0.89, logloss: 0.0547\n",
      "alpha: 0.95, logloss: 0.0268\n",
      "alpha: 1.00, logloss: 0.0000\n"
     ]
    }
   ],
   "source": [
    "for alpha in np.linspace(0, 1, 20):\n",
    "    y_mix = y_true * alpha + y_random * (1-alpha)\n",
    "    ll = log_loss(y_true, y_mix)\n",
    "    print(\"alpha: {:.2f}, logloss: {:.4f}\".format(alpha, ll))"
   ]
  },
  {
   "cell_type": "code",
   "execution_count": 13,
   "metadata": {},
   "outputs": [],
   "source": [
    "# Лик: определение баланса классов"
   ]
  },
  {
   "cell_type": "code",
   "execution_count": 14,
   "metadata": {},
   "outputs": [],
   "source": [
    "# Лик: определение меток через точность"
   ]
  },
  {
   "cell_type": "code",
   "execution_count": null,
   "metadata": {},
   "outputs": [],
   "source": []
  }
 ],
 "metadata": {
  "kernelspec": {
   "display_name": "Python 3",
   "language": "python",
   "name": "python3"
  },
  "language_info": {
   "codemirror_mode": {
    "name": "ipython",
    "version": 3
   },
   "file_extension": ".py",
   "mimetype": "text/x-python",
   "name": "python",
   "nbconvert_exporter": "python",
   "pygments_lexer": "ipython3",
   "version": "3.6.8"
  }
 },
 "nbformat": 4,
 "nbformat_minor": 2
}
