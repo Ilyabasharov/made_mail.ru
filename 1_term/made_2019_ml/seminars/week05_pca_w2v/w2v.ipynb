{
 "cells": [
  {
   "cell_type": "code",
   "execution_count": 1,
   "metadata": {},
   "outputs": [],
   "source": [
    "import pandas as pd\n",
    "from bs4 import BeautifulSoup"
   ]
  },
  {
   "cell_type": "code",
   "execution_count": 2,
   "metadata": {},
   "outputs": [],
   "source": [
    "df = pd.read_csv('train.csv', sep=';')"
   ]
  },
  {
   "cell_type": "code",
   "execution_count": 3,
   "metadata": {},
   "outputs": [],
   "source": [
    "texts = df['text']"
   ]
  },
  {
   "cell_type": "code",
   "execution_count": 7,
   "metadata": {},
   "outputs": [],
   "source": [
    "from pymystem3 import Mystem\n",
    "morph = Mystem()"
   ]
  },
  {
   "cell_type": "code",
   "execution_count": 8,
   "metadata": {},
   "outputs": [
    {
     "name": "stderr",
     "output_type": "stream",
     "text": [
      "[nltk_data] Downloading package punkt to\n",
      "[nltk_data]     /home/petr.ermakov/nltk_data...\n",
      "[nltk_data]   Package punkt is already up-to-date!\n"
     ]
    }
   ],
   "source": [
    "import re\n",
    "import nltk\n",
    "nltk.download('punkt')\n",
    "\n",
    "def text_to_sent(t):\n",
    "    text = BeautifulSoup(t).text.lower()\n",
    "    tokenizer = nltk.data.load('tokenizers/punkt/russian.pickle')\n",
    "    raw_sentences = tokenizer.tokenize(text.strip())\n",
    "    raw_sentences = [x.split(';') for x in raw_sentences]\n",
    "    raw_sentences = sum(raw_sentences, [])\n",
    "    sentences = [morph.lemmatize(x) for x in raw_sentences]\n",
    "    return [[y for y in x if re.match('[а-яёa-z0-9]', y)]\n",
    "            for x in sentences]"
   ]
  },
  {
   "cell_type": "code",
   "execution_count": 9,
   "metadata": {},
   "outputs": [
    {
     "data": {
      "text/plain": [
       "[['в',\n",
       "  'молодой',\n",
       "  'и',\n",
       "  'дружный',\n",
       "  'коллектив',\n",
       "  'динамично',\n",
       "  'развиваться',\n",
       "  'компания',\n",
       "  'требоваться',\n",
       "  'разработчик',\n",
       "  'ведущий',\n",
       "  'разработчик',\n",
       "  'oracle',\n",
       "  'siebel',\n",
       "  'crm',\n",
       "  'требование',\n",
       "  'опыт',\n",
       "  'работа',\n",
       "  'с',\n",
       "  'oracle',\n",
       "  'siebel',\n",
       "  'crm',\n",
       "  'от',\n",
       "  '2',\n",
       "  'год'],\n",
       " ['обязательно',\n",
       "  'знание',\n",
       "  'siebel',\n",
       "  'tools',\n",
       "  'runtime',\n",
       "  'events',\n",
       "  'workflow',\n",
       "  'dvm',\n",
       "  'eai',\n",
       "  'eim',\n",
       "  'escript',\n",
       "  'sql'],\n",
       " ['желательный',\n",
       "  'знание',\n",
       "  'siebel',\n",
       "  'loyalty',\n",
       "  'siebel',\n",
       "  'financial',\n",
       "  'services',\n",
       "  'cti'],\n",
       " ['технический', 'английский', 'язык'],\n",
       " ['высокий', 'технический', 'образование'],\n",
       " ['обязанность',\n",
       "  'проектирование',\n",
       "  'система',\n",
       "  'и',\n",
       "  'подготовка',\n",
       "  'технический',\n",
       "  'документация'],\n",
       " ['разработка',\n",
       "  'функциональность',\n",
       "  'и',\n",
       "  'интеграция',\n",
       "  'в',\n",
       "  'соответствие',\n",
       "  'с',\n",
       "  'требование'],\n",
       " ['оптимизация',\n",
       "  'производительность',\n",
       "  'система',\n",
       "  'анализ',\n",
       "  'ошибка',\n",
       "  'и',\n",
       "  'сбой'],\n",
       " ['участие', 'во', 'встреча', 'с', 'бизнес', 'заказчик'],\n",
       " ['условие',\n",
       "  'возможность',\n",
       "  'профессиональный',\n",
       "  'и',\n",
       "  'карьерный',\n",
       "  'рост',\n",
       "  'в',\n",
       "  'динамично',\n",
       "  'развиваться',\n",
       "  'компания'],\n",
       " ['заработный',\n",
       "  'плата',\n",
       "  'обсуждаться',\n",
       "  'индивидуально',\n",
       "  'программа',\n",
       "  'внутренний',\n",
       "  'обучение',\n",
       "  'сертификация'],\n",
       " ['оформление', 'по', 'тк'],\n",
       " ['дмс', 'английский']]"
      ]
     },
     "execution_count": 9,
     "metadata": {},
     "output_type": "execute_result"
    }
   ],
   "source": [
    "text_to_sent(texts[0])"
   ]
  },
  {
   "cell_type": "code",
   "execution_count": 10,
   "metadata": {},
   "outputs": [
    {
     "name": "stderr",
     "output_type": "stream",
     "text": [
      "100%|██████████| 31063/31063 [03:59<00:00, 129.48it/s]\n"
     ]
    }
   ],
   "source": [
    "from tqdm import tqdm\n",
    "sentences = []\n",
    "for text in tqdm(texts):\n",
    "    sentences += text_to_sent(text)"
   ]
  },
  {
   "cell_type": "code",
   "execution_count": 12,
   "metadata": {},
   "outputs": [
    {
     "name": "stderr",
     "output_type": "stream",
     "text": [
      "100%|██████████| 31064/31064 [04:05<00:00, 126.75it/s]\n"
     ]
    }
   ],
   "source": [
    "for text in tqdm(pd.read_csv('test.csv', sep=';')['text']):\n",
    "    sentences += text_to_sent(text)"
   ]
  },
  {
   "cell_type": "code",
   "execution_count": 13,
   "metadata": {},
   "outputs": [
    {
     "data": {
      "text/plain": [
       "688302"
      ]
     },
     "execution_count": 13,
     "metadata": {},
     "output_type": "execute_result"
    }
   ],
   "source": [
    "len(sentences)"
   ]
  },
  {
   "cell_type": "code",
   "execution_count": 14,
   "metadata": {},
   "outputs": [],
   "source": [
    "from gensim.models.word2vec import Word2Vec \n",
    "\n",
    "num_features = 300  # итоговая размерность вектора каждого слова\n",
    "min_word_count = 5  # минимальная частотность слова, чтобы оно попало в модель\n",
    "num_workers = 8     # количество ядер вашего процессора, чтоб запустить обучение в несколько потоков\n",
    "context = 10        # размер окна \n",
    "downsampling = 1e-3 # внутренняя метрика модели\n",
    "\n",
    "model = Word2Vec(sentences, workers=num_workers, size=num_features,\n",
    "                 min_count=min_word_count, window=context, sample=downsampling)"
   ]
  },
  {
   "cell_type": "code",
   "execution_count": 15,
   "metadata": {},
   "outputs": [],
   "source": [
    "model.init_sims(replace=True)"
   ]
  },
  {
   "cell_type": "code",
   "execution_count": 16,
   "metadata": {},
   "outputs": [
    {
     "name": "stderr",
     "output_type": "stream",
     "text": [
      "/usr/lib/python3.6/site-packages/ipykernel_launcher.py:1: DeprecationWarning: Call to deprecated `most_similar` (Method will be removed in 4.0.0, use self.wv.most_similar() instead).\n",
      "  \"\"\"Entry point for launching an IPython kernel.\n"
     ]
    },
    {
     "data": {
      "text/plain": [
       "[('втб', 0.658713698387146),\n",
       " ('мтс', 0.6366663575172424),\n",
       " ('ростелеком', 0.6092284917831421),\n",
       " ('альфа-банк', 0.5917276740074158),\n",
       " ('тинькофф', 0.5750815868377686),\n",
       " ('процессинг', 0.5739871263504028),\n",
       " ('промсвязьбанк', 0.5734691619873047),\n",
       " ('втб24', 0.5692766308784485),\n",
       " ('газпром', 0.5632192492485046),\n",
       " ('финтех', 0.5550127625465393)]"
      ]
     },
     "execution_count": 16,
     "metadata": {},
     "output_type": "execute_result"
    }
   ],
   "source": [
    "model.most_similar(['сбербанк'])"
   ]
  },
  {
   "cell_type": "code",
   "execution_count": null,
   "metadata": {},
   "outputs": [],
   "source": []
  },
  {
   "cell_type": "code",
   "execution_count": null,
   "metadata": {},
   "outputs": [],
   "source": []
  },
  {
   "cell_type": "code",
   "execution_count": null,
   "metadata": {},
   "outputs": [],
   "source": []
  },
  {
   "cell_type": "code",
   "execution_count": null,
   "metadata": {},
   "outputs": [],
   "source": []
  },
  {
   "cell_type": "code",
   "execution_count": null,
   "metadata": {},
   "outputs": [],
   "source": []
  },
  {
   "cell_type": "code",
   "execution_count": null,
   "metadata": {},
   "outputs": [],
   "source": []
  },
  {
   "cell_type": "code",
   "execution_count": null,
   "metadata": {},
   "outputs": [],
   "source": []
  },
  {
   "cell_type": "code",
   "execution_count": 12,
   "metadata": {},
   "outputs": [],
   "source": []
  },
  {
   "cell_type": "code",
   "execution_count": null,
   "metadata": {},
   "outputs": [],
   "source": []
  },
  {
   "cell_type": "code",
   "execution_count": 18,
   "metadata": {},
   "outputs": [],
   "source": [
    "import numpy as np\n",
    "\n",
    "index2word_set = set(model.wv.index2word)\n",
    "\n",
    "def text_to_vec(words):\n",
    "    text_vec = np.zeros((300,), dtype=\"float32\")\n",
    "    n_words = 0\n",
    "    for word in words:\n",
    "        if word in index2word_set:\n",
    "            n_words = n_words + 1\n",
    "            text_vec = np.add(text_vec, model.wv[word])\n",
    "    \n",
    "    if n_words != 0:\n",
    "        text_vec /= n_words\n",
    "    return text_vec\n",
    "\n",
    "\n",
    "texts_vecs = np.zeros((len(df['text']), 300), dtype=\"float32\")\n",
    "\n",
    "for i, text in enumerate(df['text']):\n",
    "    s = text_to_sent(text)\n",
    "    s = sum(s, [])\n",
    "    texts_vecs[i] = text_to_vec(s)"
   ]
  },
  {
   "cell_type": "code",
   "execution_count": null,
   "metadata": {},
   "outputs": [],
   "source": []
  },
  {
   "cell_type": "code",
   "execution_count": 19,
   "metadata": {},
   "outputs": [
    {
     "name": "stdout",
     "output_type": "stream",
     "text": [
      "<p>В молодой и дружный коллектив динамично развивающейся компании требуется Разработчик/Ведущий разработчик Oracle Siebel CRM</p> <p><strong>Требования:</strong></p> <ul> <li>Опыт работы с <strong>Oracle Siebel CRM от 2 лет</strong>;</li> <li>Обязательно знание: Siebel Tools, Runtime Events, Workflow, DVM, EAI, EIM, eScript, SQL;</li> <li>Желательные знания: Siebel Loyalty, Siebel Financial Services, CTI;</li> <li>Технический английский язык;</li> <li>Высшее техническое образование.</li> </ul> <p><strong>Обязанности:</strong></p> <ul> <li>Проектирование системы и подготовка технической документации;</li> <li>Разработка функциональности и интеграции в соответствии с требованиями;</li> <li>Оптимизация производительности системы, анализ ошибок и сбоев;</li> <li>Участие во встречах с бизнес заказчиками.</li> </ul> <p><strong>Условия:</strong></p> <ul> <li>Возможность профессионального и карьерного роста в динамично развивающейся компании;</li> <li>Заработная плата обсуждается индивидуально</li> <li>Программы внутреннего обучения, сертификация;​</li> <li>Оформление по ТК;</li> <li>ДМС, английский</li> </ul>\n",
      "<p>Компания <strong>Jet Infosystems</strong> приглашает в свою команду <strong>Разработчика </strong><strong>Siebel</strong></p> <p><strong>Требования:</strong></p> <ul> <li>Высшее техническое образование</li> <li>Опыт работы от 1 ого года с Oracle Siebel CRM в качестве разработчика</li> <li>Обязательно знание: Siebel Tools, eScript, Workflow, Task UI, Assignment Manager, DVM, Runtime Events, EAI, EIM, SQL и PL SQL, Performance Tuning (опионально), BI Publisher (опционально)</li> <li>Технический английский язык</li> </ul> <p><br /><strong>Обязанности:</strong></p> <ul> <li>Разработка технически сложного функционала по техническому заданию</li> <li>Управление командой разработчиков</li> <li>Планирование и распределение задач в группе</li> <li>Участие в создании Gap-resolution и технических дизайнов</li> <li>Контроль сроков и качества исполнения</li> </ul> <p><strong>Условия:</strong></p> <ul> <li>Работа в команде профессионалов, с возможностью карьерного и профессионального роста;</li> <li>Высокий оклад + бонусы по итогам работы в проекте;</li> <li>Оформление по Трудовому Кодексу РФ;</li> <li>Английский язык, компенсация за спорт;</li> <li>Компания оплачивает обучение и сертификацию.</li> </ul>\n"
     ]
    }
   ],
   "source": [
    "from sklearn.metrics.pairwise import cosine_distances\n",
    "\n",
    "m = cosine_distances(texts_vecs)\n",
    "\n",
    "m[0][1:].argmin()\n",
    "\n",
    "m[0][10639+1]\n",
    "\n",
    "print(df['text'][0])\n",
    "\n",
    "print(df['text'][10639+1])"
   ]
  },
  {
   "cell_type": "code",
   "execution_count": null,
   "metadata": {},
   "outputs": [],
   "source": []
  },
  {
   "cell_type": "code",
   "execution_count": 20,
   "metadata": {},
   "outputs": [
    {
     "name": "stderr",
     "output_type": "stream",
     "text": [
      "/home/petr.ermakov/.local/lib/python3.6/site-packages/sklearn/linear_model/logistic.py:433: FutureWarning: Default solver will be changed to 'lbfgs' in 0.22. Specify a solver to silence this warning.\n",
      "  FutureWarning)\n",
      "/home/petr.ermakov/.local/lib/python3.6/site-packages/sklearn/linear_model/logistic.py:460: FutureWarning: Default multi_class will be changed to 'auto' in 0.22. Specify the multi_class option to silence this warning.\n",
      "  \"this warning.\", FutureWarning)\n"
     ]
    },
    {
     "data": {
      "text/plain": [
       "0.8949370793093356"
      ]
     },
     "execution_count": 20,
     "metadata": {},
     "output_type": "execute_result"
    }
   ],
   "source": [
    "from sklearn.model_selection import train_test_split\n",
    "\n",
    "X_train, X_test, y_train, y_test = train_test_split(\n",
    "    texts_vecs, df['target'],\n",
    "    test_size=0.33, random_state=42)\n",
    "\n",
    "from sklearn.linear_model import LogisticRegression\n",
    "\n",
    "lr = LogisticRegression()\n",
    "lr.fit(X_train, y_train)\n",
    "pred = lr.predict(X_test)\n",
    "\n",
    "from sklearn.metrics import accuracy_score\n",
    "\n",
    "accuracy_score(y_test, pred)"
   ]
  },
  {
   "cell_type": "code",
   "execution_count": 21,
   "metadata": {},
   "outputs": [],
   "source": [
    "from sklearn.cluster import KMeans"
   ]
  },
  {
   "cell_type": "code",
   "execution_count": 22,
   "metadata": {},
   "outputs": [
    {
     "name": "stderr",
     "output_type": "stream",
     "text": [
      "/usr/lib/python3.6/site-packages/ipykernel_launcher.py:1: DeprecationWarning: Call to deprecated `syn0` (Attribute will be removed in 4.0.0, use self.vectors instead).\n",
      "  \"\"\"Entry point for launching an IPython kernel.\n"
     ]
    }
   ],
   "source": [
    "word_vectors = model.wv.syn0"
   ]
  },
  {
   "cell_type": "code",
   "execution_count": 23,
   "metadata": {},
   "outputs": [
    {
     "data": {
      "text/plain": [
       "(27262, 300)"
      ]
     },
     "execution_count": 23,
     "metadata": {},
     "output_type": "execute_result"
    }
   ],
   "source": [
    "word_vectors.shape"
   ]
  },
  {
   "cell_type": "code",
   "execution_count": 24,
   "metadata": {},
   "outputs": [],
   "source": [
    "num_clusters = 8000"
   ]
  },
  {
   "cell_type": "code",
   "execution_count": null,
   "metadata": {},
   "outputs": [],
   "source": []
  },
  {
   "cell_type": "code",
   "execution_count": null,
   "metadata": {},
   "outputs": [],
   "source": [
    "kmeans_clustering = KMeans(n_clusters=num_clusters, n_jobs=-1)\n",
    "idx = kmeans_clustering.fit_predict(word_vectors)"
   ]
  },
  {
   "cell_type": "code",
   "execution_count": null,
   "metadata": {},
   "outputs": [],
   "source": [
    "word_centroid_map = dict(zip( model.wv.index2word, idx ))"
   ]
  },
  {
   "cell_type": "code",
   "execution_count": null,
   "metadata": {
    "scrolled": false
   },
   "outputs": [],
   "source": [
    "for cluster in range(0,30):\n",
    "    print(\"\\nCluster %d\" % cluster)\n",
    "    \n",
    "    words = []\n",
    "    for i in range(0,len(word_centroid_map.values())):\n",
    "        if( list(word_centroid_map.values())[i] == cluster ):\n",
    "            words.append(list(word_centroid_map.keys())[i])\n",
    "    print(words)"
   ]
  },
  {
   "cell_type": "code",
   "execution_count": null,
   "metadata": {},
   "outputs": [],
   "source": []
  },
  {
   "cell_type": "code",
   "execution_count": null,
   "metadata": {},
   "outputs": [],
   "source": []
  }
 ],
 "metadata": {
  "kernelspec": {
   "display_name": "Python 3",
   "language": "python",
   "name": "python3"
  },
  "language_info": {
   "codemirror_mode": {
    "name": "ipython",
    "version": 3
   },
   "file_extension": ".py",
   "mimetype": "text/x-python",
   "name": "python",
   "nbconvert_exporter": "python",
   "pygments_lexer": "ipython3",
   "version": "3.7.3"
  }
 },
 "nbformat": 4,
 "nbformat_minor": 2
}
