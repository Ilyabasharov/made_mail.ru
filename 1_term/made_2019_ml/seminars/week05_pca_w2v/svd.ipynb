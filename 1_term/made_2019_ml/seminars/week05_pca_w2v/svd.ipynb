{
 "cells": [
  {
   "cell_type": "code",
   "execution_count": 1,
   "metadata": {},
   "outputs": [],
   "source": [
    "from sklearn import datasets\n",
    "digits = datasets.load_digits()"
   ]
  },
  {
   "cell_type": "code",
   "execution_count": 9,
   "metadata": {},
   "outputs": [
    {
     "data": {
      "text/plain": [
       "(1797, 8, 8)"
      ]
     },
     "execution_count": 9,
     "metadata": {},
     "output_type": "execute_result"
    }
   ],
   "source": [
    "digits['images'].shape"
   ]
  },
  {
   "cell_type": "code",
   "execution_count": 19,
   "metadata": {},
   "outputs": [],
   "source": [
    "%matplotlib inline\n",
    "import matplotlib.pyplot as plt"
   ]
  },
  {
   "cell_type": "code",
   "execution_count": 11,
   "metadata": {},
   "outputs": [
    {
     "data": {
      "image/png": "[encoded data removed]",
      "text/plain": [
       "<Figure size 432x288 with 4 Axes>"
      ]
     },
     "metadata": {
      "needs_background": "light"
     },
     "output_type": "display_data"
    }
   ],
   "source": [
    "images_and_labels = list(zip(digits.images, digits.target))\n",
    "for index, (image, label) in enumerate(images_and_labels[:4]):\n",
    "    plt.subplot(2, 4, index + 1)\n",
    "    plt.axis('off')\n",
    "    plt.imshow(image, cmap=plt.cm.gray_r, interpolation='nearest')\n",
    "    plt.title('Training: %i' % label)"
   ]
  },
  {
   "cell_type": "code",
   "execution_count": null,
   "metadata": {},
   "outputs": [],
   "source": []
  },
  {
   "cell_type": "code",
   "execution_count": 16,
   "metadata": {},
   "outputs": [
    {
     "data": {
      "text/plain": [
       "array([[ 0.,  0.,  5., 13.,  9.,  1.,  0.,  0.],\n",
       "       [ 0.,  0., 13., 15., 10., 15.,  5.,  0.],\n",
       "       [ 0.,  3., 15.,  2.,  0., 11.,  8.,  0.],\n",
       "       [ 0.,  4., 12.,  0.,  0.,  8.,  8.,  0.],\n",
       "       [ 0.,  5.,  8.,  0.,  0.,  9.,  8.,  0.],\n",
       "       [ 0.,  4., 11.,  0.,  1., 12.,  7.,  0.],\n",
       "       [ 0.,  2., 14.,  5., 10., 12.,  0.,  0.],\n",
       "       [ 0.,  0.,  6., 13., 10.,  0.,  0.,  0.]])"
      ]
     },
     "execution_count": 16,
     "metadata": {},
     "output_type": "execute_result"
    },
    {
     "data": {
      "image/png": "[encoded data removed]",
      "text/plain": [
       "<Figure size 432x288 with 1 Axes>"
      ]
     },
     "metadata": {
      "needs_background": "light"
     },
     "output_type": "display_data"
    }
   ],
   "source": [
    "plt.axis('off')\n",
    "plt.imshow(images_and_labels[0][0], cmap=plt.cm.gray_r, interpolation='nearest')\n",
    "images_and_labels[0][0]"
   ]
  },
  {
   "cell_type": "code",
   "execution_count": 47,
   "metadata": {},
   "outputs": [],
   "source": [
    "import numpy as np"
   ]
  },
  {
   "cell_type": "code",
   "execution_count": 48,
   "metadata": {},
   "outputs": [],
   "source": [
    "U, s, V = np.linalg.svd(images_and_labels[0][0], full_matrices=False)"
   ]
  },
  {
   "cell_type": "code",
   "execution_count": 64,
   "metadata": {},
   "outputs": [
    {
     "data": {
      "text/plain": [
       "<matplotlib.image.AxesImage at 0x7f90a63ca780>"
      ]
     },
     "execution_count": 64,
     "metadata": {},
     "output_type": "execute_result"
    },
    {
     "data": {
      "image/png": "[encoded data removed]",
      "text/plain": [
       "<Figure size 432x288 with 1 Axes>"
      ]
     },
     "metadata": {
      "needs_background": "light"
     },
     "output_type": "display_data"
    }
   ],
   "source": [
    "plt.axis('off')\n",
    "plt.imshow(np.dot(U, U.T), cmap=plt.cm.gray_r, interpolation='nearest')\n",
    "#plt.imshow(np.dot(V, V.T), cmap=plt.cm.gray_r, interpolation='nearest')"
   ]
  },
  {
   "cell_type": "code",
   "execution_count": 56,
   "metadata": {},
   "outputs": [],
   "source": [
    "svd_res = np.dot(np.dot(U, np.diag(s)), V)"
   ]
  },
  {
   "cell_type": "code",
   "execution_count": 57,
   "metadata": {},
   "outputs": [
    {
     "data": {
      "text/plain": [
       "array([[ 0.00000000e+00,  3.21892752e-15,  5.00000000e+00,\n",
       "         1.30000000e+01,  9.00000000e+00,  1.00000000e+00,\n",
       "         4.47976567e-15,  0.00000000e+00],\n",
       "       [ 0.00000000e+00,  1.84384467e-15,  1.30000000e+01,\n",
       "         1.50000000e+01,  1.00000000e+01,  1.50000000e+01,\n",
       "         5.00000000e+00,  0.00000000e+00],\n",
       "       [ 0.00000000e+00,  3.00000000e+00,  1.50000000e+01,\n",
       "         2.00000000e+00,  4.80647236e-15,  1.10000000e+01,\n",
       "         8.00000000e+00,  0.00000000e+00],\n",
       "       [ 0.00000000e+00,  4.00000000e+00,  1.20000000e+01,\n",
       "        -6.41232654e-17, -6.56410237e-16,  8.00000000e+00,\n",
       "         8.00000000e+00,  0.00000000e+00],\n",
       "       [ 0.00000000e+00,  5.00000000e+00,  8.00000000e+00,\n",
       "         1.72592881e-15,  4.01263161e-15,  9.00000000e+00,\n",
       "         8.00000000e+00,  0.00000000e+00],\n",
       "       [ 0.00000000e+00,  4.00000000e+00,  1.10000000e+01,\n",
       "         4.66580650e-15,  1.00000000e+00,  1.20000000e+01,\n",
       "         7.00000000e+00,  0.00000000e+00],\n",
       "       [ 0.00000000e+00,  2.00000000e+00,  1.40000000e+01,\n",
       "         5.00000000e+00,  1.00000000e+01,  1.20000000e+01,\n",
       "         6.20047492e-15,  0.00000000e+00],\n",
       "       [ 0.00000000e+00,  2.75076216e-15,  6.00000000e+00,\n",
       "         1.30000000e+01,  1.00000000e+01,  1.15607021e-14,\n",
       "         4.61629139e-15,  0.00000000e+00]])"
      ]
     },
     "execution_count": 57,
     "metadata": {},
     "output_type": "execute_result"
    },
    {
     "data": {
      "image/png": "[encoded data removed]",
      "text/plain": [
       "<Figure size 432x288 with 1 Axes>"
      ]
     },
     "metadata": {
      "needs_background": "light"
     },
     "output_type": "display_data"
    }
   ],
   "source": [
    "plt.axis('off')\n",
    "plt.imshow(svd_res, cmap=plt.cm.gray_r, interpolation='nearest')\n",
    "svd_res"
   ]
  },
  {
   "cell_type": "code",
   "execution_count": 67,
   "metadata": {},
   "outputs": [
    {
     "data": {
      "image/png": "[encoded data removed]",
      "text/plain": [
       "<Figure size 432x288 with 1 Axes>"
      ]
     },
     "metadata": {
      "needs_background": "light"
     },
     "output_type": "display_data"
    }
   ],
   "source": [
    "k = 5\n",
    "reconst_matrix = np.dot(U[:,:k],np.dot(np.diag(s[:k]),V[:k,:]))\n",
    "\n",
    "plt.axis('off')\n",
    "plt.imshow(reconst_matrix, cmap=plt.cm.gray_r, interpolation='nearest');"
   ]
  },
  {
   "cell_type": "code",
   "execution_count": null,
   "metadata": {},
   "outputs": [],
   "source": []
  },
  {
   "cell_type": "code",
   "execution_count": null,
   "metadata": {},
   "outputs": [],
   "source": []
  },
  {
   "cell_type": "code",
   "execution_count": 1,
   "metadata": {},
   "outputs": [],
   "source": [
    "from numpy.linalg import svd"
   ]
  },
  {
   "cell_type": "code",
   "execution_count": 13,
   "metadata": {},
   "outputs": [],
   "source": [
    "def compress_svd(image,k):\n",
    "    U,s,V = svd(image,full_matrices=False)\n",
    "    reconst_matrix = np.dot(U[:,:k],np.dot(np.diag(s[:k]),V[:k,:]))\n",
    "    return reconst_matrix,s"
   ]
  },
  {
   "cell_type": "code",
   "execution_count": 17,
   "metadata": {},
   "outputs": [],
   "source": [
    "def compress_show_gray_images(img_name,k):\n",
    "    image=gray_images[img_name]\n",
    "    original_shape = image.shape\n",
    "    reconst_img,s = compress_svd(image,k)\n",
    "    fig,axes = plt.subplots(1,2,figsize=(8,5))\n",
    "    axes[0].plot(s)\n",
    "    compression_ratio =100.0* (k*(original_shape[0] + original_shape[1])+k)/(original_shape[0]*original_shape[1])\n",
    "    axes[1].set_title(\"compression ratio={:.2f}\".format(compression_ratio)+\"%\")\n",
    "    axes[1].imshow(reconst_img,cmap='gray')\n",
    "    axes[1].axis('off')\n",
    "    fig.tight_layout()"
   ]
  },
  {
   "cell_type": "code",
   "execution_count": 20,
   "metadata": {},
   "outputs": [
    {
     "data": {
      "application/vnd.jupyter.widget-view+json": {
       "model_id": "5c260e96a76b40cdab63b62ce9ccf56b",
       "version_major": 2,
       "version_minor": 0
      },
      "text/plain": [
       "interactive(children=(Dropdown(description='img_name', options=('cat', 'astro', 'camera', 'coin', 'clock', 'bl…"
      ]
     },
     "metadata": {},
     "output_type": "display_data"
    }
   ],
   "source": [
    "from PIL import Image\n",
    "import requests\n",
    "import numpy as np\n",
    "import warnings\n",
    "warnings.filterwarnings('ignore')\n",
    "from skimage import data\n",
    "from skimage.color import rgb2gray\n",
    "from skimage import img_as_ubyte,img_as_float\n",
    "gray_images = {\n",
    "        \"cat\":rgb2gray(img_as_float(data.chelsea())),\n",
    "        \"astro\":rgb2gray(img_as_float(data.astronaut())),\n",
    "        \"camera\":data.camera(),\n",
    "        \"coin\": data.coins(),\n",
    "        \"clock\":data.clock(),\n",
    "        \"blobs\":data.binary_blobs(),\n",
    "        \"coffee\":rgb2gray(img_as_float(data.coffee()))\n",
    "}\n",
    "\n",
    "from ipywidgets import interact, IntSlider, FloatSlider\n",
    "\n",
    "interact(compress_show_gray_images,\n",
    "         img_name=list(gray_images.keys()),\n",
    "         k=(1,300));"
   ]
  },
  {
   "cell_type": "code",
   "execution_count": null,
   "metadata": {},
   "outputs": [],
   "source": []
  },
  {
   "cell_type": "code",
   "execution_count": null,
   "metadata": {},
   "outputs": [],
   "source": []
  }
 ],
 "metadata": {
  "kernelspec": {
   "display_name": "Python 3",
   "language": "python",
   "name": "python3"
  },
  "language_info": {
   "codemirror_mode": {
    "name": "ipython",
    "version": 3
   },
   "file_extension": ".py",
   "mimetype": "text/x-python",
   "name": "python",
   "nbconvert_exporter": "python",
   "pygments_lexer": "ipython3",
   "version": "3.6.8"
  }
 },
 "nbformat": 4,
 "nbformat_minor": 2
}
